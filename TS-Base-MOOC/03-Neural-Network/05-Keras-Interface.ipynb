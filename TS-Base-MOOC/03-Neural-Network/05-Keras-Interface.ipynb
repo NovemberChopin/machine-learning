{
 "cells": [
  {
   "cell_type": "markdown",
   "metadata": {},
   "source": [
    "# Keras 高层接口"
   ]
  },
  {
   "cell_type": "markdown",
   "metadata": {},
   "source": [
    "### 1. 常见网络层类"
   ]
  },
  {
   "cell_type": "code",
   "execution_count": 1,
   "metadata": {},
   "outputs": [],
   "source": [
    "import tensorflow as tf\n",
    "from tensorflow import keras\n",
    "from tensorflow.keras import layers, Sequential, metrics"
   ]
  },
  {
   "cell_type": "markdown",
   "metadata": {},
   "source": [
    "- 在 `tf.keras.layers` 命名空间(下文使用 `layers` 指代 `tf.keras.layers`)中提供了大量常见网络层的类\n",
    "- 如全连接层、激活函数层、池化层、卷积层、循环神经网络层等。\n",
    "- 对于这些网络 层类，只需要在创建时指定网络层的相关参数，并调用`__call__`方法即可完成前向计算。\n",
    "- 在 调用`__call__`方法时，`Keras` 会自动调用每个层的前向传播逻辑，这些逻辑一般实现在类的 `call` 函数中。 "
   ]
  },
  {
   "cell_type": "code",
   "execution_count": 2,
   "metadata": {},
   "outputs": [
    {
     "data": {
      "text/plain": [
       "<tf.Tensor: id=2, shape=(3,), dtype=float32, numpy=array([0.6590012 , 0.24243298, 0.09856589], dtype=float32)>"
      ]
     },
     "execution_count": 2,
     "metadata": {},
     "output_type": "execute_result"
    }
   ],
   "source": [
    "x = tf.constant([2., 1., 0.1])\n",
    "layer = layers.Softmax(axis=-1)\n",
    "out = layer(x)\n",
    "out\n",
    "# out = tf.nn.softmax(x)"
   ]
  },
  {
   "cell_type": "markdown",
   "metadata": {},
   "source": [
    "**Sequential**"
   ]
  },
  {
   "cell_type": "code",
   "execution_count": 3,
   "metadata": {},
   "outputs": [
    {
     "data": {
      "text/plain": [
       "<tf.Tensor: id=62, shape=(4, 2), dtype=float32, numpy=\n",
       "array([[0.        , 0.        ],\n",
       "       [0.        , 0.6055509 ],\n",
       "       [0.        , 0.08298903],\n",
       "       [0.        , 2.9622707 ]], dtype=float32)>"
      ]
     },
     "execution_count": 3,
     "metadata": {},
     "output_type": "execute_result"
    }
   ],
   "source": [
    "network = Sequential([\n",
    "    layers.Dense(3, activation=None),\n",
    "    layers.ReLU(),\n",
    "    layers.Dense(2, activation=None),\n",
    "    layers.ReLU()\n",
    "])\n",
    "x = tf.random.normal([4,3]) \n",
    "out = network(x) # 输入从第一层开始，逐层传播至输出层，并返回输出层的输出 \n",
    "out"
   ]
  },
  {
   "cell_type": "markdown",
   "metadata": {},
   "source": [
    "- `Sequential` 容器也可以通过 `add()`方法继续追加新的网络层，实现动态创建网络的功能"
   ]
  },
  {
   "cell_type": "code",
   "execution_count": 4,
   "metadata": {},
   "outputs": [
    {
     "name": "stdout",
     "output_type": "stream",
     "text": [
      "Model: \"sequential_1\"\n",
      "_________________________________________________________________\n",
      "Layer (type)                 Output Shape              Param #   \n",
      "=================================================================\n",
      "dense_2 (Dense)              multiple                  15        \n",
      "_________________________________________________________________\n",
      "re_lu_2 (ReLU)               multiple                  0         \n",
      "_________________________________________________________________\n",
      "dense_3 (Dense)              multiple                  12        \n",
      "_________________________________________________________________\n",
      "re_lu_3 (ReLU)               multiple                  0         \n",
      "=================================================================\n",
      "Total params: 27\n",
      "Trainable params: 27\n",
      "Non-trainable params: 0\n",
      "_________________________________________________________________\n"
     ]
    }
   ],
   "source": [
    "layers_num = 2\n",
    "network = Sequential([])\n",
    "for _ in range(layers_num):\n",
    "    network.add(layers.Dense(3))\n",
    "    network.add(layers.ReLU())\n",
    "network.build(input_shape=(4, 4))\n",
    "network.summary()"
   ]
  },
  {
   "cell_type": "markdown",
   "metadata": {},
   "source": [
    "- 查看 `trainable_variables` 和 `variables` 参数 "
   ]
  },
  {
   "cell_type": "code",
   "execution_count": 5,
   "metadata": {},
   "outputs": [
    {
     "name": "stdout",
     "output_type": "stream",
     "text": [
      "dense_2/kernel:0 (4, 3)\n",
      "dense_2/bias:0 (3,)\n",
      "dense_3/kernel:0 (3, 3)\n",
      "dense_3/bias:0 (3,)\n"
     ]
    }
   ],
   "source": [
    "for p in network.trainable_variables: \n",
    "    print(p.name, p.shape) # 参数名和形状"
   ]
  },
  {
   "cell_type": "markdown",
   "metadata": {},
   "source": [
    "### 2. 模型的装配、训练与测试\n",
    "**模型装配**\n",
    "- `Sequential` 也是 `Model` 的子类，因此具有 `Model` 类的所有功能"
   ]
  },
  {
   "cell_type": "code",
   "execution_count": 6,
   "metadata": {},
   "outputs": [],
   "source": [
    "import numpy as np\n",
    "import matplotlib.pyplot as plt\n",
    "from sklearn import datasets\n",
    "from sklearn.model_selection import train_test_split"
   ]
  },
  {
   "cell_type": "code",
   "execution_count": 7,
   "metadata": {},
   "outputs": [
    {
     "name": "stdout",
     "output_type": "stream",
     "text": [
      "(150, 2) (150,)\n"
     ]
    }
   ],
   "source": [
    "X, y = datasets.make_moons(n_samples=200, noise=0.2, random_state=100)\n",
    "X_train, X_test, y_train, y_test = train_test_split(X, y, random_state=333)\n",
    "print(X_train.shape, y_train.shape)"
   ]
  },
  {
   "cell_type": "code",
   "execution_count": 8,
   "metadata": {},
   "outputs": [
    {
     "name": "stdout",
     "output_type": "stream",
     "text": [
      "Model: \"sequential_2\"\n",
      "_________________________________________________________________\n",
      "Layer (type)                 Output Shape              Param #   \n",
      "=================================================================\n",
      "dense_4 (Dense)              multiple                  75        \n",
      "_________________________________________________________________\n",
      "dense_5 (Dense)              multiple                  1300      \n",
      "_________________________________________________________________\n",
      "dense_6 (Dense)              multiple                  2550      \n",
      "_________________________________________________________________\n",
      "dense_7 (Dense)              multiple                  1275      \n",
      "_________________________________________________________________\n",
      "dense_8 (Dense)              multiple                  52        \n",
      "=================================================================\n",
      "Total params: 5,252\n",
      "Trainable params: 5,252\n",
      "Non-trainable params: 0\n",
      "_________________________________________________________________\n"
     ]
    }
   ],
   "source": [
    "# 创建 5 层的全连接网络 \n",
    "network = Sequential([layers.Dense(25, activation='relu'),                      \n",
    "                      layers.Dense(50, activation='relu'),                      \n",
    "                      layers.Dense(50, activation='relu'),                      \n",
    "                      layers.Dense(25, activation='relu'),                      \n",
    "                      layers.Dense(2)]) \n",
    "network.build(input_shape=(150, 2)) \n",
    "network.summary() "
   ]
  },
  {
   "cell_type": "markdown",
   "metadata": {},
   "source": [
    "**模型装配**\n",
    "- 通过 `compile` 函数指定网络使用的优化器对象、损失函数类型，评价指标等设定"
   ]
  },
  {
   "cell_type": "code",
   "execution_count": 9,
   "metadata": {},
   "outputs": [],
   "source": [
    "from tensorflow.keras import optimizers, losses"
   ]
  },
  {
   "cell_type": "code",
   "execution_count": 10,
   "metadata": {},
   "outputs": [],
   "source": [
    "# 模型装配\n",
    "# 采用 Adam 优化器，学习率为 0.01;采用交叉熵损失函数，包含 Softmax \n",
    "network.compile(optimizer=optimizers.Adam(lr=0.01),         \n",
    "                loss=losses.CategoricalCrossentropy(from_logits=True), \n",
    "                metrics=['accuracy'] # 设置测量指标为准确率 \n",
    "            )"
   ]
  },
  {
   "cell_type": "markdown",
   "metadata": {},
   "source": [
    "**模型训练**\n",
    "- 通过 `fit()`函数送入待训练的数据集和验证用的数据集"
   ]
  },
  {
   "cell_type": "code",
   "execution_count": 11,
   "metadata": {},
   "outputs": [
    {
     "name": "stdout",
     "output_type": "stream",
     "text": [
      "Train on 160 samples, validate on 40 samples\n",
      "Epoch 1/5\n",
      "160/160 [==============================] - 1s 5ms/sample - loss: 0.6988 - accuracy: 0.5063\n",
      "Epoch 2/5\n",
      "160/160 [==============================] - 0s 969us/sample - loss: 0.7555 - accuracy: 0.5125 - val_loss: 0.8619 - val_accuracy: 0.5250\n",
      "Epoch 3/5\n",
      "160/160 [==============================] - 0s 100us/sample - loss: 0.9875 - accuracy: 0.5125\n",
      "Epoch 4/5\n",
      "160/160 [==============================] - 0s 162us/sample - loss: 0.8478 - accuracy: 0.5437 - val_loss: 1.0462 - val_accuracy: 0.5000\n",
      "Epoch 5/5\n",
      "160/160 [==============================] - 0s 113us/sample - loss: 1.0342 - accuracy: 0.6438\n"
     ]
    }
   ],
   "source": [
    "# 指定训练集为 train_db，验证集为 val_db,训练 5 个 epochs，每 2 个 epoch 验证一次 \n",
    "# 返回训练轨迹信息保存在 history 对象中 \n",
    "history = network.fit(x=X, y=y, epochs=5, \n",
    "                      validation_split=0.2, validation_freq=2) \n",
    "# history.history # 打印训练记录"
   ]
  },
  {
   "cell_type": "markdown",
   "metadata": {},
   "source": [
    "**模型测试**\n",
    "- 通过`Model.predict()`方法完成模型的预测"
   ]
  },
  {
   "cell_type": "code",
   "execution_count": 12,
   "metadata": {},
   "outputs": [
    {
     "data": {
      "text/plain": [
       "(50,)"
      ]
     },
     "execution_count": 12,
     "metadata": {},
     "output_type": "execute_result"
    }
   ],
   "source": [
    "out = network.predict(X_test)\n",
    "y_predict = np.argmax(out, axis=1)\n",
    "y_predict.shape"
   ]
  },
  {
   "cell_type": "code",
   "execution_count": 13,
   "metadata": {},
   "outputs": [
    {
     "name": "stdout",
     "output_type": "stream",
     "text": [
      "\r",
      "50/1 [============================================================================================================================================================================================================================================================================================================================================================================================================================================================================================================================================================================================================================================================================================================================================================================================================================================================================================================================================================================================================================================================================================================================================================================================================================================================================================================================================================================================================================================================================================================================================================] - 0s 100us/sample - loss: 1.2334 - accuracy: 0.9400\n"
     ]
    },
    {
     "data": {
      "text/plain": [
       "[1.3236670589447022, 0.94]"
      ]
     },
     "execution_count": 13,
     "metadata": {},
     "output_type": "execute_result"
    }
   ],
   "source": [
    "network.evaluate(x=X_test, y=y_test)"
   ]
  },
  {
   "cell_type": "markdown",
   "metadata": {},
   "source": [
    "### 3. 模型的保存与加载\n",
    "**张量方式**\n",
    "- 轻量级，仅仅保存张量参数的数值\n",
    "- 需要使用**相同的网络结构**才能够正确恢复网络状态\n",
    "- `Model.save_weights(path)`保存模型网络参数\n",
    "- `Model.load_weights(path)`加载模型网络参数"
   ]
  },
  {
   "cell_type": "code",
   "execution_count": 30,
   "metadata": {},
   "outputs": [
    {
     "name": "stdout",
     "output_type": "stream",
     "text": [
      "saved weights.\n"
     ]
    }
   ],
   "source": [
    "# 保存模型参数到文件上 \n",
    "network.save_weights('weights.ckpt') \n",
    "print('saved weights.') \n",
    "del network # 删除网络对象 "
   ]
  },
  {
   "cell_type": "code",
   "execution_count": 31,
   "metadata": {},
   "outputs": [
    {
     "name": "stdout",
     "output_type": "stream",
     "text": [
      "loaded weights!\n"
     ]
    }
   ],
   "source": [
    "# 重新创建相同的网络结构 \n",
    "network = Sequential([layers.Dense(25, activation='relu'),                      \n",
    "                      layers.Dense(50, activation='relu'),                      \n",
    "                      layers.Dense(50, activation='relu'),                      \n",
    "                      layers.Dense(25, activation='relu'),                      \n",
    "                      layers.Dense(2)]) \n",
    "network.build(input_shape=(150, 2)) \n",
    "network.compile(optimizer=optimizers.Adam(lr=0.01),         \n",
    "                loss=losses.CategoricalCrossentropy(from_logits=True), \n",
    "                metrics=['accuracy'] # 设置测量指标为准确率 \n",
    "            )\n",
    "# 从参数文件中读取数据并写入当前网络 \n",
    "network.load_weights('weights.ckpt') \n",
    "print('loaded weights!') "
   ]
  },
  {
   "cell_type": "markdown",
   "metadata": {},
   "source": [
    "**网络方式**\n",
    "\n",
    "- 保存模型参数文件\n",
    "- `Model.save(path)`保存模型结构\n",
    "- `keras.models.load_model(path)`恢复网络结构"
   ]
  },
  {
   "cell_type": "code",
   "execution_count": 20,
   "metadata": {},
   "outputs": [
    {
     "name": "stdout",
     "output_type": "stream",
     "text": [
      "saved total model.\n",
      "loaded model!\n"
     ]
    }
   ],
   "source": [
    "# 保存模型结构与模型参数到文件 \n",
    "network.save('model.h5') \n",
    "print('saved total model.') \n",
    "del network \n",
    "# 从文件恢复网络结构与网络参数 \n",
    "network = keras.models.load_model('model.h5')  \n",
    "print('loaded model!') "
   ]
  },
  {
   "cell_type": "markdown",
   "metadata": {},
   "source": [
    "**SavedModel 方式**\n",
    "- `tf.saved_model.save(network, path)`\n",
    "- `tf.saved_model.load(path)` "
   ]
  },
  {
   "cell_type": "code",
   "execution_count": 32,
   "metadata": {},
   "outputs": [],
   "source": [
    "# 保存模型结构与模型参数到文件 \n",
    "# tf.saved_model.save(network, 'model-savedmodel') \n",
    "# print('saving savedmodel.') \n",
    "# del network # 删除网络对象 \n",
    "# print('load savedmodel from file.') # 从文件恢复网络结构与网络参数 \n",
    "# nn =  tf.saved_model.load('model-savedmodel')"
   ]
  },
  {
   "cell_type": "markdown",
   "metadata": {},
   "source": [
    "### 4. 自定义网络\n",
    "\n",
    "- 对于自定义的网络层，至少需要实现初始化`__init__`方法和前向传播逻辑 `call` 方法"
   ]
  },
  {
   "cell_type": "markdown",
   "metadata": {},
   "source": [
    "**实现一个没有偏执向量的全链路层，激活函数为 ReLU 函数**"
   ]
  },
  {
   "cell_type": "code",
   "execution_count": 38,
   "metadata": {},
   "outputs": [],
   "source": [
    "class MyDense(layers.Layer):\n",
    "    def __init__(self, inp_dim, outp_dim):\n",
    "        super(MyDense, self).__init__()\n",
    "        # 创建权值张量并添加到类管理列表中，设置为需要优化 \n",
    "        self.kernel = self.add_weight('w', [inp_dim, outp_dim], trainable=True)\n",
    "    \n",
    "    def call(self, inputs, training=None):\n",
    "        \"\"\"\n",
    "        training 参数用于指定模型的状态\n",
    "        training 为 True 时执 行训练模式，\n",
    "        training 为 False 时执行测试模式\n",
    "        默认参数为 None，即测试模式\n",
    "        由于全连 接层的训练模式和测试模式逻辑一致，此处不需要额外处理\n",
    "        \"\"\"\n",
    "        # 实现自定义类的前向计算逻辑\n",
    "        out = inputs @ self.kernel\n",
    "        out = tf.nn.relu(out)\n",
    "        return out"
   ]
  },
  {
   "cell_type": "code",
   "execution_count": 36,
   "metadata": {},
   "outputs": [
    {
     "data": {
      "text/plain": [
       "[<tf.Variable 'w:0' shape=(4, 3) dtype=float32, numpy=\n",
       " array([[-0.72229   ,  0.72526014, -0.7536839 ],\n",
       "        [ 0.48328388, -0.10551929, -0.27486187],\n",
       "        [ 0.637228  ,  0.8125924 , -0.76559246],\n",
       "        [ 0.6066965 , -0.7322022 , -0.34600782]], dtype=float32)>]"
      ]
     },
     "execution_count": 36,
     "metadata": {},
     "output_type": "execute_result"
    }
   ],
   "source": [
    "net = MyDense(4, 3) # 创建输入为 4，输出为 3 节点的自定义层\n",
    "net.variables"
   ]
  },
  {
   "cell_type": "markdown",
   "metadata": {},
   "source": [
    "**自定义网络**"
   ]
  },
  {
   "cell_type": "code",
   "execution_count": 40,
   "metadata": {
    "scrolled": true
   },
   "outputs": [
    {
     "name": "stdout",
     "output_type": "stream",
     "text": [
      "Model: \"sequential_12\"\n",
      "_________________________________________________________________\n",
      "Layer (type)                 Output Shape              Param #   \n",
      "=================================================================\n",
      "my_dense_7 (MyDense)         multiple                  50        \n",
      "_________________________________________________________________\n",
      "my_dense_8 (MyDense)         multiple                  1250      \n",
      "_________________________________________________________________\n",
      "my_dense_9 (MyDense)         multiple                  2500      \n",
      "_________________________________________________________________\n",
      "my_dense_10 (MyDense)        multiple                  1250      \n",
      "_________________________________________________________________\n",
      "my_dense_11 (MyDense)        multiple                  50        \n",
      "=================================================================\n",
      "Total params: 5,100\n",
      "Trainable params: 5,100\n",
      "Non-trainable params: 0\n",
      "_________________________________________________________________\n"
     ]
    }
   ],
   "source": [
    "net = Sequential([MyDense(2, 25),\n",
    "                 MyDense(25, 50),\n",
    "                 MyDense(50, 50),\n",
    "                 MyDense(50, 25),\n",
    "                 MyDense(25, 2)])\n",
    "net.build(input_shape=(None, 2))\n",
    "net.summary()"
   ]
  },
  {
   "cell_type": "markdown",
   "metadata": {},
   "source": [
    "**自定义网络类**"
   ]
  },
  {
   "cell_type": "code",
   "execution_count": 41,
   "metadata": {},
   "outputs": [],
   "source": [
    "class MyModel(keras.Model):\n",
    "    # 自定义网络类，继承自 Model 基类\n",
    "    def __init__(self):\n",
    "        super(MyModel, self).__init__()\n",
    "        # 完成网络内需要的网络层的创建工作 \n",
    "        self.fc1 = MyDense(2, 25)\n",
    "        self.fc2 = MyDense(25, 50)        \n",
    "        self.fc3 = MyDense(50, 50)        \n",
    "        self.fc4 = MyDense(50, 25)        \n",
    "        self.fc5 = MyDense(25, 2)        \n",
    "        \n",
    "    def call(self, inputs, training=None):\n",
    "        # 自定义向前运算逻辑\n",
    "        x = self.fc1(inputs)\n",
    "        x = self.fc2(x)\n",
    "        x = self.fc3(x)                \n",
    "        x = self.fc4(x)                        \n",
    "        x = self.fc5(x)\n",
    "        return x"
   ]
  },
  {
   "cell_type": "markdown",
   "metadata": {},
   "source": [
    "### 5. 测量工具\n",
    "\n",
    "- `keras.metrics.Mean()`\n",
    "- `keras.metrics.Accuracy()`\n",
    "- `keras.metrics.CosineSimilarity()`\n",
    "- `...`"
   ]
  },
  {
   "cell_type": "markdown",
   "metadata": {},
   "source": [
    "**新建测量qi**"
   ]
  },
  {
   "cell_type": "code",
   "execution_count": null,
   "metadata": {},
   "outputs": [],
   "source": [
    "loss_meter = metrics.Mean()"
   ]
  },
  {
   "cell_type": "markdown",
   "metadata": {},
   "source": [
    "**写入数据**\n",
    "- 将上述采样代码放置在每个`Batch`运算结束后，测量器会自动根据采样的数据来统计平均值"
   ]
  },
  {
   "cell_type": "code",
   "execution_count": null,
   "metadata": {},
   "outputs": [],
   "source": [
    "# 记录采样的数据，通过 float()函数将张量转换为普通数值 \n",
    "# loss_meter.update_state(float(loss)) "
   ]
  },
  {
   "cell_type": "markdown",
   "metadata": {},
   "source": [
    "**读取统计信息**"
   ]
  },
  {
   "cell_type": "code",
   "execution_count": null,
   "metadata": {},
   "outputs": [],
   "source": [
    "# 打印统计期间的平均 loss \n",
    "# print(step, 'loss:', loss_meter.result()) "
   ]
  },
  {
   "cell_type": "markdown",
   "metadata": {},
   "source": [
    "**清除状态**"
   ]
  },
  {
   "cell_type": "code",
   "execution_count": null,
   "metadata": {},
   "outputs": [],
   "source": [
    "# if step % 100 == 0: \n",
    "#     # 打印统计的平均 loss         \n",
    "#     print(step, 'loss:', loss_meter.result())  \n",
    "#     loss_meter.reset_states() # 打印完后，清零测量器 "
   ]
  }
 ],
 "metadata": {
  "kernelspec": {
   "display_name": "Python 3",
   "language": "python",
   "name": "python3"
  },
  "language_info": {
   "codemirror_mode": {
    "name": "ipython",
    "version": 3
   },
   "file_extension": ".py",
   "mimetype": "text/x-python",
   "name": "python",
   "nbconvert_exporter": "python",
   "pygments_lexer": "ipython3",
   "version": "3.6.6"
  }
 },
 "nbformat": 4,
 "nbformat_minor": 2
}
