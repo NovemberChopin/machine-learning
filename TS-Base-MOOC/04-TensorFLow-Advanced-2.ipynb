{
 "cells": [
  {
   "cell_type": "code",
   "execution_count": 1,
   "metadata": {},
   "outputs": [],
   "source": [
    "import tensorflow as tf\n",
    "import numpy as np"
   ]
  },
  {
   "cell_type": "markdown",
   "metadata": {},
   "source": [
    "### 1. 填充（Padding）\n",
    "\n",
    "    - tf.Pad(x, paddings)"
   ]
  },
  {
   "cell_type": "code",
   "execution_count": 3,
   "metadata": {},
   "outputs": [],
   "source": [
    "a = tf.constant([1, 2, 3, 4, 5, 6])\n",
    "b = tf.constant([6, 5, 4, 3])\n",
    "b = tf.pad(b, [[0, 2]]) # 左边不填充，右边填充 2 个"
   ]
  },
  {
   "cell_type": "code",
   "execution_count": 5,
   "metadata": {},
   "outputs": [
    {
     "data": {
      "text/plain": [
       "<tf.Tensor: id=6, shape=(6,), dtype=int32, numpy=array([6, 5, 4, 3, 0, 0])>"
      ]
     },
     "execution_count": 5,
     "metadata": {},
     "output_type": "execute_result"
    }
   ],
   "source": [
    "b"
   ]
  },
  {
   "cell_type": "code",
   "execution_count": 6,
   "metadata": {},
   "outputs": [
    {
     "data": {
      "text/plain": [
       "<tf.Tensor: id=7, shape=(2, 6), dtype=int32, numpy=\n",
       "array([[1, 2, 3, 4, 5, 6],\n",
       "       [6, 5, 4, 3, 0, 0]])>"
      ]
     },
     "execution_count": 6,
     "metadata": {},
     "output_type": "execute_result"
    }
   ],
   "source": [
    "tf.stack([a, b], axis=0)"
   ]
  },
  {
   "cell_type": "markdown",
   "metadata": {},
   "source": [
    "### 2. 复制（Copying）\n",
    "\n",
    "    - tf.tile(x, multiples)"
   ]
  },
  {
   "cell_type": "code",
   "execution_count": 8,
   "metadata": {},
   "outputs": [
    {
     "data": {
      "text/plain": [
       "TensorShape([8, 96, 96, 3])"
      ]
     },
     "execution_count": 8,
     "metadata": {},
     "output_type": "execute_result"
    }
   ],
   "source": [
    "x = tf.random.normal([4, 32, 32, 3])\n",
    "y = tf.tile(x, [2, 3, 3, 1])\n",
    "y.shape"
   ]
  },
  {
   "cell_type": "markdown",
   "metadata": {},
   "source": [
    "### 3. 数据限幅\n",
    "\n",
    "- `tf.maximum(x, a)`实现数据的下限幅：𝑥 ∈ [𝑎,+∞)；\n",
    "-  `tf.minimum(x, a)`实现数据的上限幅：𝑥 ∈ (−∞,𝑎]，\n",
    "- `tf.clip_by_value(x,2,7)`"
   ]
  },
  {
   "cell_type": "code",
   "execution_count": 9,
   "metadata": {},
   "outputs": [
    {
     "data": {
      "text/plain": [
       "<tf.Tensor: id=21, shape=(9,), dtype=int32, numpy=array([2, 2, 2, 3, 4, 5, 6, 7, 8])>"
      ]
     },
     "execution_count": 9,
     "metadata": {},
     "output_type": "execute_result"
    }
   ],
   "source": [
    "x = tf.range(9)\n",
    "tf.maximum(x, 2) # 下限幅 2"
   ]
  },
  {
   "cell_type": "code",
   "execution_count": 10,
   "metadata": {},
   "outputs": [
    {
     "data": {
      "text/plain": [
       "<tf.Tensor: id=23, shape=(9,), dtype=int32, numpy=array([0, 1, 2, 3, 4, 5, 6, 7, 7])>"
      ]
     },
     "execution_count": 10,
     "metadata": {},
     "output_type": "execute_result"
    }
   ],
   "source": [
    "tf.minimum(x, 7) # 上限幅 7"
   ]
  },
  {
   "cell_type": "code",
   "execution_count": 11,
   "metadata": {},
   "outputs": [
    {
     "data": {
      "text/plain": [
       "<tf.Tensor: id=27, shape=(9,), dtype=int32, numpy=array([2, 2, 2, 3, 4, 5, 6, 7, 7])>"
      ]
     },
     "execution_count": 11,
     "metadata": {},
     "output_type": "execute_result"
    }
   ],
   "source": [
    "tf.minimum(tf.maximum(x,2),7) # 限幅为 2~7 "
   ]
  },
  {
   "cell_type": "code",
   "execution_count": 12,
   "metadata": {},
   "outputs": [
    {
     "data": {
      "text/plain": [
       "<tf.Tensor: id=31, shape=(9,), dtype=int32, numpy=array([2, 2, 2, 3, 4, 5, 6, 7, 7])>"
      ]
     },
     "execution_count": 12,
     "metadata": {},
     "output_type": "execute_result"
    }
   ],
   "source": [
    "tf.clip_by_value(x,2,7) # 限幅为 2~7 "
   ]
  },
  {
   "cell_type": "markdown",
   "metadata": {},
   "source": [
    "### 4. 高级操作\n",
    "\n",
    "- `tf.gather(x, [], axis)`:根据索引号收集数据\n",
    "- `tf.gather_nd(x, [[]])`:可以通过指定每次采样的坐标来实现采样多个点的目的\n",
    "- `tf.boolean_mask(x, mask, axis)`:通过给定掩码(mask)的方式采样"
   ]
  },
  {
   "cell_type": "code",
   "execution_count": 17,
   "metadata": {},
   "outputs": [],
   "source": [
    "x = tf.random.uniform([4,5,8],maxval=100,dtype=tf.int32) "
   ]
  },
  {
   "cell_type": "code",
   "execution_count": 18,
   "metadata": {},
   "outputs": [
    {
     "data": {
      "text/plain": [
       "<tf.Tensor: id=52, shape=(2, 5, 8), dtype=int32, numpy=\n",
       "array([[[99, 80, 12, 96, 77, 56, 31, 89],\n",
       "        [98, 53,  2, 88, 26, 63, 44,  7],\n",
       "        [58, 26, 71, 80, 52, 45, 28, 41],\n",
       "        [78, 94, 65, 97, 90, 47, 51, 90],\n",
       "        [63, 78, 37, 75, 88, 22,  6, 97]],\n",
       "\n",
       "       [[ 0, 77, 16,  0, 57, 52, 55, 62],\n",
       "        [57, 41, 76, 69, 42, 93, 30,  8],\n",
       "        [55, 81, 49, 88, 84, 27,  8, 79],\n",
       "        [67, 61, 81, 50, 96, 48, 78, 79],\n",
       "        [29, 92, 56, 66, 52, 42, 64, 63]]])>"
      ]
     },
     "execution_count": 18,
     "metadata": {},
     "output_type": "execute_result"
    }
   ],
   "source": [
    "tf.gather(x,[0,1],axis=0) # 在班级维度收集第 1-2 号班级成绩册 "
   ]
  },
  {
   "cell_type": "code",
   "execution_count": 20,
   "metadata": {},
   "outputs": [
    {
     "data": {
      "text/plain": [
       "<tf.Tensor: id=55, shape=(4, 3, 8), dtype=int32, numpy=\n",
       "array([[[99, 80, 12, 96, 77, 56, 31, 89],\n",
       "        [58, 26, 71, 80, 52, 45, 28, 41],\n",
       "        [63, 78, 37, 75, 88, 22,  6, 97]],\n",
       "\n",
       "       [[ 0, 77, 16,  0, 57, 52, 55, 62],\n",
       "        [55, 81, 49, 88, 84, 27,  8, 79],\n",
       "        [29, 92, 56, 66, 52, 42, 64, 63]],\n",
       "\n",
       "       [[26, 11, 58, 38, 15, 90, 78, 91],\n",
       "        [60, 32, 73, 89, 86, 33, 11, 88],\n",
       "        [87, 55, 30, 86, 97, 80, 41, 16]],\n",
       "\n",
       "       [[36, 53,  0, 72,  0, 41, 83, 44],\n",
       "        [84, 16,  3, 76, 85, 99, 41, 29],\n",
       "        [31, 89, 19, 64, 42, 97, 38, 86]]])>"
      ]
     },
     "execution_count": 20,
     "metadata": {},
     "output_type": "execute_result"
    }
   ],
   "source": [
    "tf.gather(x,[0,2,4],axis=1)"
   ]
  },
  {
   "cell_type": "code",
   "execution_count": 21,
   "metadata": {},
   "outputs": [
    {
     "data": {
      "text/plain": [
       "<tf.Tensor: id=57, shape=(3, 8), dtype=int32, numpy=\n",
       "array([[57, 41, 76, 69, 42, 93, 30,  8],\n",
       "       [60, 32, 73, 89, 86, 33, 11, 88],\n",
       "       [36, 21, 40, 64, 25, 47, 69, 58]])>"
      ]
     },
     "execution_count": 21,
     "metadata": {},
     "output_type": "execute_result"
    }
   ],
   "source": [
    "tf.gather_nd(x,[[1,1],[2,2],[3,3]]) "
   ]
  },
  {
   "cell_type": "code",
   "execution_count": null,
   "metadata": {},
   "outputs": [],
   "source": []
  }
 ],
 "metadata": {
  "kernelspec": {
   "display_name": "Python 3",
   "language": "python",
   "name": "python3"
  },
  "language_info": {
   "codemirror_mode": {
    "name": "ipython",
    "version": 3
   },
   "file_extension": ".py",
   "mimetype": "text/x-python",
   "name": "python",
   "nbconvert_exporter": "python",
   "pygments_lexer": "ipython3",
   "version": "3.6.6"
  }
 },
 "nbformat": 4,
 "nbformat_minor": 2
}
