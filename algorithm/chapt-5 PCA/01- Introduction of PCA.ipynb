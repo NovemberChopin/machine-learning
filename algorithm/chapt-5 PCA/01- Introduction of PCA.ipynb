{
 "cells": [
  {
   "cell_type": "markdown",
   "metadata": {},
   "source": [
    "# Introduction of PCA"
   ]
  },
  {
   "cell_type": "markdown",
   "metadata": {},
   "source": [
    "### 1. 主成分分析法（PCA）\n",
    "[![PCA1.png](https://i.postimg.cc/2jx1bcPs/PCA1.png)](https://postimg.cc/c6rxPm1h)\n",
    "\n",
    "[![PCA2.png](https://i.postimg.cc/zXXVnwNV/PCA2.png)](https://postimg.cc/NLSstH5c)\n",
    "\n",
    "[![PCA3.png](https://i.postimg.cc/3xzN5Pvv/PCA3.png)](https://postimg.cc/rDCM5ZgV)\n",
    "\n",
    "### 2. 注意\n",
    "[![PCA4.png](https://i.postimg.cc/K81jWZRb/PCA4.png)](https://postimg.cc/Mn8zMJ73)\n",
    "\n",
    "[![PCA5.png](https://i.postimg.cc/xTxqgkjg/PCA5.png)](https://postimg.cc/JGX1zzkB)\n",
    "\n",
    "### 3. 梯度上升法（GA）\n",
    "[![PCA7.png](https://i.postimg.cc/6QR39Yr1/PCA7.png)](https://postimg.cc/bGy8g0FQ)\n",
    "\n",
    "[![PCA8.png](https://i.postimg.cc/HxgLjX3W/PCA8.png)](https://postimg.cc/kVTCpVkL)\n",
    "\n",
    "[![PCA9.png](https://i.postimg.cc/Hn3nqnwY/PCA9.png)](https://postimg.cc/n9jn7HSg)"
   ]
  }
 ],
 "metadata": {
  "kernelspec": {
   "display_name": "Python 3",
   "language": "python",
   "name": "python3"
  },
  "language_info": {
   "codemirror_mode": {
    "name": "ipython",
    "version": 3
   },
   "file_extension": ".py",
   "mimetype": "text/x-python",
   "name": "python",
   "nbconvert_exporter": "python",
   "pygments_lexer": "ipython3",
   "version": "3.7.3"
  }
 },
 "nbformat": 4,
 "nbformat_minor": 2
}
