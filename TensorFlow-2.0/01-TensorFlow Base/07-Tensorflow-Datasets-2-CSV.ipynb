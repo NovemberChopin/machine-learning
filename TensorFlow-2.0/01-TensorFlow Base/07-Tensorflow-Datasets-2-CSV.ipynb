{
 "cells": [
  {
   "cell_type": "markdown",
   "metadata": {},
   "source": [
    "# Datasets 使用之 CSV"
   ]
  },
  {
   "cell_type": "code",
   "execution_count": 1,
   "metadata": {},
   "outputs": [],
   "source": [
    "import tensorflow as tf\n",
    "from tensorflow import keras\n",
    "import numpy as np\n",
    "import os\n",
    "import sys\n",
    "import matplotlib.pyplot as plt"
   ]
  },
  {
   "cell_type": "markdown",
   "metadata": {},
   "source": [
    "### 1. 准备数据"
   ]
  },
  {
   "cell_type": "code",
   "execution_count": 2,
   "metadata": {},
   "outputs": [],
   "source": [
    "from sklearn.datasets import fetch_california_housing\n",
    "\n",
    "housing = fetch_california_housing()"
   ]
  },
  {
   "cell_type": "code",
   "execution_count": 3,
   "metadata": {},
   "outputs": [
    {
     "name": "stdout",
     "output_type": "stream",
     "text": [
      "(11610, 8) (11610,)\n",
      "(3870, 8) (3870,)\n",
      "(5160, 8) (5160,)\n"
     ]
    }
   ],
   "source": [
    "from sklearn.model_selection import train_test_split\n",
    "\n",
    "x_train_all, x_test, y_train_all, y_test = train_test_split(\n",
    "    housing.data, housing.target, random_state = 7)\n",
    "x_train, x_valid, y_train, y_valid = train_test_split(\n",
    "    x_train_all, y_train_all, random_state = 11)\n",
    "print(x_train.shape, y_train.shape)\n",
    "print(x_valid.shape, y_valid.shape)\n",
    "print(x_test.shape, y_test.shape)"
   ]
  },
  {
   "cell_type": "code",
   "execution_count": 4,
   "metadata": {},
   "outputs": [],
   "source": [
    "from sklearn.preprocessing import StandardScaler\n",
    "\n",
    "scaler = StandardScaler()\n",
    "x_train_scaled = scaler.fit_transform(x_train)\n",
    "x_valid_scaled = scaler.transform(x_valid)\n",
    "x_test_scaled = scaler.transform(x_test)"
   ]
  },
  {
   "cell_type": "markdown",
   "metadata": {},
   "source": [
    "**把数据保存为CSV格式**"
   ]
  },
  {
   "cell_type": "code",
   "execution_count": 5,
   "metadata": {},
   "outputs": [],
   "source": [
    "output_dir = \"../generate_csv\"\n",
    "if not os.path.exists(output_dir):\n",
    "    os.mkdir(output_dir)\n",
    "\n",
    "def save_to_csv(output_dir, data, name_prefix, header=None, n_parts=10):\n",
    "    path_format = os.path.join(output_dir, \"{}_{:02d}.csv\")\n",
    "    filenames = []\n",
    "    \n",
    "    for file_idx, row_indies in enumerate(\n",
    "        np.array_split(np.arange(len(data)), n_parts)):\n",
    "        \"\"\"data 是元组的形式\"\"\"\n",
    "        path_csv = path_format.format(name_prefix, file_idx)\n",
    "        filenames.append(path_csv)\n",
    "        # 把数据写入 CSV 文件\n",
    "        with open(path_csv, \"wt\", encoding=\"utf-8\") as f:\n",
    "            if header is not None:\n",
    "                f.write(header + \"\\n\")\n",
    "            for row_indie in row_indies:\n",
    "                f.write(\",\".join([\n",
    "                    repr(col) for col in data[row_indie]\n",
    "                ]))\n",
    "                f.write(\"\\n\")\n",
    "    return filenames\n",
    "\n",
    "# merge data\n",
    "train_data = np.hstack([x_train_scaled, y_train.reshape(-1, 1)])\n",
    "valid_data = np.hstack([x_valid_scaled, y_valid.reshape(-1, 1)])\n",
    "test_data = np.hstack([x_test_scaled, y_test.reshape(-1, 1)])\n",
    "header_cols = housing.feature_names + [\"MidianHouseValue\"]\n",
    "header_str = \",\".join(header_cols)"
   ]
  },
  {
   "cell_type": "markdown",
   "metadata": {},
   "source": [
    "**写入数据到文件**"
   ]
  },
  {
   "cell_type": "code",
   "execution_count": 6,
   "metadata": {},
   "outputs": [],
   "source": [
    "train_filenames = save_to_csv(output_dir, train_data, \"train\", \n",
    "                            header_str, n_parts=20)\n",
    "valid_filenames = save_to_csv(output_dir, valid_data, \"valid\",\n",
    "                             header_str, n_parts=10)\n",
    "test_filenames = save_to_csv(output_dir, test_data, \"test\",\n",
    "                             header_str, n_parts=10)"
   ]
  },
  {
   "cell_type": "code",
   "execution_count": 7,
   "metadata": {},
   "outputs": [
    {
     "name": "stdout",
     "output_type": "stream",
     "text": [
      "train filenames:\n",
      "['../generate_csv/train_00.csv',\n",
      " '../generate_csv/train_01.csv',\n",
      " '../generate_csv/train_02.csv',\n",
      " '../generate_csv/train_03.csv',\n",
      " '../generate_csv/train_04.csv',\n",
      " '../generate_csv/train_05.csv',\n",
      " '../generate_csv/train_06.csv',\n",
      " '../generate_csv/train_07.csv',\n",
      " '../generate_csv/train_08.csv',\n",
      " '../generate_csv/train_09.csv',\n",
      " '../generate_csv/train_10.csv',\n",
      " '../generate_csv/train_11.csv',\n",
      " '../generate_csv/train_12.csv',\n",
      " '../generate_csv/train_13.csv',\n",
      " '../generate_csv/train_14.csv',\n",
      " '../generate_csv/train_15.csv',\n",
      " '../generate_csv/train_16.csv',\n",
      " '../generate_csv/train_17.csv',\n",
      " '../generate_csv/train_18.csv',\n",
      " '../generate_csv/train_19.csv']\n",
      "valid filenames:\n",
      "['../generate_csv/valid_00.csv',\n",
      " '../generate_csv/valid_01.csv',\n",
      " '../generate_csv/valid_02.csv',\n",
      " '../generate_csv/valid_03.csv',\n",
      " '../generate_csv/valid_04.csv',\n",
      " '../generate_csv/valid_05.csv',\n",
      " '../generate_csv/valid_06.csv',\n",
      " '../generate_csv/valid_07.csv',\n",
      " '../generate_csv/valid_08.csv',\n",
      " '../generate_csv/valid_09.csv']\n",
      "test filenames:\n",
      "['../generate_csv/test_00.csv',\n",
      " '../generate_csv/test_01.csv',\n",
      " '../generate_csv/test_02.csv',\n",
      " '../generate_csv/test_03.csv',\n",
      " '../generate_csv/test_04.csv',\n",
      " '../generate_csv/test_05.csv',\n",
      " '../generate_csv/test_06.csv',\n",
      " '../generate_csv/test_07.csv',\n",
      " '../generate_csv/test_08.csv',\n",
      " '../generate_csv/test_09.csv']\n"
     ]
    }
   ],
   "source": [
    "import pprint\n",
    "print(\"train filenames:\")\n",
    "pprint.pprint(train_filenames)\n",
    "print(\"valid filenames:\")\n",
    "pprint.pprint(valid_filenames)\n",
    "print(\"test filenames:\")\n",
    "pprint.pprint(test_filenames)"
   ]
  },
  {
   "cell_type": "markdown",
   "metadata": {},
   "source": [
    "**读取CSV文件数据**"
   ]
  },
  {
   "cell_type": "code",
   "execution_count": 8,
   "metadata": {},
   "outputs": [
    {
     "name": "stdout",
     "output_type": "stream",
     "text": [
      "tf.Tensor(b'../generate_csv/train_00.csv', shape=(), dtype=string)\n",
      "tf.Tensor(b'../generate_csv/train_05.csv', shape=(), dtype=string)\n",
      "tf.Tensor(b'../generate_csv/train_09.csv', shape=(), dtype=string)\n",
      "tf.Tensor(b'../generate_csv/train_10.csv', shape=(), dtype=string)\n",
      "tf.Tensor(b'../generate_csv/train_19.csv', shape=(), dtype=string)\n",
      "tf.Tensor(b'../generate_csv/train_02.csv', shape=(), dtype=string)\n",
      "tf.Tensor(b'../generate_csv/train_01.csv', shape=(), dtype=string)\n",
      "tf.Tensor(b'../generate_csv/train_04.csv', shape=(), dtype=string)\n",
      "tf.Tensor(b'../generate_csv/train_13.csv', shape=(), dtype=string)\n",
      "tf.Tensor(b'../generate_csv/train_17.csv', shape=(), dtype=string)\n",
      "tf.Tensor(b'../generate_csv/train_07.csv', shape=(), dtype=string)\n",
      "tf.Tensor(b'../generate_csv/train_11.csv', shape=(), dtype=string)\n",
      "tf.Tensor(b'../generate_csv/train_14.csv', shape=(), dtype=string)\n",
      "tf.Tensor(b'../generate_csv/train_12.csv', shape=(), dtype=string)\n",
      "tf.Tensor(b'../generate_csv/train_03.csv', shape=(), dtype=string)\n",
      "tf.Tensor(b'../generate_csv/train_18.csv', shape=(), dtype=string)\n",
      "tf.Tensor(b'../generate_csv/train_08.csv', shape=(), dtype=string)\n",
      "tf.Tensor(b'../generate_csv/train_16.csv', shape=(), dtype=string)\n",
      "tf.Tensor(b'../generate_csv/train_15.csv', shape=(), dtype=string)\n",
      "tf.Tensor(b'../generate_csv/train_06.csv', shape=(), dtype=string)\n"
     ]
    }
   ],
   "source": [
    "# 1. 读取所有文件名为数据集对象 filename -> dataset\n",
    "filename_dataset = tf.data.Dataset.list_files(train_filenames)\n",
    "for filename in filename_dataset:\n",
    "    print(filename)"
   ]
  },
  {
   "cell_type": "code",
   "execution_count": 9,
   "metadata": {},
   "outputs": [
    {
     "name": "stdout",
     "output_type": "stream",
     "text": [
      "b'0.6303435674178064,1.874166156711919,-0.06713214279531016,-0.12543366804152128,-0.19737553788322462,-0.022722631725889016,-0.692407235065288,0.7265233438487496,2.419'\n",
      "b'0.15782311132800697,0.43236189741438374,0.3379948076652917,-0.015880306122244434,-0.3733890577139493,-0.05305245634489608,0.8006134598360177,-1.2359095422966828,3.169'\n",
      "b'-1.0591781535672364,1.393564736946074,-0.026331968874673636,-0.11006759528831847,-0.6138198966579805,-0.09695934953589447,0.3247131133362288,-0.037477245413977976,0.672'\n",
      "b'0.801544314532886,0.27216142415910205,-0.11624392696666119,-0.2023115137272354,-0.5430515742518128,-0.021039615516440048,-0.5897620622908205,-0.08241845654707416,3.226'\n",
      "b'0.04326300977263167,-1.0895425985107923,-0.38878716774583305,-0.10789864528874438,-0.6818663605100649,-0.0723871014747467,-0.8883662012710817,0.8213992340186296,1.426'\n",
      "b'1.6312258686346301,0.3522616607867429,0.04080576110152256,-0.1408895163348976,-0.4632103899987006,-0.06751623819156843,-0.8277122355407183,0.5966931783531273,3.376'\n",
      "b'2.2878417437355094,-1.8905449647872008,0.6607106467795992,-0.14964778023694128,-0.06672632728722275,0.44788055801575993,-0.5337737862320228,0.5667323709310584,3.59'\n",
      "b'-0.2223565745313433,1.393564736946074,0.02991299565857307,0.0801452044790158,-0.509481985418118,-0.06238599304952824,-0.86503775291325,0.8613469772480595,2.0'\n",
      "b'-0.2980728090942217,0.3522616607867429,-0.10920507530549702,-0.25055520947444,-0.034064024638222286,-0.006034004264459185,1.080554840130013,-1.0611381656679573,1.514'\n",
      "b'-0.7543417158936074,-0.9293421252555106,-0.9212720434835953,0.1242806741969112,-0.5983960315181748,-0.18494335623235414,-0.8183808561975836,0.8513600414406984,1.717'\n"
     ]
    }
   ],
   "source": [
    "# 2. 根据文件名读取相应的数据 read file -> dataset -> datasets -> merge\n",
    "n_readers = 5\n",
    "dataset = filename_dataset.interleave(\n",
    "    # 按行读取文本文件 TextLineDataset, 并忽略第一行（头部信息）\n",
    "    lambda filename: tf.data.TextLineDataset(filename).skip(1),\n",
    "    cycle_length=n_readers\n",
    ")\n",
    "for line in dataset.take(10):\n",
    "    print(line.numpy())"
   ]
  },
  {
   "cell_type": "code",
   "execution_count": 10,
   "metadata": {},
   "outputs": [
    {
     "name": "stdout",
     "output_type": "stream",
     "text": [
      "[<tf.Tensor: id=95, shape=(), dtype=int32, numpy=1>, <tf.Tensor: id=96, shape=(), dtype=int32, numpy=2>, <tf.Tensor: id=97, shape=(), dtype=float32, numpy=3.0>, <tf.Tensor: id=98, shape=(), dtype=string, numpy=b'4'>, <tf.Tensor: id=99, shape=(), dtype=float32, numpy=5.0>]\n"
     ]
    }
   ],
   "source": [
    "# 3. 解析 CSV 文本数据 parse csv\n",
    "# tf.io.decode_csv(str, record_defaults)\n",
    "sample_str = '1,2,3,4,5'\n",
    "record_defaults = [\n",
    "    tf.constant(0, dtype=tf.int32),\n",
    "    0,\n",
    "    np.nan,\n",
    "    \"hello\",\n",
    "    tf.constant([])\n",
    "]\n",
    "parsed_fields = tf.io.decode_csv(sample_str, record_defaults)\n",
    "print(parsed_fields)"
   ]
  },
  {
   "cell_type": "code",
   "execution_count": 11,
   "metadata": {},
   "outputs": [
    {
     "name": "stdout",
     "output_type": "stream",
     "text": [
      "Field 4 is required but missing in record 0! [Op:DecodeCSV]\n"
     ]
    }
   ],
   "source": [
    "try:\n",
    "    parsed_fields = tf.io.decode_csv(',,,,', record_defaults)\n",
    "except tf.errors.InvalidArgumentError as ex:\n",
    "    print(ex)"
   ]
  },
  {
   "cell_type": "code",
   "execution_count": 12,
   "metadata": {},
   "outputs": [
    {
     "name": "stdout",
     "output_type": "stream",
     "text": [
      "Expect 5 fields but have 7 in record 0 [Op:DecodeCSV]\n"
     ]
    }
   ],
   "source": [
    "try:\n",
    "    parsed_fields = tf.io.decode_csv('1,2,3,4,5,6,7', record_defaults)\n",
    "except tf.errors.InvalidArgumentError as ex:\n",
    "    print(ex)"
   ]
  },
  {
   "cell_type": "code",
   "execution_count": 13,
   "metadata": {},
   "outputs": [
    {
     "data": {
      "text/plain": [
       "(<tf.Tensor: id=119, shape=(8,), dtype=float32, numpy=\n",
       " array([-0.32652634,  0.4323619 , -0.09345459, -0.08402992,  0.8460036 ,\n",
       "        -0.02663165, -0.56176794,  0.1422876 ], dtype=float32)>,\n",
       " <tf.Tensor: id=120, shape=(1,), dtype=float32, numpy=array([2.431], dtype=float32)>)"
      ]
     },
     "execution_count": 13,
     "metadata": {},
     "output_type": "execute_result"
    }
   ],
   "source": [
    "# 按行解析数据\n",
    "def parse_csv_line(line, n_fields = 9):\n",
    "    defs = [tf.constant(np.nan)] * n_fields\n",
    "    parsed_fields = tf.io.decode_csv(line, record_defaults=defs)\n",
    "    x = tf.stack(parsed_fields[0:-1])\n",
    "    y = tf.stack(parsed_fields[-1:])\n",
    "    return x, y\n",
    "\n",
    "parse_csv_line(b'-0.32652634129448693,0.43236189741438374,-0.09345459539684739,-0.08402991822890092,0.8460035745154013,-0.0266316482653991,-0.5617679242614233,0.1422875991184281,2.431',\n",
    "              n_fields=9)"
   ]
  },
  {
   "cell_type": "code",
   "execution_count": 14,
   "metadata": {},
   "outputs": [
    {
     "name": "stdout",
     "output_type": "stream",
     "text": [
      "x:\n",
      "<tf.Tensor: id=204, shape=(3, 8), dtype=float32, numpy=\n",
      "array([[ 0.15782312,  0.4323619 ,  0.3379948 , -0.01588031, -0.37338907,\n",
      "        -0.05305246,  0.80061346, -1.2359096 ],\n",
      "       [ 0.81150836, -0.04823952,  0.5187339 , -0.0293864 , -0.03406402,\n",
      "        -0.05081595, -0.7157357 ,  0.91627514],\n",
      "       [ 2.5150437 ,  1.0731637 ,  0.5574401 , -0.17273512, -0.6129126 ,\n",
      "        -0.01909157, -0.5710993 , -0.02749031]], dtype=float32)>\n",
      "y:\n",
      "<tf.Tensor: id=205, shape=(3, 1), dtype=float32, numpy=\n",
      "array([[3.169  ],\n",
      "       [2.147  ],\n",
      "       [5.00001]], dtype=float32)>\n",
      "x:\n",
      "<tf.Tensor: id=206, shape=(3, 8), dtype=float32, numpy=\n",
      "array([[ 0.09734604,  0.75276285, -0.20218964, -0.19547   , -0.40605137,\n",
      "         0.00678553, -0.81371516,  0.6566148 ],\n",
      "       [-1.0591781 ,  1.3935647 , -0.02633197, -0.1100676 , -0.6138199 ,\n",
      "        -0.09695935,  0.3247131 , -0.03747724],\n",
      "       [ 2.2878418 , -1.890545  ,  0.66071063, -0.14964779, -0.06672633,\n",
      "         0.44788057, -0.5337738 ,  0.56673235]], dtype=float32)>\n",
      "y:\n",
      "<tf.Tensor: id=207, shape=(3, 1), dtype=float32, numpy=\n",
      "array([[1.119],\n",
      "       [0.672],\n",
      "       [3.59 ]], dtype=float32)>\n"
     ]
    }
   ],
   "source": [
    "# 1. filename -> dataset\n",
    "# 2. read file -> dataset -> datasets -> merge\n",
    "# 3. parse csv\n",
    "def csv_reader_dataset(filenames, n_readers=5,\n",
    "                       batch_size=32, n_parse_threads=5,\n",
    "                       shuffle_buffer_size=10000):\n",
    "    dataset = tf.data.Dataset.list_files(filenames)\n",
    "    dataset = dataset.repeat()\n",
    "    dataset = dataset.interleave(\n",
    "        lambda filename: tf.data.TextLineDataset(filename).skip(1),\n",
    "        cycle_length = n_readers\n",
    "    )\n",
    "    dataset.shuffle(shuffle_buffer_size)\n",
    "    dataset = dataset.map(parse_csv_line,\n",
    "                          num_parallel_calls=n_parse_threads)\n",
    "    dataset = dataset.batch(batch_size)\n",
    "    return dataset\n",
    "\n",
    "train_set = csv_reader_dataset(train_filenames, batch_size=3)\n",
    "for x_batch, y_batch in train_set.take(2):\n",
    "    print(\"x:\")\n",
    "    pprint.pprint(x_batch)\n",
    "    print(\"y:\")\n",
    "    pprint.pprint(y_batch)"
   ]
  },
  {
   "cell_type": "code",
   "execution_count": 15,
   "metadata": {},
   "outputs": [],
   "source": [
    "batch_size = 32\n",
    "train_set = csv_reader_dataset(train_filenames,\n",
    "                               batch_size = batch_size)\n",
    "valid_set = csv_reader_dataset(valid_filenames,\n",
    "                               batch_size = batch_size)\n",
    "test_set = csv_reader_dataset(test_filenames,\n",
    "                              batch_size = batch_size)"
   ]
  },
  {
   "cell_type": "code",
   "execution_count": 17,
   "metadata": {},
   "outputs": [],
   "source": [
    "model = keras.models.Sequential([\n",
    "    keras.layers.Dense(30, activation='relu', input_shape=[8]),\n",
    "    keras.layers.Dense(1)\n",
    "])\n",
    "model.compile(loss=\"mean_squared_error\", optimizer='sgd')\n",
    "callbacks = [keras.callbacks.EarlyStopping(\n",
    "    patience=3, min_delta=1e-2\n",
    ")]"
   ]
  },
  {
   "cell_type": "code",
   "execution_count": 21,
   "metadata": {},
   "outputs": [
    {
     "name": "stdout",
     "output_type": "stream",
     "text": [
      "Train for 348 steps, validate for 120 steps\n",
      "Epoch 1/100\n",
      "348/348 [==============================] - 1s 3ms/step - loss: 1.2297 - val_loss: 0.5656\n",
      "Epoch 2/100\n",
      "348/348 [==============================] - 1s 2ms/step - loss: 0.4682 - val_loss: 0.4695\n",
      "Epoch 3/100\n",
      "348/348 [==============================] - 1s 2ms/step - loss: 0.4507 - val_loss: 0.4300\n",
      "Epoch 4/100\n",
      "348/348 [==============================] - 1s 2ms/step - loss: 0.3975 - val_loss: 0.4258\n",
      "Epoch 5/100\n",
      "348/348 [==============================] - 1s 2ms/step - loss: 0.4039 - val_loss: 0.4161\n",
      "Epoch 6/100\n",
      "348/348 [==============================] - 1s 2ms/step - loss: 0.3840 - val_loss: 0.4047\n",
      "Epoch 7/100\n",
      "348/348 [==============================] - 1s 2ms/step - loss: 0.3802 - val_loss: 0.5910\n",
      "Epoch 8/100\n",
      "348/348 [==============================] - 1s 2ms/step - loss: 0.3805 - val_loss: 0.3922\n",
      "Epoch 9/100\n",
      "348/348 [==============================] - 1s 2ms/step - loss: 0.3749 - val_loss: 0.3865\n",
      "Epoch 10/100\n",
      "348/348 [==============================] - 1s 2ms/step - loss: 0.3681 - val_loss: 0.3825\n",
      "Epoch 11/100\n",
      "348/348 [==============================] - 1s 2ms/step - loss: 0.3698 - val_loss: 0.3860\n"
     ]
    }
   ],
   "source": [
    "history = model.fit(train_set, validation_data=valid_set,\n",
    "                   steps_per_epoch = 11160 // batch_size,\n",
    "                   validation_steps = 3870 // batch_size,\n",
    "                   epochs = 100,\n",
    "                   callbacks = callbacks)"
   ]
  },
  {
   "cell_type": "code",
   "execution_count": 22,
   "metadata": {},
   "outputs": [
    {
     "name": "stdout",
     "output_type": "stream",
     "text": [
      "161/161 - 0s - loss: 0.3899\n"
     ]
    },
    {
     "data": {
      "text/plain": [
       "0.3899131120176789"
      ]
     },
     "execution_count": 22,
     "metadata": {},
     "output_type": "execute_result"
    }
   ],
   "source": [
    "model.evaluate(test_set, steps = 5160 //batch_size, verbose=2)"
   ]
  },
  {
   "cell_type": "code",
   "execution_count": null,
   "metadata": {},
   "outputs": [],
   "source": []
  }
 ],
 "metadata": {
  "kernelspec": {
   "display_name": "Python 3",
   "language": "python",
   "name": "python3"
  },
  "language_info": {
   "codemirror_mode": {
    "name": "ipython",
    "version": 3
   },
   "file_extension": ".py",
   "mimetype": "text/x-python",
   "name": "python",
   "nbconvert_exporter": "python",
   "pygments_lexer": "ipython3",
   "version": "3.6.9"
  }
 },
 "nbformat": 4,
 "nbformat_minor": 2
}
