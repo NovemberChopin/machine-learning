{
 "cells": [
  {
   "cell_type": "markdown",
   "metadata": {},
   "source": [
    "# TensorFlow 基础（2）"
   ]
  },
  {
   "cell_type": "markdown",
   "metadata": {},
   "source": [
    "### 1. 索引"
   ]
  },
  {
   "cell_type": "code",
   "execution_count": 1,
   "metadata": {},
   "outputs": [],
   "source": [
    "import tensorflow as tf"
   ]
  },
  {
   "cell_type": "code",
   "execution_count": 2,
   "metadata": {},
   "outputs": [],
   "source": [
    "x = tf.random.normal([4, 32, 32, 3])"
   ]
  },
  {
   "cell_type": "code",
   "execution_count": 3,
   "metadata": {},
   "outputs": [
    {
     "data": {
      "text/plain": [
       "<tf.Tensor: id=21, shape=(), dtype=float32, numpy=0.53999984>"
      ]
     },
     "execution_count": 3,
     "metadata": {},
     "output_type": "execute_result"
    }
   ],
   "source": [
    "# 取第一张图片第 2 行， 第 3 列，B 通道\n",
    "x[0][1][2][1]"
   ]
  },
  {
   "cell_type": "code",
   "execution_count": 4,
   "metadata": {},
   "outputs": [
    {
     "data": {
      "text/plain": [
       "<tf.Tensor: id=25, shape=(), dtype=float32, numpy=0.53999984>"
      ]
     },
     "execution_count": 4,
     "metadata": {},
     "output_type": "execute_result"
    }
   ],
   "source": [
    "# 也可以如下写法\n",
    "x[0, 1, 2, 1]"
   ]
  },
  {
   "cell_type": "markdown",
   "metadata": {},
   "source": [
    "### 2. 切片"
   ]
  },
  {
   "cell_type": "code",
   "execution_count": 5,
   "metadata": {},
   "outputs": [
    {
     "data": {
      "text/plain": [
       "<tf.Tensor: id=29, shape=(2, 3), dtype=float32, numpy=\n",
       "array([[-0.72322774, -0.77570975, -3.8933163 ],\n",
       "       [ 0.3169489 , -0.5193166 , -0.02393725]], dtype=float32)>"
      ]
     },
     "execution_count": 5,
     "metadata": {},
     "output_type": "execute_result"
    }
   ],
   "source": [
    "# 读取第 2，3 张图片的第 2 行第 3 列\n",
    "x[1:3, 1, 2]"
   ]
  },
  {
   "cell_type": "code",
   "execution_count": 6,
   "metadata": {},
   "outputs": [],
   "source": [
    "# 读取第 1-2 张图片的 G/B 通道数据\n",
    "# x[0:2,...,1:] "
   ]
  },
  {
   "cell_type": "markdown",
   "metadata": {},
   "source": [
    "### 3. 维度变换"
   ]
  },
  {
   "cell_type": "markdown",
   "metadata": {},
   "source": [
    "**改变维度**\n",
    "**reshape()**"
   ]
  },
  {
   "cell_type": "code",
   "execution_count": 7,
   "metadata": {},
   "outputs": [],
   "source": [
    "x = tf.range(96)"
   ]
  },
  {
   "cell_type": "code",
   "execution_count": 8,
   "metadata": {},
   "outputs": [],
   "source": [
    "x = tf.reshape(x, [2, 4, 4, 3])"
   ]
  },
  {
   "cell_type": "markdown",
   "metadata": {},
   "source": [
    "**x.ndim 和 x.shape**"
   ]
  },
  {
   "cell_type": "code",
   "execution_count": 9,
   "metadata": {},
   "outputs": [
    {
     "data": {
      "text/plain": [
       "TensorShape([2, 4, 4, 3])"
      ]
     },
     "execution_count": 9,
     "metadata": {},
     "output_type": "execute_result"
    }
   ],
   "source": [
    "x.shape"
   ]
  },
  {
   "cell_type": "code",
   "execution_count": 10,
   "metadata": {},
   "outputs": [
    {
     "data": {
      "text/plain": [
       "4"
      ]
     },
     "execution_count": 10,
     "metadata": {},
     "output_type": "execute_result"
    }
   ],
   "source": [
    "x.ndim"
   ]
  },
  {
   "cell_type": "markdown",
   "metadata": {},
   "source": [
    "**增加维度**\n",
    "\n",
    "      - tf.expend_dims(x, axis)"
   ]
  },
  {
   "cell_type": "code",
   "execution_count": 11,
   "metadata": {},
   "outputs": [],
   "source": [
    "x = tf.random.uniform([4, 4], maxval=10, dtype=tf.int32)\n",
    "y = tf.random.uniform([4, 4], maxval=10, dtype=tf.int32)"
   ]
  },
  {
   "cell_type": "code",
   "execution_count": 12,
   "metadata": {},
   "outputs": [
    {
     "data": {
      "text/plain": [
       "<tf.Tensor: id=39, shape=(4, 4), dtype=int32, numpy=\n",
       "array([[0, 0, 2, 7],\n",
       "       [5, 8, 3, 0],\n",
       "       [1, 7, 7, 0],\n",
       "       [9, 8, 1, 9]])>"
      ]
     },
     "execution_count": 12,
     "metadata": {},
     "output_type": "execute_result"
    }
   ],
   "source": [
    "x"
   ]
  },
  {
   "cell_type": "code",
   "execution_count": 13,
   "metadata": {},
   "outputs": [],
   "source": [
    "# 在最前面插入一个维度\n",
    "x = tf.expand_dims(x, axis=0)"
   ]
  },
  {
   "cell_type": "code",
   "execution_count": 14,
   "metadata": {},
   "outputs": [
    {
     "data": {
      "text/plain": [
       "TensorShape([1, 4, 4])"
      ]
     },
     "execution_count": 14,
     "metadata": {},
     "output_type": "execute_result"
    }
   ],
   "source": [
    "x.shape"
   ]
  },
  {
   "cell_type": "code",
   "execution_count": 15,
   "metadata": {},
   "outputs": [
    {
     "data": {
      "text/plain": [
       "<tf.Tensor: id=45, shape=(1, 4, 4), dtype=int32, numpy=\n",
       "array([[[0, 0, 2, 7],\n",
       "        [5, 8, 3, 0],\n",
       "        [1, 7, 7, 0],\n",
       "        [9, 8, 1, 9]]])>"
      ]
     },
     "execution_count": 15,
     "metadata": {},
     "output_type": "execute_result"
    }
   ],
   "source": [
    "x"
   ]
  },
  {
   "cell_type": "code",
   "execution_count": 16,
   "metadata": {},
   "outputs": [],
   "source": [
    "# 在 y 的最后面插入一个维度\n",
    "y = tf.expand_dims(y, axis=2)"
   ]
  },
  {
   "cell_type": "code",
   "execution_count": 17,
   "metadata": {},
   "outputs": [
    {
     "data": {
      "text/plain": [
       "TensorShape([4, 4, 1])"
      ]
     },
     "execution_count": 17,
     "metadata": {},
     "output_type": "execute_result"
    }
   ],
   "source": [
    "y.shape"
   ]
  },
  {
   "cell_type": "code",
   "execution_count": 18,
   "metadata": {},
   "outputs": [
    {
     "data": {
      "text/plain": [
       "<tf.Tensor: id=47, shape=(4, 4, 1), dtype=int32, numpy=\n",
       "array([[[0],\n",
       "        [1],\n",
       "        [5],\n",
       "        [6]],\n",
       "\n",
       "       [[6],\n",
       "        [6],\n",
       "        [8],\n",
       "        [3]],\n",
       "\n",
       "       [[2],\n",
       "        [1],\n",
       "        [9],\n",
       "        [4]],\n",
       "\n",
       "       [[1],\n",
       "        [1],\n",
       "        [6],\n",
       "        [0]]])>"
      ]
     },
     "execution_count": 18,
     "metadata": {},
     "output_type": "execute_result"
    }
   ],
   "source": [
    "y"
   ]
  },
  {
   "cell_type": "markdown",
   "metadata": {},
   "source": [
    "**删除维度**\n",
    "\n",
    "- 每次只能删除一个维度\n",
    "- 如果不指定维度参数 axis，即 tf.squeeze(x)，那么他会默认删除所有长度为 1 的维度\n",
    "      - tf.squeeze(x, axis)"
   ]
  },
  {
   "cell_type": "code",
   "execution_count": 19,
   "metadata": {},
   "outputs": [],
   "source": [
    "# 删除 x 第一个维度\n",
    "x = tf.squeeze(x, axis=0)"
   ]
  },
  {
   "cell_type": "code",
   "execution_count": 20,
   "metadata": {},
   "outputs": [
    {
     "data": {
      "text/plain": [
       "TensorShape([4, 4])"
      ]
     },
     "execution_count": 20,
     "metadata": {},
     "output_type": "execute_result"
    }
   ],
   "source": [
    "x.shape"
   ]
  },
  {
   "cell_type": "code",
   "execution_count": 21,
   "metadata": {},
   "outputs": [],
   "source": [
    "# 删除 y 的最后一个维度\n",
    "y = tf.squeeze(y, axis=2)"
   ]
  },
  {
   "cell_type": "code",
   "execution_count": 22,
   "metadata": {},
   "outputs": [
    {
     "data": {
      "text/plain": [
       "TensorShape([4, 4])"
      ]
     },
     "execution_count": 22,
     "metadata": {},
     "output_type": "execute_result"
    }
   ],
   "source": [
    "y.shape"
   ]
  },
  {
   "cell_type": "markdown",
   "metadata": {},
   "source": [
    "**交换维度**\n",
    "\n",
    "- 注意：交换维度。改变了张量的**存储顺序**，同时也改变了张量的**视图**\n",
    "      - tf.transpose(x, perm)"
   ]
  },
  {
   "cell_type": "code",
   "execution_count": 23,
   "metadata": {},
   "outputs": [],
   "source": [
    "x = tf.random.normal([2, 32, 32, 3])"
   ]
  },
  {
   "cell_type": "code",
   "execution_count": 24,
   "metadata": {},
   "outputs": [
    {
     "data": {
      "text/plain": [
       "TensorShape([2, 32, 32, 3])"
      ]
     },
     "execution_count": 24,
     "metadata": {},
     "output_type": "execute_result"
    }
   ],
   "source": [
    "x.shape"
   ]
  },
  {
   "cell_type": "code",
   "execution_count": 25,
   "metadata": {},
   "outputs": [],
   "source": [
    "y = tf.transpose(x, perm=[0, 3, 1, 2])"
   ]
  },
  {
   "cell_type": "code",
   "execution_count": 26,
   "metadata": {},
   "outputs": [
    {
     "data": {
      "text/plain": [
       "TensorShape([2, 3, 32, 32])"
      ]
     },
     "execution_count": 26,
     "metadata": {},
     "output_type": "execute_result"
    }
   ],
   "source": [
    "y.shape"
   ]
  },
  {
   "cell_type": "markdown",
   "metadata": {},
   "source": [
    "**数据复制**\n",
    "\n",
    "    - tf.tile(b, multiples)"
   ]
  },
  {
   "cell_type": "code",
   "execution_count": 27,
   "metadata": {},
   "outputs": [],
   "source": [
    "b = tf.constant([1, 2, 3])\n",
    "\n",
    "# 也可以使用 reshape 方法\n",
    "# b = tf.reshape(b, [-1, 3])\n",
    "b = tf.expand_dims(b, axis=0)"
   ]
  },
  {
   "cell_type": "code",
   "execution_count": 28,
   "metadata": {},
   "outputs": [
    {
     "data": {
      "text/plain": [
       "<tf.Tensor: id=60, shape=(1, 3), dtype=int32, numpy=array([[1, 2, 3]])>"
      ]
     },
     "execution_count": 28,
     "metadata": {},
     "output_type": "execute_result"
    }
   ],
   "source": [
    "b"
   ]
  },
  {
   "cell_type": "code",
   "execution_count": 29,
   "metadata": {},
   "outputs": [],
   "source": [
    "b = tf.tile(b, multiples=[2, 1])"
   ]
  },
  {
   "cell_type": "code",
   "execution_count": 30,
   "metadata": {},
   "outputs": [
    {
     "data": {
      "text/plain": [
       "<tf.Tensor: id=62, shape=(2, 3), dtype=int32, numpy=\n",
       "array([[1, 2, 3],\n",
       "       [1, 2, 3]])>"
      ]
     },
     "execution_count": 30,
     "metadata": {},
     "output_type": "execute_result"
    }
   ],
   "source": [
    "b"
   ]
  },
  {
   "cell_type": "code",
   "execution_count": 31,
   "metadata": {},
   "outputs": [
    {
     "data": {
      "text/plain": [
       "TensorShape([2, 3])"
      ]
     },
     "execution_count": 31,
     "metadata": {},
     "output_type": "execute_result"
    }
   ],
   "source": [
    "b.shape"
   ]
  },
  {
   "cell_type": "code",
   "execution_count": 32,
   "metadata": {},
   "outputs": [
    {
     "data": {
      "text/plain": [
       "<tf.Tensor: id=68, shape=(2, 2), dtype=int32, numpy=\n",
       "array([[0, 1],\n",
       "       [2, 3]])>"
      ]
     },
     "execution_count": 32,
     "metadata": {},
     "output_type": "execute_result"
    }
   ],
   "source": [
    "# -------------------\n",
    "x = tf.range(4)\n",
    "x = tf.reshape(x, [2, 2])\n",
    "x"
   ]
  },
  {
   "cell_type": "code",
   "execution_count": 33,
   "metadata": {},
   "outputs": [
    {
     "data": {
      "text/plain": [
       "<tf.Tensor: id=70, shape=(2, 4), dtype=int32, numpy=\n",
       "array([[0, 1, 0, 1],\n",
       "       [2, 3, 2, 3]])>"
      ]
     },
     "execution_count": 33,
     "metadata": {},
     "output_type": "execute_result"
    }
   ],
   "source": [
    "x = tf.tile(x, multiples=[1, 2])\n",
    "x"
   ]
  },
  {
   "cell_type": "code",
   "execution_count": 34,
   "metadata": {
    "scrolled": false
   },
   "outputs": [
    {
     "data": {
      "text/plain": [
       "<tf.Tensor: id=72, shape=(4, 4), dtype=int32, numpy=\n",
       "array([[0, 1, 0, 1],\n",
       "       [2, 3, 2, 3],\n",
       "       [0, 1, 0, 1],\n",
       "       [2, 3, 2, 3]])>"
      ]
     },
     "execution_count": 34,
     "metadata": {},
     "output_type": "execute_result"
    }
   ],
   "source": [
    "x = tf.tile(x, multiples=[2, 1])\n",
    "x"
   ]
  },
  {
   "cell_type": "markdown",
   "metadata": {},
   "source": [
    "**Broadcasting**\n",
    "\n",
    "    - tf.broadcase_to(x, new_shape)"
   ]
  },
  {
   "cell_type": "code",
   "execution_count": 39,
   "metadata": {},
   "outputs": [],
   "source": [
    "A = tf.random.normal([32, 1])"
   ]
  },
  {
   "cell_type": "code",
   "execution_count": 40,
   "metadata": {},
   "outputs": [
    {
     "data": {
      "text/plain": [
       "TensorShape([32, 1])"
      ]
     },
     "execution_count": 40,
     "metadata": {},
     "output_type": "execute_result"
    }
   ],
   "source": [
    "A.shape"
   ]
  },
  {
   "cell_type": "code",
   "execution_count": 41,
   "metadata": {},
   "outputs": [],
   "source": [
    "A = tf.broadcast_to(A, [2, 32, 32, 3])"
   ]
  },
  {
   "cell_type": "code",
   "execution_count": 42,
   "metadata": {},
   "outputs": [
    {
     "data": {
      "text/plain": [
       "TensorShape([2, 32, 32, 3])"
      ]
     },
     "execution_count": 42,
     "metadata": {},
     "output_type": "execute_result"
    }
   ],
   "source": [
    "A.shape"
   ]
  },
  {
   "cell_type": "markdown",
   "metadata": {},
   "source": [
    "### 4. 数学运算"
   ]
  },
  {
   "cell_type": "markdown",
   "metadata": {},
   "source": [
    "**加减乘除**\n",
    "\n",
    "    - tf.add\n",
    "    - tf.subtract\n",
    "    - tf.multiply\n",
    "    - tf.divide\n",
    "- 也可以使用 + - * / 运算符\n",
    "- 整除： //\n",
    "- 余除： %"
   ]
  },
  {
   "cell_type": "code",
   "execution_count": 43,
   "metadata": {},
   "outputs": [
    {
     "data": {
      "text/plain": [
       "<tf.Tensor: id=108, shape=(5,), dtype=int32, numpy=array([0, 0, 1, 1, 2])>"
      ]
     },
     "execution_count": 43,
     "metadata": {},
     "output_type": "execute_result"
    }
   ],
   "source": [
    "a = tf.range(5)\n",
    "b = tf.constant(2)\n",
    "a // b"
   ]
  },
  {
   "cell_type": "code",
   "execution_count": 44,
   "metadata": {},
   "outputs": [
    {
     "data": {
      "text/plain": [
       "<tf.Tensor: id=109, shape=(5,), dtype=int32, numpy=array([0, 1, 0, 1, 0])>"
      ]
     },
     "execution_count": 44,
     "metadata": {},
     "output_type": "execute_result"
    }
   ],
   "source": [
    "a % b"
   ]
  },
  {
   "cell_type": "markdown",
   "metadata": {},
   "source": [
    "**乘方**\n",
    "\n",
    "    - tf.pow(x, a) /或者 x**a: \n",
    "$$y = x^a$$\n",
    "    - 平方：tf.square(x)\n",
    "    - 平方根：tf.sqrt(x)"
   ]
  },
  {
   "cell_type": "code",
   "execution_count": 45,
   "metadata": {},
   "outputs": [
    {
     "data": {
      "text/plain": [
       "<tf.Tensor: id=115, shape=(4,), dtype=int32, numpy=array([ 0,  1,  8, 27])>"
      ]
     },
     "execution_count": 45,
     "metadata": {},
     "output_type": "execute_result"
    }
   ],
   "source": [
    "x = tf.range(4)\n",
    "tf.pow(x, 3)"
   ]
  },
  {
   "cell_type": "code",
   "execution_count": 46,
   "metadata": {},
   "outputs": [
    {
     "data": {
      "text/plain": [
       "<tf.Tensor: id=117, shape=(4,), dtype=int32, numpy=array([ 0,  1,  8, 27])>"
      ]
     },
     "execution_count": 46,
     "metadata": {},
     "output_type": "execute_result"
    }
   ],
   "source": [
    "x**3"
   ]
  },
  {
   "cell_type": "code",
   "execution_count": 48,
   "metadata": {},
   "outputs": [
    {
     "data": {
      "text/plain": [
       "<tf.Tensor: id=129, shape=(5,), dtype=float32, numpy=array([ 0.,  1.,  4.,  9., 16.], dtype=float32)>"
      ]
     },
     "execution_count": 48,
     "metadata": {},
     "output_type": "execute_result"
    }
   ],
   "source": [
    "x = tf.range(5)\n",
    "x = tf.cast(x, dtype=tf.float32)\n",
    "tf.square(x)"
   ]
  },
  {
   "cell_type": "code",
   "execution_count": 49,
   "metadata": {},
   "outputs": [
    {
     "data": {
      "text/plain": [
       "<tf.Tensor: id=130, shape=(5,), dtype=float32, numpy=\n",
       "array([0.       , 1.       , 1.4142135, 1.7320508, 2.       ],\n",
       "      dtype=float32)>"
      ]
     },
     "execution_count": 49,
     "metadata": {},
     "output_type": "execute_result"
    }
   ],
   "source": [
    "tf.sqrt(x)"
   ]
  },
  {
   "cell_type": "markdown",
   "metadata": {},
   "source": [
    "**指数、对数**\n",
    "    \n",
    "    - tf.pow(a, x) 或者 ** \n",
    "$$x^a$$\n",
    "    - tf.exp(x):\n",
    "$$e^x$$\n",
    "    - tf.math.log(x):\n",
    "$$\\log_ex$$\n",
    "    - 如果希望计算其他底数的对数，可以利用换底公式：\n",
    "$$\\log_ax = \\frac{\\log_ex}{\\log_ea}$$"
   ]
  },
  {
   "cell_type": "markdown",
   "metadata": {},
   "source": [
    "### 5. 矩阵相乘\n",
    "\n",
    "- 条件：a 的倒数第一个维度长度(列)和 b 的倒数第二个维度长度(行)必须相等。\n",
    "- 比如 a shape:[4,3,28,32]可以与张量 b shape:[4,3,32,2]进行矩阵相乘\n",
    "      - tf.matmul(a, b) 或者 @"
   ]
  },
  {
   "cell_type": "code",
   "execution_count": 50,
   "metadata": {},
   "outputs": [],
   "source": [
    "a = tf.random.normal([4,3,23,32]) \n",
    "b = tf.random.normal([4,3,32,2]) "
   ]
  },
  {
   "cell_type": "code",
   "execution_count": 51,
   "metadata": {},
   "outputs": [
    {
     "data": {
      "text/plain": [
       "<tf.Tensor: id=143, shape=(4, 3, 23, 2), dtype=float32, numpy=\n",
       "array([[[[ -3.7281022 ,  -0.5481143 ],\n",
       "         [ -2.5289836 ,  -7.7391057 ],\n",
       "         [ -4.9118567 ,  -7.247255  ],\n",
       "         [ -3.2518718 ,   3.28695   ],\n",
       "         [ -4.4585943 ,  -7.1668806 ],\n",
       "         [ -3.536016  ,  -4.7444386 ],\n",
       "         [ -2.5934117 ,   2.9890685 ],\n",
       "         [  0.28341842,  -3.4216423 ],\n",
       "         [ -0.90658116,   2.5143228 ],\n",
       "         [ -0.11950827,  -6.164032  ],\n",
       "         [ -4.1975727 ,   2.690537  ],\n",
       "         [  0.952472  ,  -1.670991  ],\n",
       "         [ -3.5887825 ,  -2.4879065 ],\n",
       "         [  5.7915316 ,   5.4631405 ],\n",
       "         [  6.887642  ,  -2.5512424 ],\n",
       "         [  2.070585  ,  -9.157738  ],\n",
       "         [ -0.4712479 ,   9.485025  ],\n",
       "         [  3.6912732 ,   2.3340733 ],\n",
       "         [  9.4519    ,   7.40597   ],\n",
       "         [ -0.7189307 ,  -9.064055  ],\n",
       "         [ -1.2417998 ,   5.4572954 ],\n",
       "         [ -0.6298633 ,   2.0502796 ],\n",
       "         [ -4.1185055 ,  -6.5412703 ]],\n",
       "\n",
       "        [[ -6.049983  ,  -0.06215966],\n",
       "         [  0.5185047 , -10.535197  ],\n",
       "         [  4.3188043 ,   6.3182535 ],\n",
       "         [ 11.203608  ,  -4.5085683 ],\n",
       "         [-10.445435  ,  -8.859709  ],\n",
       "         [  0.7620506 ,   4.0266886 ],\n",
       "         [  3.5979404 ,   0.04829168],\n",
       "         [  5.2930946 ,  -2.1111696 ],\n",
       "         [  6.0001426 ,   0.03498089],\n",
       "         [  1.3598206 ,   2.632568  ],\n",
       "         [ -1.8013296 ,   1.3568448 ],\n",
       "         [ -1.5486887 ,   4.6034083 ],\n",
       "         [  1.3995941 ,   3.0129561 ],\n",
       "         [ -4.872239  ,   8.269384  ],\n",
       "         [  2.1878486 ,   5.7892585 ],\n",
       "         [ -0.31336737,  -0.9776535 ],\n",
       "         [ -1.0133007 ,   2.1067255 ],\n",
       "         [ -1.0258188 ,  -2.9672384 ],\n",
       "         [ -3.6638572 ,  -4.2616634 ],\n",
       "         [ -4.4021235 ,  -3.625801  ],\n",
       "         [  1.1353095 ,   1.7618607 ],\n",
       "         [ -5.464204  ,  -3.8223128 ],\n",
       "         [ -0.22752248,   0.73727524]],\n",
       "\n",
       "        [[-11.65252   ,  -3.665658  ],\n",
       "         [ -9.389133  ,  -1.0850737 ],\n",
       "         [ -2.8013387 ,  -6.3243194 ],\n",
       "         [ -6.117379  ,  -1.7796973 ],\n",
       "         [  7.4262023 ,  -2.3241177 ],\n",
       "         [ -0.88924754,   0.31341285],\n",
       "         [ -6.958008  ,  -0.5267618 ],\n",
       "         [ 12.898878  ,   1.104537  ],\n",
       "         [  7.5457983 ,   6.9778423 ],\n",
       "         [  5.656624  ,   2.8963492 ],\n",
       "         [ -0.91859674,  -4.592801  ],\n",
       "         [  5.6117587 ,   0.05076933],\n",
       "         [  0.7602467 ,   7.591014  ],\n",
       "         [ -0.79382586,  -3.9279742 ],\n",
       "         [ -1.7816019 ,  -4.284947  ],\n",
       "         [ -8.375117  ,   8.623687  ],\n",
       "         [  0.08781266,   3.095344  ],\n",
       "         [  1.8333738 ,  -3.626308  ],\n",
       "         [ -3.1678014 ,  -8.031163  ],\n",
       "         [  1.4636447 ,  -4.5790095 ],\n",
       "         [ -8.648538  ,  -4.642554  ],\n",
       "         [  3.6103082 ,  -2.6507206 ],\n",
       "         [ -4.4048157 ,   6.217915  ]]],\n",
       "\n",
       "\n",
       "       [[[ -2.801281  ,  14.694188  ],\n",
       "         [ -2.5183196 ,   3.1215184 ],\n",
       "         [ -1.7347621 ,   2.0066235 ],\n",
       "         [ 11.886484  ,   1.5507755 ],\n",
       "         [ -7.7706814 ,  -3.1096957 ],\n",
       "         [ -1.822693  , -15.650265  ],\n",
       "         [ -0.3328631 ,   6.6757574 ],\n",
       "         [-10.482649  ,  -4.749818  ],\n",
       "         [  1.090734  ,   8.099632  ],\n",
       "         [  6.466377  ,  -1.4467912 ],\n",
       "         [  2.8413587 ,  -0.2162044 ],\n",
       "         [ -1.5834916 ,   1.5217929 ],\n",
       "         [ -9.0827265 , -18.369507  ],\n",
       "         [ -2.9406977 ,  -0.4131961 ],\n",
       "         [  3.6978195 ,   1.0869341 ],\n",
       "         [ -0.36468184,  -6.1533556 ],\n",
       "         [  6.9740114 ,   2.1976602 ],\n",
       "         [ -0.33029866,  -4.5466156 ],\n",
       "         [ -9.19326   , -11.573462  ],\n",
       "         [  3.553787  ,   3.6171963 ],\n",
       "         [ 13.009073  ,   2.3250322 ],\n",
       "         [ -4.450755  ,  -6.519088  ],\n",
       "         [  0.9684946 ,   7.401929  ]],\n",
       "\n",
       "        [[  4.237809  ,  -3.9478538 ],\n",
       "         [ -2.0288186 ,   1.5290015 ],\n",
       "         [ -5.5418625 ,   1.1037322 ],\n",
       "         [ -3.9889693 ,   3.0559962 ],\n",
       "         [  0.913754  ,   2.7791595 ],\n",
       "         [-12.286226  ,   4.1864743 ],\n",
       "         [  6.2342496 ,   9.336943  ],\n",
       "         [ -0.30709648,  -3.7459564 ],\n",
       "         [ -1.2480575 ,   4.7857533 ],\n",
       "         [ -1.3544846 ,   3.2568371 ],\n",
       "         [  9.281679  ,   1.8747139 ],\n",
       "         [ -1.1293246 , -15.844125  ],\n",
       "         [ -6.340542  ,   0.54000366],\n",
       "         [  8.401232  ,  -1.2792821 ],\n",
       "         [  3.320248  ,  -3.8913512 ],\n",
       "         [-11.937836  ,   2.1929708 ],\n",
       "         [ -9.742056  ,  -6.4798975 ],\n",
       "         [ -4.7075815 ,  -5.498904  ],\n",
       "         [ -7.5662246 ,  -1.13596   ],\n",
       "         [ -3.8935332 ,   5.31991   ],\n",
       "         [  5.3579144 ,  -3.4443603 ],\n",
       "         [ -3.4766417 ,  -1.8547851 ],\n",
       "         [  0.69250834,  -3.8360164 ]],\n",
       "\n",
       "        [[  2.1972592 ,  -0.1352855 ],\n",
       "         [  1.0501525 ,  -0.8081591 ],\n",
       "         [  5.5359635 ,   4.6126328 ],\n",
       "         [ -8.037045  ,   1.7072327 ],\n",
       "         [  0.4364791 ,  -0.4017166 ],\n",
       "         [  5.1496267 ,   2.9671385 ],\n",
       "         [ -2.7882109 ,   3.2770102 ],\n",
       "         [ -2.3803968 ,  -6.6377916 ],\n",
       "         [  8.157445  ,   7.533166  ],\n",
       "         [ -1.3005509 ,  -0.23686051],\n",
       "         [ -7.4513197 ,  -7.694318  ],\n",
       "         [  4.3012056 ,   0.41457832],\n",
       "         [  4.8037176 ,   1.6053922 ],\n",
       "         [ -1.4017115 ,  -2.8214982 ],\n",
       "         [ -0.92289925,  -5.2700777 ],\n",
       "         [ -4.931774  ,  -5.623971  ],\n",
       "         [  4.934757  ,   0.98054075],\n",
       "         [ -3.7316334 ,   6.312525  ],\n",
       "         [ -6.447357  ,  -1.6876771 ],\n",
       "         [ -4.402731  ,  -0.24541342],\n",
       "         [ -7.434832  ,  -4.1253505 ],\n",
       "         [  8.6975565 ,   1.9262675 ],\n",
       "         [  3.5382328 ,  -1.8192632 ]]],\n",
       "\n",
       "\n",
       "       [[[ 10.719492  ,   2.6747534 ],\n",
       "         [  2.6172545 ,  -4.0111203 ],\n",
       "         [ -6.187533  ,   0.12588096],\n",
       "         [ -1.8730435 , -12.605776  ],\n",
       "         [ -9.726633  ,   0.9209659 ],\n",
       "         [ -1.3921698 ,   3.981019  ],\n",
       "         [  2.7827587 ,   6.791404  ],\n",
       "         [ -7.689509  ,  -4.685466  ],\n",
       "         [  0.2838161 ,   4.243561  ],\n",
       "         [ -0.90819734,  -9.300251  ],\n",
       "         [ -9.939298  ,   7.2124586 ],\n",
       "         [  4.1797743 ,   2.0716486 ],\n",
       "         [ -0.65556   ,   8.610744  ],\n",
       "         [ -8.0039425 ,   2.1043391 ],\n",
       "         [ -2.1260211 ,  -5.66888   ],\n",
       "         [  3.9253373 ,  -0.69017935],\n",
       "         [  4.531046  ,   5.335615  ],\n",
       "         [ -4.527108  ,   6.5913153 ],\n",
       "         [  4.848603  ,  -5.4946146 ],\n",
       "         [  7.123403  ,   3.3684278 ],\n",
       "         [ -2.7076235 ,  -2.157574  ],\n",
       "         [ -1.8929513 ,   1.4044845 ],\n",
       "         [  5.3836336 ,  -6.2381163 ]],\n",
       "\n",
       "        [[  4.4320755 ,   0.55572605],\n",
       "         [ -3.567871  ,   5.7372813 ],\n",
       "         [ -1.7606046 ,  -4.9177694 ],\n",
       "         [ -4.8078785 ,  -6.9150295 ],\n",
       "         [ -3.8746123 ,   5.489785  ],\n",
       "         [  3.594964  ,  -0.5369568 ],\n",
       "         [ -1.7590797 ,   6.3673806 ],\n",
       "         [  2.4769068 ,  -7.4872007 ],\n",
       "         [ -3.8714414 ,   8.239511  ],\n",
       "         [  2.792425  ,   9.449383  ],\n",
       "         [ -7.7723517 ,  -1.4483985 ],\n",
       "         [  7.464177  ,  -2.3705454 ],\n",
       "         [ -1.5975155 ,  -1.3090966 ],\n",
       "         [ -2.2949774 ,  -6.287125  ],\n",
       "         [  3.5167627 ,   9.766148  ],\n",
       "         [  3.457948  ,  -1.5092783 ],\n",
       "         [ -0.7013502 ,  -2.233101  ],\n",
       "         [  1.3866566 ,  -0.20472717],\n",
       "         [ -3.3332934 ,  -7.703444  ],\n",
       "         [ -4.4486713 ,  12.190001  ],\n",
       "         [  0.22098911,  -5.595112  ],\n",
       "         [ -7.0326333 ,   6.836945  ],\n",
       "         [  4.773617  ,   0.05027294]],\n",
       "\n",
       "        [[  2.6531322 ,   7.534602  ],\n",
       "         [  0.90620995, -11.697007  ],\n",
       "         [ -5.8967276 ,  -1.1023477 ],\n",
       "         [ -1.6180637 ,   1.117663  ],\n",
       "         [  4.422206  ,  -1.9357517 ],\n",
       "         [  4.7861676 ,  -3.868606  ],\n",
       "         [ -2.4169655 ,   5.6252995 ],\n",
       "         [ -0.6556487 ,  -1.1317468 ],\n",
       "         [  1.8553967 ,  -0.10091949],\n",
       "         [ -2.015891  ,   3.8302062 ],\n",
       "         [ -1.3319316 ,   3.0207753 ],\n",
       "         [ -1.5806835 ,   8.3154125 ],\n",
       "         [  8.364876  ,   4.292859  ],\n",
       "         [ -8.249286  ,   0.36769056],\n",
       "         [ -9.241185  ,   3.6452856 ],\n",
       "         [ -3.2974873 ,   1.567926  ],\n",
       "         [ -7.5680323 ,  -2.3124387 ],\n",
       "         [ -1.1697363 ,   7.5567    ],\n",
       "         [ -0.50724983,  -8.614689  ],\n",
       "         [  1.2654512 ,   3.5063372 ],\n",
       "         [ -0.98322994,   5.214655  ],\n",
       "         [  1.6991186 ,   6.7540836 ],\n",
       "         [-10.489883  ,  14.777653  ]]],\n",
       "\n",
       "\n",
       "       [[[  4.177426  ,   2.2940848 ],\n",
       "         [ -1.6111788 ,   1.2965579 ],\n",
       "         [  1.2974982 ,  12.325648  ],\n",
       "         [  7.27563   ,  16.672543  ],\n",
       "         [ -3.8503456 ,  11.677201  ],\n",
       "         [  1.2925847 ,   0.16546583],\n",
       "         [ 14.312353  ,   0.83520734],\n",
       "         [  0.9487438 ,  -0.74241054],\n",
       "         [  1.9782053 ,   8.773849  ],\n",
       "         [  1.7694559 ,  -4.171017  ],\n",
       "         [  4.844728  ,   3.294827  ],\n",
       "         [  4.9501195 ,  -7.672948  ],\n",
       "         [  1.6578276 ,   9.33476   ],\n",
       "         [ -0.335662  ,   2.548724  ],\n",
       "         [ -2.775216  ,   0.6842248 ],\n",
       "         [  3.375124  ,   0.4617368 ],\n",
       "         [  0.6792333 ,  -1.0832771 ],\n",
       "         [ -3.6728082 ,   1.043923  ],\n",
       "         [  0.257697  ,  -0.45021868],\n",
       "         [  5.8193455 ,  -5.837598  ],\n",
       "         [  6.8499446 ,   4.2231207 ],\n",
       "         [ -2.7928019 ,   1.4579933 ],\n",
       "         [ -3.1978078 ,   3.7282465 ]],\n",
       "\n",
       "        [[ -6.239373  ,   5.4183517 ],\n",
       "         [ -3.36785   ,   3.0801907 ],\n",
       "         [  5.9892125 ,   0.28929478],\n",
       "         [-11.256014  ,  -0.50323176],\n",
       "         [  0.43808508,   0.8315213 ],\n",
       "         [  2.1733284 ,   0.42855477],\n",
       "         [ -5.5934114 ,   5.166725  ],\n",
       "         [ -2.7839646 ,  -5.102749  ],\n",
       "         [ 14.970232  ,  -4.928318  ],\n",
       "         [  1.0423698 ,   1.697056  ],\n",
       "         [ -0.02037466,   2.725851  ],\n",
       "         [ -2.4958892 ,  -1.4884529 ],\n",
       "         [ -6.754221  ,  -5.0165052 ],\n",
       "         [  4.299288  ,  -5.2750072 ],\n",
       "         [ -3.0987349 ,   3.9052763 ],\n",
       "         [  3.0335722 ,  -0.74646777],\n",
       "         [  1.662343  ,   1.9223183 ],\n",
       "         [ -4.033922  ,   0.47249067],\n",
       "         [ -5.72898   ,   6.539529  ],\n",
       "         [ -7.3409305 ,   5.7947536 ],\n",
       "         [  1.9049009 ,  -2.2446063 ],\n",
       "         [ 10.451727  ,   1.7563273 ],\n",
       "         [-10.376928  ,  -3.915222  ]],\n",
       "\n",
       "        [[ -1.9760001 ,   5.186395  ],\n",
       "         [ -1.060935  ,  -6.2194204 ],\n",
       "         [ -3.8634152 ,  -2.510607  ],\n",
       "         [  0.353971  ,   5.597709  ],\n",
       "         [  5.9381123 ,  -4.3279448 ],\n",
       "         [ -2.6351476 ,  20.176943  ],\n",
       "         [  7.9295473 ,  -9.674082  ],\n",
       "         [  1.0292349 ,  -8.534589  ],\n",
       "         [ -5.914468  ,   6.801482  ],\n",
       "         [  1.7515769 ,  17.40392   ],\n",
       "         [ -0.22618103,   1.5588682 ],\n",
       "         [ -3.1985762 ,  -3.9196339 ],\n",
       "         [ -0.43459964,  -1.0197968 ],\n",
       "         [  6.575529  ,   1.6985596 ],\n",
       "         [ -5.8266945 ,   2.723179  ],\n",
       "         [  6.036435  ,   1.905129  ],\n",
       "         [ -3.4062595 ,  -6.2587013 ],\n",
       "         [  5.2971616 ,  -4.5070534 ],\n",
       "         [  6.4217    ,  -6.538888  ],\n",
       "         [  2.9202514 ,   0.657315  ],\n",
       "         [ -9.976715  ,  -0.7879137 ],\n",
       "         [  3.0825717 ,   4.073807  ],\n",
       "         [ -0.6336296 ,   6.239493  ]]]], dtype=float32)>"
      ]
     },
     "execution_count": 51,
     "metadata": {},
     "output_type": "execute_result"
    }
   ],
   "source": [
    "a@b"
   ]
  },
  {
   "cell_type": "markdown",
   "metadata": {},
   "source": [
    "**注意：矩阵相乘函数支持自动 Broadcasting 机制：**"
   ]
  },
  {
   "cell_type": "code",
   "execution_count": 52,
   "metadata": {},
   "outputs": [
    {
     "data": {
      "text/plain": [
       "<tf.Tensor: id=156, shape=(4, 28, 16), dtype=float32, numpy=\n",
       "array([[[  1.9768448 ,  -0.57617867,  -5.6353865 , ...,  -5.329978  ,\n",
       "           0.06482008,  -4.104768  ],\n",
       "        [  4.632547  ,   1.2486314 ,  -4.8302383 , ...,   2.8100548 ,\n",
       "          -3.2217243 ,   2.0777693 ],\n",
       "        [ 15.179934  ,   3.9330263 ,  -0.02730425, ...,   5.827208  ,\n",
       "          -5.414667  ,  -2.1594887 ],\n",
       "        ...,\n",
       "        [ -2.1285815 ,  -1.1521646 ,  -4.5500255 , ...,  -0.1878823 ,\n",
       "          -5.2772727 ,   6.992882  ],\n",
       "        [  6.9222817 ,  -0.16247024,  -7.689714  , ...,  -6.1585565 ,\n",
       "           6.1634617 ,   0.92403054],\n",
       "        [ -2.5883725 ,  -8.376416  ,  -1.7047656 , ..., -11.042834  ,\n",
       "           6.0730577 ,  -0.59936833]],\n",
       "\n",
       "       [[  2.621737  ,  -2.9177177 ,   7.1339636 , ...,   7.4514093 ,\n",
       "          -3.5549355 ,  -6.297744  ],\n",
       "        [ -5.747243  ,  -5.4525905 ,   8.043662  , ...,   7.5935154 ,\n",
       "          -0.5756688 ,  -1.7290642 ],\n",
       "        [  0.15443516,   3.9258769 ,  -3.8513439 , ...,  -1.6524699 ,\n",
       "           1.63876   ,   5.7190204 ],\n",
       "        ...,\n",
       "        [  1.3866668 ,  -0.25460914,  -3.2556305 , ...,  -5.1751275 ,\n",
       "           8.61333   ,   9.405253  ],\n",
       "        [ -0.03285548,   4.319014  ,   7.742002  , ...,  -8.059067  ,\n",
       "          -0.64127445, -13.284565  ],\n",
       "        [ -5.729304  ,   6.3388233 ,  12.126511  , ...,   3.9833343 ,\n",
       "          -4.0600867 ,  -6.652189  ]],\n",
       "\n",
       "       [[ -3.9034455 ,   5.5911965 ,   2.5580115 , ...,  -2.0508678 ,\n",
       "           7.9916506 ,  -0.7073151 ],\n",
       "        [ -1.0657173 ,  -0.12000185,  11.260116  , ...,   2.1288981 ,\n",
       "          -5.1761155 ,  -0.3168348 ],\n",
       "        [ -6.1534033 ,   4.4870167 ,   2.3973851 , ...,  -4.174906  ,\n",
       "          -0.96437794,  -2.0357895 ],\n",
       "        ...,\n",
       "        [ -5.350875  ,   3.265084  ,  10.413289  , ...,  -5.2073236 ,\n",
       "           5.2589784 ,   3.8550067 ],\n",
       "        [  5.839319  ,   7.3641267 ,  -3.893027  , ...,   3.0838878 ,\n",
       "          -0.32852748,  -1.9616615 ],\n",
       "        [ -1.626126  ,  -1.1892486 ,  -0.21598244, ...,   6.929951  ,\n",
       "          -4.364372  ,   2.2798038 ]],\n",
       "\n",
       "       [[ -0.21936266,   8.999435  ,  -0.72981536, ...,  -5.169976  ,\n",
       "           3.1291623 , -14.468013  ],\n",
       "        [ -0.60324347,  -4.4869785 ,  -8.80399   , ...,   4.753938  ,\n",
       "          -5.8584623 , -17.102291  ],\n",
       "        [ -5.670508  ,  -4.1566653 ,  -1.1503    , ...,  -6.8437967 ,\n",
       "         -11.072625  ,  -2.8309116 ],\n",
       "        ...,\n",
       "        [  1.1098027 ,   4.9560223 ,   0.05505979, ...,  -6.5857954 ,\n",
       "           5.6001077 ,  -6.857683  ],\n",
       "        [ -1.3091854 ,  -0.61755204,   3.215029  , ...,   3.7064996 ,\n",
       "          -7.554852  ,  -4.961153  ],\n",
       "        [ -6.0390506 ,   0.7669136 ,   8.374281  , ...,  10.01623   ,\n",
       "           2.282422  ,  -3.9788523 ]]], dtype=float32)>"
      ]
     },
     "execution_count": 52,
     "metadata": {},
     "output_type": "execute_result"
    }
   ],
   "source": [
    "a = tf.random.normal([4,28,32]) \n",
    "b = tf.random.normal([32,16]) \n",
    "tf.matmul(a,b)"
   ]
  },
  {
   "cell_type": "code",
   "execution_count": null,
   "metadata": {},
   "outputs": [],
   "source": []
  }
 ],
 "metadata": {
  "kernelspec": {
   "display_name": "Python 3",
   "language": "python",
   "name": "python3"
  },
  "language_info": {
   "codemirror_mode": {
    "name": "ipython",
    "version": 3
   },
   "file_extension": ".py",
   "mimetype": "text/x-python",
   "name": "python",
   "nbconvert_exporter": "python",
   "pygments_lexer": "ipython3",
   "version": "3.6.6"
  }
 },
 "nbformat": 4,
 "nbformat_minor": 2
}
