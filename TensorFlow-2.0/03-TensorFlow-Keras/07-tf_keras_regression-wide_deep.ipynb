{
 "cells": [
  {
   "cell_type": "code",
   "execution_count": 1,
   "metadata": {},
   "outputs": [],
   "source": [
    "import os\n",
    "import sys\n",
    "\n",
    "import matplotlib.pyplot as plt\n",
    "import pandas as pd\n",
    "import numpy as np\n",
    "\n",
    "import tensorflow as tf\n",
    "from tensorflow import keras\n",
    "from tensorflow.keras import Sequential, optimizers, layers"
   ]
  },
  {
   "cell_type": "markdown",
   "metadata": {},
   "source": [
    "### 1. 准备数据"
   ]
  },
  {
   "cell_type": "code",
   "execution_count": 2,
   "metadata": {},
   "outputs": [
    {
     "name": "stdout",
     "output_type": "stream",
     "text": [
      ".. _california_housing_dataset:\n",
      "\n",
      "California Housing dataset\n",
      "--------------------------\n",
      "\n",
      "**Data Set Characteristics:**\n",
      "\n",
      "    :Number of Instances: 20640\n",
      "\n",
      "    :Number of Attributes: 8 numeric, predictive attributes and the target\n",
      "\n",
      "    :Attribute Information:\n",
      "        - MedInc        median income in block\n",
      "        - HouseAge      median house age in block\n",
      "        - AveRooms      average number of rooms\n",
      "        - AveBedrms     average number of bedrooms\n",
      "        - Population    block population\n",
      "        - AveOccup      average house occupancy\n",
      "        - Latitude      house block latitude\n",
      "        - Longitude     house block longitude\n",
      "\n",
      "    :Missing Attribute Values: None\n",
      "\n",
      "This dataset was obtained from the StatLib repository.\n",
      "http://lib.stat.cmu.edu/datasets/\n",
      "\n",
      "The target variable is the median house value for California districts.\n",
      "\n",
      "This dataset was derived from the 1990 U.S. census, using one row per census\n",
      "block group. A block group is the smallest geographical unit for which the U.S.\n",
      "Census Bureau publishes sample data (a block group typically has a population\n",
      "of 600 to 3,000 people).\n",
      "\n",
      "It can be downloaded/loaded using the\n",
      ":func:`sklearn.datasets.fetch_california_housing` function.\n",
      "\n",
      ".. topic:: References\n",
      "\n",
      "    - Pace, R. Kelley and Ronald Barry, Sparse Spatial Autoregressions,\n",
      "      Statistics and Probability Letters, 33 (1997) 291-297\n",
      "\n",
      "(20640, 8)\n",
      "(20640,)\n"
     ]
    }
   ],
   "source": [
    "from sklearn.datasets import fetch_california_housing\n",
    "\n",
    "housing = fetch_california_housing()\n",
    "print(housing.DESCR)\n",
    "print(housing.data.shape)\n",
    "print(housing.target.shape)"
   ]
  },
  {
   "cell_type": "markdown",
   "metadata": {},
   "source": [
    "**数据分割**"
   ]
  },
  {
   "cell_type": "code",
   "execution_count": 3,
   "metadata": {},
   "outputs": [
    {
     "name": "stdout",
     "output_type": "stream",
     "text": [
      "(11610, 8) (11610,)\n",
      "(3870, 8) (3870,)\n",
      "(5160, 8) (5160,)\n"
     ]
    }
   ],
   "source": [
    "from sklearn.model_selection import train_test_split\n",
    "\n",
    "x_train_all, x_test, y_train_all, y_test = train_test_split(\n",
    "    housing.data, housing.target, random_state = 7)\n",
    "x_train, x_valid, y_train, y_valid = train_test_split(\n",
    "    x_train_all, y_train_all, random_state = 11)\n",
    "print(x_train.shape, y_train.shape)\n",
    "print(x_valid.shape, y_valid.shape)\n",
    "print(x_test.shape, y_test.shape)"
   ]
  },
  {
   "cell_type": "markdown",
   "metadata": {},
   "source": [
    "**归一化**"
   ]
  },
  {
   "cell_type": "code",
   "execution_count": 4,
   "metadata": {},
   "outputs": [],
   "source": [
    "from sklearn.preprocessing import StandardScaler\n",
    "\n",
    "scaler = StandardScaler()\n",
    "x_train_scaled = scaler.fit_transform(x_train)\n",
    "x_valid_scaled = scaler.transform(x_valid)\n",
    "x_test_scaled = scaler.transform(x_test)"
   ]
  },
  {
   "cell_type": "markdown",
   "metadata": {},
   "source": [
    "### 2. 模型构建"
   ]
  },
  {
   "cell_type": "code",
   "execution_count": 5,
   "metadata": {},
   "outputs": [
    {
     "data": {
      "text/plain": [
       "(8,)"
      ]
     },
     "execution_count": 5,
     "metadata": {},
     "output_type": "execute_result"
    }
   ],
   "source": [
    "x_train.shape[1:]"
   ]
  },
  {
   "cell_type": "markdown",
   "metadata": {},
   "source": [
    "#### 1. 使用函数式 API"
   ]
  },
  {
   "cell_type": "code",
   "execution_count": 6,
   "metadata": {},
   "outputs": [
    {
     "name": "stdout",
     "output_type": "stream",
     "text": [
      "Model: \"model\"\n",
      "__________________________________________________________________________________________________\n",
      "Layer (type)                    Output Shape         Param #     Connected to                     \n",
      "==================================================================================================\n",
      "input_1 (InputLayer)            [(None, 8)]          0                                            \n",
      "__________________________________________________________________________________________________\n",
      "dense (Dense)                   (None, 30)           270         input_1[0][0]                    \n",
      "__________________________________________________________________________________________________\n",
      "dense_1 (Dense)                 (None, 30)           930         dense[0][0]                      \n",
      "__________________________________________________________________________________________________\n",
      "concatenate (Concatenate)       (None, 38)           0           input_1[0][0]                    \n",
      "                                                                 dense_1[0][0]                    \n",
      "__________________________________________________________________________________________________\n",
      "dense_2 (Dense)                 (None, 1)            39          concatenate[0][0]                \n",
      "==================================================================================================\n",
      "Total params: 1,239\n",
      "Trainable params: 1,239\n",
      "Non-trainable params: 0\n",
      "__________________________________________________________________________________________________\n"
     ]
    }
   ],
   "source": [
    "input = layers.Input(shape=x_train.shape[1:])\n",
    "hidden1 = layers.Dense(30, activation=\"relu\")(input)\n",
    "hidden2 = layers.Dense(30, activation=\"relu\")(hidden1)\n",
    "\n",
    "concat = layers.concatenate([input, hidden2])\n",
    "output = layers.Dense(1)(concat)\n",
    "\n",
    "model = keras.models.Model(inputs=[input], outputs = [output])\n",
    "\n",
    "model.summary()\n",
    "model.compile(loss=\"mean_squared_error\", optimizers=\"sgd\")\n",
    "callbacks = [\n",
    "    keras.callbacks.EarlyStopping(patience=3, min_delta=1e-2)\n",
    "]"
   ]
  },
  {
   "cell_type": "code",
   "execution_count": 7,
   "metadata": {},
   "outputs": [],
   "source": [
    "# model.build?"
   ]
  },
  {
   "cell_type": "code",
   "execution_count": 8,
   "metadata": {},
   "outputs": [
    {
     "name": "stdout",
     "output_type": "stream",
     "text": [
      "Train on 11610 samples, validate on 3870 samples\n",
      "Epoch 1/100\n",
      "11610/11610 [==============================] - 2s 202us/sample - loss: 1.5682 - val_loss: 0.6022\n",
      "Epoch 2/100\n",
      "11610/11610 [==============================] - 1s 77us/sample - loss: 0.4785 - val_loss: 0.4651\n",
      "Epoch 3/100\n",
      "11610/11610 [==============================] - 1s 75us/sample - loss: 0.4089 - val_loss: 0.3962\n",
      "Epoch 4/100\n",
      "11610/11610 [==============================] - 1s 71us/sample - loss: 0.3802 - val_loss: 0.3908\n",
      "Epoch 5/100\n",
      "11610/11610 [==============================] - 1s 90us/sample - loss: 0.3630 - val_loss: 0.3727\n",
      "Epoch 6/100\n",
      "11610/11610 [==============================] - 1s 81us/sample - loss: 0.3539 - val_loss: 0.3517\n",
      "Epoch 7/100\n",
      "11610/11610 [==============================] - 1s 70us/sample - loss: 0.3497 - val_loss: 0.3456\n",
      "Epoch 8/100\n",
      "11610/11610 [==============================] - 1s 77us/sample - loss: 0.3472 - val_loss: 0.3443\n",
      "Epoch 9/100\n",
      "11610/11610 [==============================] - 1s 82us/sample - loss: 0.3449 - val_loss: 0.3550\n"
     ]
    }
   ],
   "source": [
    "history = model.fit(x_train_scaled, y_train, \n",
    "                    validation_data=(x_valid_scaled, y_valid),\n",
    "                   epochs=100, callbacks=callbacks)"
   ]
  },
  {
   "cell_type": "code",
   "execution_count": 9,
   "metadata": {},
   "outputs": [],
   "source": [
    "# model.fit?"
   ]
  },
  {
   "cell_type": "code",
   "execution_count": 10,
   "metadata": {},
   "outputs": [
    {
     "data": {
      "image/png": "[encoded data removed]",
      "text/plain": [
       "<Figure size 576x360 with 1 Axes>"
      ]
     },
     "metadata": {
      "needs_background": "light"
     },
     "output_type": "display_data"
    }
   ],
   "source": [
    "def plot_learning_curves(history):\n",
    "    pd.DataFrame(history.history).plot(figsize=(8, 5))\n",
    "    plt.grid(True)\n",
    "    plt.gca().set_ylim(0, 1)\n",
    "    plt.show()\n",
    "plot_learning_curves(history)"
   ]
  },
  {
   "cell_type": "code",
   "execution_count": 11,
   "metadata": {
    "scrolled": false
   },
   "outputs": [
    {
     "name": "stdout",
     "output_type": "stream",
     "text": [
      "5160/1 - 0s - loss: 0.5093\n"
     ]
    },
    {
     "data": {
      "text/plain": [
       "0.43965419905130254"
      ]
     },
     "execution_count": 11,
     "metadata": {},
     "output_type": "execute_result"
    }
   ],
   "source": [
    "model.evaluate(x_test_scaled, y_test, verbose=2)"
   ]
  },
  {
   "cell_type": "markdown",
   "metadata": {},
   "source": [
    "#### 2. 使用子类 API实现"
   ]
  },
  {
   "cell_type": "code",
   "execution_count": 12,
   "metadata": {},
   "outputs": [
    {
     "name": "stdout",
     "output_type": "stream",
     "text": [
      "Model: \"wide_deep_model\"\n",
      "_________________________________________________________________\n",
      "Layer (type)                 Output Shape              Param #   \n",
      "=================================================================\n",
      "dense_3 (Dense)              multiple                  270       \n",
      "_________________________________________________________________\n",
      "dense_4 (Dense)              multiple                  930       \n",
      "_________________________________________________________________\n",
      "dense_5 (Dense)              multiple                  39        \n",
      "=================================================================\n",
      "Total params: 1,239\n",
      "Trainable params: 1,239\n",
      "Non-trainable params: 0\n",
      "_________________________________________________________________\n"
     ]
    }
   ],
   "source": [
    "class WideDeepModel(keras.models.Model):\n",
    "    def __init__(self):\n",
    "        super(WideDeepModel, self).__init__()\n",
    "        \"\"\"定义模型的层次\"\"\"\n",
    "        self.hidden1_layer = keras.layers.Dense(30, activation='relu')\n",
    "        self.hidden2_layer = keras.layers.Dense(30, activation='relu')\n",
    "        self.output_layer = layers.Dense(1)\n",
    "    \n",
    "    def call(self, input):\n",
    "        \"\"\"完成模型的正向运算\"\"\"\n",
    "        hidden1 = self.hidden1_layer(input)\n",
    "        hidden2 = self.hidden2_layer(hidden1)\n",
    "        concat = layers.concatenate([input, hidden2])\n",
    "        output = self.output_layer(concat)\n",
    "        return output\n",
    "    \n",
    "widedeepmodel = WideDeepModel()\n",
    "# widedeepmodel = keras.Sequential([\n",
    "#     WideDeepModel(),\n",
    "# ])\n",
    "widedeepmodel.build(input_shape=(None, 8))\n",
    "widedeepmodel.summary()\n",
    "widedeepmodel.compile(loss=\"mean_squared_error\", optimizers=\"sgd\")\n",
    "callbacks = [\n",
    "    keras.callbacks.EarlyStopping(patience=5, min_delta=1e-2)\n",
    "]"
   ]
  },
  {
   "cell_type": "code",
   "execution_count": 13,
   "metadata": {
    "scrolled": true
   },
   "outputs": [
    {
     "name": "stdout",
     "output_type": "stream",
     "text": [
      "Train on 11610 samples, validate on 3870 samples\n",
      "Epoch 1/100\n",
      "11610/11610 [==============================] - 2s 149us/sample - loss: 1.0092 - val_loss: 0.5314\n",
      "Epoch 2/100\n",
      "11610/11610 [==============================] - 1s 84us/sample - loss: 0.4388 - val_loss: 0.4156\n",
      "Epoch 3/100\n",
      "11610/11610 [==============================] - 1s 78us/sample - loss: 0.4005 - val_loss: 0.3914\n",
      "Epoch 4/100\n",
      "11610/11610 [==============================] - 1s 71us/sample - loss: 0.3659 - val_loss: 0.3745\n",
      "Epoch 5/100\n",
      "11610/11610 [==============================] - 1s 67us/sample - loss: 0.3509 - val_loss: 0.3535\n",
      "Epoch 6/100\n",
      "11610/11610 [==============================] - 1s 67us/sample - loss: 0.3432 - val_loss: 0.3544\n",
      "Epoch 7/100\n",
      "11610/11610 [==============================] - 1s 90us/sample - loss: 0.3333 - val_loss: 0.3521\n",
      "Epoch 8/100\n",
      "11610/11610 [==============================] - 1s 95us/sample - loss: 0.3355 - val_loss: 0.3413\n",
      "Epoch 9/100\n",
      "11610/11610 [==============================] - 1s 66us/sample - loss: 0.3201 - val_loss: 0.3467\n",
      "Epoch 10/100\n",
      "11610/11610 [==============================] - 1s 68us/sample - loss: 0.3123 - val_loss: 0.3281\n",
      "Epoch 11/100\n",
      "11610/11610 [==============================] - 1s 83us/sample - loss: 0.3098 - val_loss: 0.3276\n",
      "Epoch 12/100\n",
      "11610/11610 [==============================] - 1s 105us/sample - loss: 0.3055 - val_loss: 0.3184\n",
      "Epoch 13/100\n",
      "11610/11610 [==============================] - 1s 122us/sample - loss: 0.3057 - val_loss: 0.3144\n",
      "Epoch 14/100\n",
      "11610/11610 [==============================] - 1s 105us/sample - loss: 0.2976 - val_loss: 0.3168\n",
      "Epoch 15/100\n",
      "11610/11610 [==============================] - 1s 93us/sample - loss: 0.2976 - val_loss: 0.3089\n",
      "Epoch 16/100\n",
      "11610/11610 [==============================] - 1s 89us/sample - loss: 0.2974 - val_loss: 0.3082\n",
      "Epoch 17/100\n",
      "11610/11610 [==============================] - 1s 89us/sample - loss: 0.2925 - val_loss: 0.3408\n",
      "Epoch 18/100\n",
      "11610/11610 [==============================] - 1s 110us/sample - loss: 0.2931 - val_loss: 0.3078\n"
     ]
    }
   ],
   "source": [
    "history = widedeepmodel.fit(x_train_scaled, y_train, \n",
    "                    validation_data=(x_valid_scaled, y_valid),\n",
    "                   epochs=100, callbacks=callbacks)"
   ]
  },
  {
   "cell_type": "code",
   "execution_count": 14,
   "metadata": {},
   "outputs": [
    {
     "data": {
      "image/png": "[encoded data removed]",
      "text/plain": [
       "<Figure size 576x360 with 1 Axes>"
      ]
     },
     "metadata": {
      "needs_background": "light"
     },
     "output_type": "display_data"
    }
   ],
   "source": [
    "plot_learning_curves(history)"
   ]
  },
  {
   "cell_type": "code",
   "execution_count": 15,
   "metadata": {},
   "outputs": [
    {
     "name": "stdout",
     "output_type": "stream",
     "text": [
      "5160/1 - 0s - loss: 0.4374\n"
     ]
    },
    {
     "data": {
      "text/plain": [
       "0.3404532072618026"
      ]
     },
     "execution_count": 15,
     "metadata": {},
     "output_type": "execute_result"
    }
   ],
   "source": [
    "widedeepmodel.evaluate(x_test_scaled, y_test, verbose=2)"
   ]
  },
  {
   "cell_type": "markdown",
   "metadata": {},
   "source": [
    "#### 3. wide deep 多输入"
   ]
  },
  {
   "cell_type": "code",
   "execution_count": 20,
   "metadata": {},
   "outputs": [],
   "source": [
    "# 数据一共 8 个特征，我们把前 5 个输入到 wide 模型， 后 6 个输入到 deep 模型\n",
    "input_wide = layers.Input(shape=[5])\n",
    "input_deep = layers.Input(shape=[6])\n",
    "hidden1 = layers.Dense(30, activation='relu')(input_deep)\n",
    "hidden2 = layers.Dense(30, activation='relu')(hidden1)\n",
    "concat = layers.concatenate([input_wide, hidden2])\n",
    "output = layers.Dense(1)(concat)\n",
    "\n",
    "model3 = keras.models.Model(inputs=[input_wide, input_deep], outputs=[output])\n",
    "\n",
    "# model3.summary()\n",
    "model3.compile(loss=\"mean_squared_error\", optimizers=\"sgd\")\n",
    "callbacks = [\n",
    "    keras.callbacks.EarlyStopping(patience=3, min_delta=1e-2)\n",
    "]"
   ]
  },
  {
   "cell_type": "code",
   "execution_count": 18,
   "metadata": {},
   "outputs": [
    {
     "name": "stdout",
     "output_type": "stream",
     "text": [
      "Train on 11610 samples, validate on 3870 samples\n",
      "Epoch 1/100\n",
      "11610/11610 [==============================] - 2s 151us/sample - loss: 1.2898 - val_loss: 0.6881\n",
      "Epoch 2/100\n",
      "11610/11610 [==============================] - 1s 89us/sample - loss: 0.5658 - val_loss: 0.4989\n",
      "Epoch 3/100\n",
      "11610/11610 [==============================] - 1s 95us/sample - loss: 0.4371 - val_loss: 0.4375\n",
      "Epoch 4/100\n",
      "11610/11610 [==============================] - 1s 83us/sample - loss: 0.4027 - val_loss: 0.4066\n",
      "Epoch 5/100\n",
      "11610/11610 [==============================] - 1s 81us/sample - loss: 0.3860 - val_loss: 0.3851\n",
      "Epoch 6/100\n",
      "11610/11610 [==============================] - 1s 102us/sample - loss: 0.3826 - val_loss: 0.3746\n",
      "Epoch 7/100\n",
      "11610/11610 [==============================] - 1s 99us/sample - loss: 0.3646 - val_loss: 0.3749\n",
      "Epoch 8/100\n",
      "11610/11610 [==============================] - 1s 107us/sample - loss: 0.3614 - val_loss: 0.3709\n",
      "Epoch 9/100\n",
      "11610/11610 [==============================] - 1s 91us/sample - loss: 0.3577 - val_loss: 0.3718\n"
     ]
    }
   ],
   "source": [
    "x_train_scaled_wide = x_train_scaled[:, :5]\n",
    "x_train_scaled_deep = x_train_scaled[:, 2:]\n",
    "x_valid_scaled_wide = x_valid_scaled[:, :5]\n",
    "x_valid_scaled_deep = x_valid_scaled[:, 2:]\n",
    "x_test_scaled_wide = x_test_scaled[:, :5]\n",
    "x_test_scaled_deep = x_test_scaled[:, 2:]\n",
    "\n",
    "history = model3.fit([x_train_scaled_wide, x_train_scaled_deep], y_train, \n",
    "                    validation_data=([x_valid_scaled_wide, x_valid_scaled_deep], y_valid),\n",
    "                   epochs=100, callbacks=callbacks)"
   ]
  },
  {
   "cell_type": "code",
   "execution_count": 19,
   "metadata": {},
   "outputs": [
    {
     "name": "stdout",
     "output_type": "stream",
     "text": [
      "5160/1 - 0s - loss: 0.5024\n"
     ]
    },
    {
     "data": {
      "text/plain": [
       "0.39564001227534096"
      ]
     },
     "execution_count": 19,
     "metadata": {},
     "output_type": "execute_result"
    }
   ],
   "source": [
    "model3.evaluate([x_test_scaled_wide, x_test_scaled_deep], y_test, verbose=2)"
   ]
  },
  {
   "cell_type": "markdown",
   "metadata": {},
   "source": [
    "#### 4. wide deep 多输出"
   ]
  },
  {
   "cell_type": "code",
   "execution_count": 22,
   "metadata": {},
   "outputs": [],
   "source": [
    "# 数据一共 8 个特征，我们把前 5 个输入到 wide 模型， 后 6 个输入到 deep 模型\n",
    "input_wide = layers.Input(shape=[5])\n",
    "input_deep = layers.Input(shape=[6])\n",
    "hidden1 = layers.Dense(30, activation='relu')(input_deep)\n",
    "hidden2 = layers.Dense(30, activation='relu')(hidden1)\n",
    "concat = layers.concatenate([input_wide, hidden2])\n",
    "output = layers.Dense(1)(concat)\n",
    "output2 = layers.Dense(1)(hidden2)\n",
    "\n",
    "model3 = keras.models.Model(inputs=[input_wide, input_deep], \n",
    "                            outputs=[output, output2])\n",
    "\n",
    "# model3.summary()\n",
    "model3.compile(loss=\"mean_squared_error\", optimizers=\"sgd\")\n",
    "callbacks = [\n",
    "    keras.callbacks.EarlyStopping(patience=3, min_delta=1e-2)\n",
    "]"
   ]
  },
  {
   "cell_type": "code",
   "execution_count": 23,
   "metadata": {},
   "outputs": [
    {
     "name": "stdout",
     "output_type": "stream",
     "text": [
      "Train on 11610 samples, validate on 3870 samples\n",
      "Epoch 1/20\n",
      "11610/11610 [==============================] - 3s 247us/sample - loss: 3.1540 - dense_18_loss: 1.7191 - dense_19_loss: 1.4336 - val_loss: 1.3099 - val_dense_18_loss: 0.5900 - val_dense_19_loss: 0.7198\n",
      "Epoch 2/20\n",
      "11610/11610 [==============================] - 1s 114us/sample - loss: 1.0808 - dense_18_loss: 0.4773 - dense_19_loss: 0.6032 - val_loss: 1.0342 - val_dense_18_loss: 0.4470 - val_dense_19_loss: 0.5871\n",
      "Epoch 3/20\n",
      "11610/11610 [==============================] - 1s 93us/sample - loss: 0.9546 - dense_18_loss: 0.4118 - dense_19_loss: 0.5429 - val_loss: 0.9596 - val_dense_18_loss: 0.4136 - val_dense_19_loss: 0.5459\n",
      "Epoch 4/20\n",
      "11610/11610 [==============================] - 1s 96us/sample - loss: 0.8923 - dense_18_loss: 0.3869 - dense_19_loss: 0.5053 - val_loss: 0.8935 - val_dense_18_loss: 0.3891 - val_dense_19_loss: 0.5042\n",
      "Epoch 5/20\n",
      "11610/11610 [==============================] - 2s 133us/sample - loss: 0.8522 - dense_18_loss: 0.3748 - dense_19_loss: 0.4773 - val_loss: 0.8500 - val_dense_18_loss: 0.3729 - val_dense_19_loss: 0.4770\n",
      "Epoch 6/20\n",
      "11610/11610 [==============================] - 1s 105us/sample - loss: 0.8222 - dense_18_loss: 0.3676 - dense_19_loss: 0.4546 - val_loss: 0.8403 - val_dense_18_loss: 0.3680 - val_dense_19_loss: 0.4721\n",
      "Epoch 7/20\n",
      "11610/11610 [==============================] - 2s 131us/sample - loss: 0.8023 - dense_18_loss: 0.3640 - dense_19_loss: 0.4385 - val_loss: 0.8109 - val_dense_18_loss: 0.3641 - val_dense_19_loss: 0.4467\n",
      "Epoch 8/20\n",
      "11610/11610 [==============================] - 1s 102us/sample - loss: 0.7851 - dense_18_loss: 0.3604 - dense_19_loss: 0.4245 - val_loss: 0.7859 - val_dense_18_loss: 0.3544 - val_dense_19_loss: 0.4313\n",
      "Epoch 9/20\n",
      "11610/11610 [==============================] - 1s 99us/sample - loss: 0.7751 - dense_18_loss: 0.3567 - dense_19_loss: 0.4183 - val_loss: 0.7590 - val_dense_18_loss: 0.3456 - val_dense_19_loss: 0.4133\n",
      "Epoch 10/20\n",
      "11610/11610 [==============================] - 2s 130us/sample - loss: 0.7572 - dense_18_loss: 0.3487 - dense_19_loss: 0.4084 - val_loss: 0.7748 - val_dense_18_loss: 0.3521 - val_dense_19_loss: 0.4226\n",
      "Epoch 11/20\n",
      "11610/11610 [==============================] - 1s 100us/sample - loss: 0.7559 - dense_18_loss: 0.3484 - dense_19_loss: 0.4075 - val_loss: 0.7489 - val_dense_18_loss: 0.3407 - val_dense_19_loss: 0.4081\n",
      "Epoch 12/20\n",
      "11610/11610 [==============================] - 1s 94us/sample - loss: 0.7523 - dense_18_loss: 0.3463 - dense_19_loss: 0.4058 - val_loss: 0.7441 - val_dense_18_loss: 0.3414 - val_dense_19_loss: 0.4026\n",
      "Epoch 13/20\n",
      "11610/11610 [==============================] - 1s 93us/sample - loss: 0.7483 - dense_18_loss: 0.3441 - dense_19_loss: 0.4045 - val_loss: 0.7353 - val_dense_18_loss: 0.3364 - val_dense_19_loss: 0.3988\n",
      "Epoch 14/20\n",
      "11610/11610 [==============================] - 1s 95us/sample - loss: 0.7318 - dense_18_loss: 0.3375 - dense_19_loss: 0.3943 - val_loss: 0.7365 - val_dense_18_loss: 0.3381 - val_dense_19_loss: 0.3983\n",
      "Epoch 15/20\n",
      "11610/11610 [==============================] - 2s 135us/sample - loss: 0.7190 - dense_18_loss: 0.3315 - dense_19_loss: 0.3874 - val_loss: 0.7687 - val_dense_18_loss: 0.3503 - val_dense_19_loss: 0.4183\n",
      "Epoch 16/20\n",
      "11610/11610 [==============================] - 1s 88us/sample - loss: 0.7169 - dense_18_loss: 0.3308 - dense_19_loss: 0.3863 - val_loss: 0.7498 - val_dense_18_loss: 0.3462 - val_dense_19_loss: 0.4035\n"
     ]
    }
   ],
   "source": [
    "history = model3.fit([x_train_scaled_wide, x_train_scaled_deep], \n",
    "                     [y_train, y_train], \n",
    "                    validation_data=([x_valid_scaled_wide, x_valid_scaled_deep], \n",
    "                                     [y_valid, y_valid]),\n",
    "                   epochs=20, callbacks=callbacks)"
   ]
  },
  {
   "cell_type": "code",
   "execution_count": 24,
   "metadata": {},
   "outputs": [
    {
     "data": {
      "image/png": "[encoded data removed]",
      "text/plain": [
       "<Figure size 576x360 with 1 Axes>"
      ]
     },
     "metadata": {
      "needs_background": "light"
     },
     "output_type": "display_data"
    }
   ],
   "source": [
    "plot_learning_curves(history)"
   ]
  },
  {
   "cell_type": "code",
   "execution_count": 25,
   "metadata": {},
   "outputs": [
    {
     "name": "stdout",
     "output_type": "stream",
     "text": [
      "5160/1 - 0s - loss: 0.8618 - dense_18_loss: 0.3753 - dense_19_loss: 0.4042\n"
     ]
    },
    {
     "data": {
      "text/plain": [
       "[0.7787590827128684, 0.3753196, 0.40420806]"
      ]
     },
     "execution_count": 25,
     "metadata": {},
     "output_type": "execute_result"
    }
   ],
   "source": [
    "model3.evaluate([x_test_scaled_wide, x_test_scaled_deep],\n",
    "               [y_test, y_test], verbose=2)"
   ]
  },
  {
   "cell_type": "code",
   "execution_count": null,
   "metadata": {},
   "outputs": [],
   "source": []
  }
 ],
 "metadata": {
  "kernelspec": {
   "display_name": "Python 3",
   "language": "python",
   "name": "python3"
  },
  "language_info": {
   "codemirror_mode": {
    "name": "ipython",
    "version": 3
   },
   "file_extension": ".py",
   "mimetype": "text/x-python",
   "name": "python",
   "nbconvert_exporter": "python",
   "pygments_lexer": "ipython3",
   "version": "3.6.6"
  }
 },
 "nbformat": 4,
 "nbformat_minor": 2
}
