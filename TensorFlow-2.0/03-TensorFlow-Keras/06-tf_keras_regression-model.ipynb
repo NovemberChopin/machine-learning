{
 "cells": [
  {
   "cell_type": "code",
   "execution_count": 1,
   "metadata": {},
   "outputs": [],
   "source": [
    "import os\n",
    "import sys\n",
    "\n",
    "import matplotlib.pyplot as plt\n",
    "import pandas as pd\n",
    "import numpy as np\n",
    "\n",
    "import tensorflow as tf\n",
    "from tensorflow import keras\n",
    "from tensorflow.keras import Sequential, optimizers, layers"
   ]
  },
  {
   "cell_type": "markdown",
   "metadata": {},
   "source": [
    "### 1. 准备数据"
   ]
  },
  {
   "cell_type": "code",
   "execution_count": 2,
   "metadata": {},
   "outputs": [
    {
     "name": "stdout",
     "output_type": "stream",
     "text": [
      ".. _california_housing_dataset:\n",
      "\n",
      "California Housing dataset\n",
      "--------------------------\n",
      "\n",
      "**Data Set Characteristics:**\n",
      "\n",
      "    :Number of Instances: 20640\n",
      "\n",
      "    :Number of Attributes: 8 numeric, predictive attributes and the target\n",
      "\n",
      "    :Attribute Information:\n",
      "        - MedInc        median income in block\n",
      "        - HouseAge      median house age in block\n",
      "        - AveRooms      average number of rooms\n",
      "        - AveBedrms     average number of bedrooms\n",
      "        - Population    block population\n",
      "        - AveOccup      average house occupancy\n",
      "        - Latitude      house block latitude\n",
      "        - Longitude     house block longitude\n",
      "\n",
      "    :Missing Attribute Values: None\n",
      "\n",
      "This dataset was obtained from the StatLib repository.\n",
      "http://lib.stat.cmu.edu/datasets/\n",
      "\n",
      "The target variable is the median house value for California districts.\n",
      "\n",
      "This dataset was derived from the 1990 U.S. census, using one row per census\n",
      "block group. A block group is the smallest geographical unit for which the U.S.\n",
      "Census Bureau publishes sample data (a block group typically has a population\n",
      "of 600 to 3,000 people).\n",
      "\n",
      "It can be downloaded/loaded using the\n",
      ":func:`sklearn.datasets.fetch_california_housing` function.\n",
      "\n",
      ".. topic:: References\n",
      "\n",
      "    - Pace, R. Kelley and Ronald Barry, Sparse Spatial Autoregressions,\n",
      "      Statistics and Probability Letters, 33 (1997) 291-297\n",
      "\n",
      "(20640, 8)\n",
      "(20640,)\n"
     ]
    }
   ],
   "source": [
    "from sklearn.datasets import fetch_california_housing\n",
    "\n",
    "housing = fetch_california_housing()\n",
    "print(housing.DESCR)\n",
    "print(housing.data.shape)\n",
    "print(housing.target.shape)"
   ]
  },
  {
   "cell_type": "code",
   "execution_count": 3,
   "metadata": {},
   "outputs": [
    {
     "name": "stdout",
     "output_type": "stream",
     "text": [
      "[[ 8.32520000e+00  4.10000000e+01  6.98412698e+00  1.02380952e+00\n",
      "   3.22000000e+02  2.55555556e+00  3.78800000e+01 -1.22230000e+02]\n",
      " [ 8.30140000e+00  2.10000000e+01  6.23813708e+00  9.71880492e-01\n",
      "   2.40100000e+03  2.10984183e+00  3.78600000e+01 -1.22220000e+02]\n",
      " [ 7.25740000e+00  5.20000000e+01  8.28813559e+00  1.07344633e+00\n",
      "   4.96000000e+02  2.80225989e+00  3.78500000e+01 -1.22240000e+02]\n",
      " [ 5.64310000e+00  5.20000000e+01  5.81735160e+00  1.07305936e+00\n",
      "   5.58000000e+02  2.54794521e+00  3.78500000e+01 -1.22250000e+02]\n",
      " [ 3.84620000e+00  5.20000000e+01  6.28185328e+00  1.08108108e+00\n",
      "   5.65000000e+02  2.18146718e+00  3.78500000e+01 -1.22250000e+02]]\n",
      "[4.526 3.585 3.521 3.413 3.422]\n"
     ]
    }
   ],
   "source": [
    "print(housing.data[0:5])\n",
    "print(housing.target[0:5])"
   ]
  },
  {
   "cell_type": "markdown",
   "metadata": {},
   "source": [
    "**数据分割**"
   ]
  },
  {
   "cell_type": "code",
   "execution_count": 4,
   "metadata": {},
   "outputs": [
    {
     "name": "stdout",
     "output_type": "stream",
     "text": [
      "(11610, 8) (11610,)\n",
      "(3870, 8) (3870,)\n",
      "(5160, 8) (5160,)\n"
     ]
    }
   ],
   "source": [
    "from sklearn.model_selection import train_test_split\n",
    "\n",
    "x_train_all, x_test, y_train_all, y_test = train_test_split(\n",
    "    housing.data, housing.target, random_state = 7)\n",
    "x_train, x_valid, y_train, y_valid = train_test_split(\n",
    "    x_train_all, y_train_all, random_state = 11)\n",
    "print(x_train.shape, y_train.shape)\n",
    "print(x_valid.shape, y_valid.shape)\n",
    "print(x_test.shape, y_test.shape)"
   ]
  },
  {
   "cell_type": "markdown",
   "metadata": {},
   "source": [
    "**归一化**"
   ]
  },
  {
   "cell_type": "code",
   "execution_count": 5,
   "metadata": {},
   "outputs": [],
   "source": [
    "from sklearn.preprocessing import StandardScaler\n",
    "\n",
    "scaler = StandardScaler()\n",
    "x_train_scaled = scaler.fit_transform(x_train)\n",
    "x_valid_scaled = scaler.transform(x_valid)\n",
    "x_test_scaled = scaler.transform(x_test)"
   ]
  },
  {
   "cell_type": "markdown",
   "metadata": {},
   "source": [
    "### 2. 模型构建"
   ]
  },
  {
   "cell_type": "code",
   "execution_count": 6,
   "metadata": {},
   "outputs": [
    {
     "data": {
      "text/plain": [
       "(8,)"
      ]
     },
     "execution_count": 6,
     "metadata": {},
     "output_type": "execute_result"
    }
   ],
   "source": [
    "x_train.shape[1:]"
   ]
  },
  {
   "cell_type": "code",
   "execution_count": 7,
   "metadata": {},
   "outputs": [
    {
     "name": "stdout",
     "output_type": "stream",
     "text": [
      "Model: \"sequential\"\n",
      "_________________________________________________________________\n",
      "Layer (type)                 Output Shape              Param #   \n",
      "=================================================================\n",
      "dense (Dense)                multiple                  900       \n",
      "_________________________________________________________________\n",
      "dense_1 (Dense)              multiple                  101       \n",
      "=================================================================\n",
      "Total params: 1,001\n",
      "Trainable params: 1,001\n",
      "Non-trainable params: 0\n",
      "_________________________________________________________________\n"
     ]
    }
   ],
   "source": [
    "model = Sequential([\n",
    "    layers.Dense(100, activation='relu'),\n",
    "    layers.Dense(1)\n",
    "])\n",
    "model.build(input_shape=(None, 8))\n",
    "model.summary()\n",
    "model.compile(loss=\"mean_squared_error\", optimizers=\"sgd\")\n",
    "callbacks = [\n",
    "    keras.callbacks.EarlyStopping(patience=3, min_delta=1e-2)\n",
    "]"
   ]
  },
  {
   "cell_type": "code",
   "execution_count": 8,
   "metadata": {},
   "outputs": [],
   "source": [
    "# model.build?"
   ]
  },
  {
   "cell_type": "code",
   "execution_count": 9,
   "metadata": {
    "scrolled": true
   },
   "outputs": [
    {
     "name": "stdout",
     "output_type": "stream",
     "text": [
      "Train on 11610 samples, validate on 3870 samples\n",
      "Epoch 1/20\n",
      "11610/11610 [==============================] - 2s 152us/sample - loss: 1.2327 - val_loss: 0.5754\n",
      "Epoch 2/20\n",
      "11610/11610 [==============================] - 1s 63us/sample - loss: 0.6922 - val_loss: 0.4978\n",
      "Epoch 3/20\n",
      "11610/11610 [==============================] - 1s 65us/sample - loss: 0.5247 - val_loss: 0.4366\n",
      "Epoch 4/20\n",
      "11610/11610 [==============================] - 1s 65us/sample - loss: 0.4338 - val_loss: 0.3953\n",
      "Epoch 5/20\n",
      "11610/11610 [==============================] - 1s 65us/sample - loss: 0.3786 - val_loss: 0.3822\n",
      "Epoch 6/20\n",
      "11610/11610 [==============================] - 1s 64us/sample - loss: 0.3642 - val_loss: 0.3802\n",
      "Epoch 7/20\n",
      "11610/11610 [==============================] - 1s 95us/sample - loss: 0.3631 - val_loss: 0.3543\n",
      "Epoch 8/20\n",
      "11610/11610 [==============================] - 1s 65us/sample - loss: 0.3496 - val_loss: 0.3597\n",
      "Epoch 9/20\n",
      "11610/11610 [==============================] - 1s 65us/sample - loss: 0.3541 - val_loss: 0.3508\n",
      "Epoch 10/20\n",
      "11610/11610 [==============================] - 1s 71us/sample - loss: 0.3632 - val_loss: 0.3406\n",
      "Epoch 11/20\n",
      "11610/11610 [==============================] - 1s 66us/sample - loss: 0.3487 - val_loss: 0.3356\n",
      "Epoch 12/20\n",
      "11610/11610 [==============================] - 1s 63us/sample - loss: 0.3383 - val_loss: 0.3342\n",
      "Epoch 13/20\n",
      "11610/11610 [==============================] - 1s 63us/sample - loss: 0.3311 - val_loss: 0.3488\n"
     ]
    }
   ],
   "source": [
    "history = model.fit(x_train_scaled, y_train, \n",
    "                    validation_data=(x_valid_scaled, y_valid),\n",
    "                   epochs=20, callbacks=callbacks)"
   ]
  },
  {
   "cell_type": "code",
   "execution_count": 10,
   "metadata": {},
   "outputs": [],
   "source": [
    "# model.fit?"
   ]
  },
  {
   "cell_type": "code",
   "execution_count": 11,
   "metadata": {},
   "outputs": [
    {
     "data": {
      "image/png": "[encoded data removed]",
      "text/plain": [
       "<Figure size 576x360 with 1 Axes>"
      ]
     },
     "metadata": {
      "needs_background": "light"
     },
     "output_type": "display_data"
    }
   ],
   "source": [
    "def plot_learning_curves(history):\n",
    "    pd.DataFrame(history.history).plot(figsize=(8, 5))\n",
    "    plt.grid(True)\n",
    "    plt.gca().set_ylim(0, 1)\n",
    "    plt.show()\n",
    "plot_learning_curves(history)"
   ]
  },
  {
   "cell_type": "code",
   "execution_count": 12,
   "metadata": {},
   "outputs": [
    {
     "name": "stdout",
     "output_type": "stream",
     "text": [
      "5160/1 - 0s - loss: 0.4717\n"
     ]
    },
    {
     "data": {
      "text/plain": [
       "0.3634454380634219"
      ]
     },
     "execution_count": 12,
     "metadata": {},
     "output_type": "execute_result"
    }
   ],
   "source": [
    "model.evaluate(x_test_scaled, y_test, verbose=2)"
   ]
  },
  {
   "cell_type": "markdown",
   "metadata": {},
   "source": [
    "### 3. 使用自定义损失函数"
   ]
  },
  {
   "cell_type": "code",
   "execution_count": 13,
   "metadata": {},
   "outputs": [
    {
     "name": "stdout",
     "output_type": "stream",
     "text": [
      "Model: \"sequential_1\"\n",
      "_________________________________________________________________\n",
      "Layer (type)                 Output Shape              Param #   \n",
      "=================================================================\n",
      "dense_2 (Dense)              multiple                  270       \n",
      "_________________________________________________________________\n",
      "dense_3 (Dense)              multiple                  31        \n",
      "=================================================================\n",
      "Total params: 301\n",
      "Trainable params: 301\n",
      "Non-trainable params: 0\n",
      "_________________________________________________________________\n"
     ]
    }
   ],
   "source": [
    "def customized_mse(y_true, y_pred):\n",
    "    return tf.reduce_mean(tf.square(y_pred - y_true))\n",
    "\n",
    "model2 = Sequential([\n",
    "    layers.Dense(30, activation='relu'),\n",
    "    layers.Dense(1)\n",
    "])\n",
    "model2.build(input_shape=(None, 8))\n",
    "model2.summary()\n",
    "model2.compile(loss=customized_mse, optimizers=\"sgd\", metrics=[\"mean_squared_error\"])\n",
    "callbacks = [\n",
    "    keras.callbacks.EarlyStopping(patience=3, min_delta=1e-2)\n",
    "]"
   ]
  },
  {
   "cell_type": "code",
   "execution_count": 14,
   "metadata": {
    "scrolled": true
   },
   "outputs": [
    {
     "name": "stdout",
     "output_type": "stream",
     "text": [
      "Train on 11610 samples, validate on 3870 samples\n",
      "Epoch 1/10\n",
      "11610/11610 [==============================] - 1s 107us/sample - loss: 1.5362 - mean_squared_error: 1.5362 - val_loss: 0.6642 - val_mean_squared_error: 0.6642\n",
      "Epoch 2/10\n",
      "11610/11610 [==============================] - 1s 63us/sample - loss: 0.5642 - mean_squared_error: 0.5642 - val_loss: 0.5173 - val_mean_squared_error: 0.5173\n",
      "Epoch 3/10\n",
      "11610/11610 [==============================] - 1s 67us/sample - loss: 0.5507 - mean_squared_error: 0.5507 - val_loss: 0.4787 - val_mean_squared_error: 0.4787\n",
      "Epoch 4/10\n",
      "11610/11610 [==============================] - 1s 64us/sample - loss: 0.5023 - mean_squared_error: 0.5023 - val_loss: 0.4504 - val_mean_squared_error: 0.4504\n",
      "Epoch 5/10\n",
      "11610/11610 [==============================] - 1s 72us/sample - loss: 0.4570 - mean_squared_error: 0.4570 - val_loss: 0.4238 - val_mean_squared_error: 0.4238\n",
      "Epoch 6/10\n",
      "11610/11610 [==============================] - 2s 192us/sample - loss: 0.4138 - mean_squared_error: 0.4138 - val_loss: 0.4071 - val_mean_squared_error: 0.4071\n",
      "Epoch 7/10\n",
      "11610/11610 [==============================] - 2s 136us/sample - loss: 0.3843 - mean_squared_error: 0.3843 - val_loss: 0.3950 - val_mean_squared_error: 0.3950\n",
      "Epoch 8/10\n",
      "11610/11610 [==============================] - 2s 130us/sample - loss: 0.3796 - mean_squared_error: 0.3796 - val_loss: 0.3878 - val_mean_squared_error: 0.3878\n",
      "Epoch 9/10\n",
      "11610/11610 [==============================] - 2s 161us/sample - loss: 0.3784 - mean_squared_error: 0.3784 - val_loss: 0.3865 - val_mean_squared_error: 0.3865\n",
      "Epoch 10/10\n",
      "11610/11610 [==============================] - 2s 131us/sample - loss: 0.3780 - mean_squared_error: 0.3780 - val_loss: 0.3794 - val_mean_squared_error: 0.3794\n"
     ]
    }
   ],
   "source": [
    "history = model2.fit(x_train_scaled, y_train, epochs=10,\n",
    "           validation_data=(x_valid_scaled, y_valid),\n",
    "           callbacks=callbacks)"
   ]
  },
  {
   "cell_type": "code",
   "execution_count": 15,
   "metadata": {},
   "outputs": [
    {
     "data": {
      "image/png": "[encoded data removed]",
      "text/plain": [
       "<Figure size 576x360 with 1 Axes>"
      ]
     },
     "metadata": {
      "needs_background": "light"
     },
     "output_type": "display_data"
    }
   ],
   "source": [
    "plot_learning_curves(history)"
   ]
  },
  {
   "cell_type": "markdown",
   "metadata": {},
   "source": [
    "### 4. 自定义 layer"
   ]
  },
  {
   "cell_type": "code",
   "execution_count": 16,
   "metadata": {
    "scrolled": true
   },
   "outputs": [
    {
     "name": "stdout",
     "output_type": "stream",
     "text": [
      "Model: \"sequential_2\"\n",
      "_________________________________________________________________\n",
      "Layer (type)                 Output Shape              Param #   \n",
      "=================================================================\n",
      "customized_dense_layer (Cust (None, 30)                270       \n",
      "_________________________________________________________________\n",
      "customized_dense_layer_1 (Cu (None, 1)                 31        \n",
      "=================================================================\n",
      "Total params: 301\n",
      "Trainable params: 301\n",
      "Non-trainable params: 0\n",
      "_________________________________________________________________\n"
     ]
    }
   ],
   "source": [
    "class CustomizedDenseLayer(keras.layers.Layer):\n",
    "    def __init__(self, units, activation=None, **kwargs):\n",
    "        self.units = units\n",
    "        self.activation = keras.layers.Activation(activation)\n",
    "        super(CustomizedDenseLayer, self).__init__(**kwargs)\n",
    "    \n",
    "    def build(self, input_shape):\n",
    "        \"\"\"构建所需要的参数\"\"\"\n",
    "        self.kernel = self.add_weight(name = \"kernel\", \n",
    "                                     shape = (input_shape[1], self.units),\n",
    "                                     initializer = \"uniform\",\n",
    "                                     trainable = True)\n",
    "        self.bias = self.add_weight(name = \"bias\", shape = (self.units, ),\n",
    "                                    initializer = 'zeros',\n",
    "                                   trainable = True)\n",
    "        super(CustomizedDenseLayer, self).build(input_shape)\n",
    "    \n",
    "    def call(self, x):\n",
    "        return self.activation(x @ self.kernel + self.bias)\n",
    "\n",
    "model3 = Sequential([\n",
    "    CustomizedDenseLayer(30, activation='relu', \n",
    "                         input_shape=x_train.shape[1:]),\n",
    "    CustomizedDenseLayer(1),\n",
    "#     customized_softplus,\n",
    "#     keras.layers.Dense(1, activation=\"softplus\")\n",
    "#     keras.layers.Dense(1, keras.layers.Activation('softplus'))\n",
    "])\n",
    "# model3.build(input_shape=(None, 8))\n",
    "model3.summary()\n",
    "model3.compile(loss=\"mean_squared_error\", optimizers=\"sgd\")\n",
    "callbacks = [\n",
    "    keras.callbacks.EarlyStopping(patience=3, min_delta=1e-2)\n",
    "]"
   ]
  },
  {
   "cell_type": "code",
   "execution_count": 17,
   "metadata": {
    "scrolled": false
   },
   "outputs": [
    {
     "name": "stdout",
     "output_type": "stream",
     "text": [
      "Train on 11610 samples, validate on 3870 samples\n",
      "Epoch 1/50\n",
      "11610/11610 [==============================] - 2s 130us/sample - loss: 2.0306 - val_loss: 0.6617\n",
      "Epoch 2/50\n",
      "11610/11610 [==============================] - 1s 116us/sample - loss: 0.5076 - val_loss: 0.4835\n",
      "Epoch 3/50\n",
      "11610/11610 [==============================] - 1s 99us/sample - loss: 0.4440 - val_loss: 0.4464\n",
      "Epoch 4/50\n",
      "11610/11610 [==============================] - 1s 127us/sample - loss: 0.4228 - val_loss: 0.4323\n",
      "Epoch 5/50\n",
      "11610/11610 [==============================] - 1s 84us/sample - loss: 0.4154 - val_loss: 0.4236\n",
      "Epoch 6/50\n",
      "11610/11610 [==============================] - 1s 88us/sample - loss: 0.4078 - val_loss: 0.4188\n",
      "Epoch 7/50\n",
      "11610/11610 [==============================] - 1s 70us/sample - loss: 0.4014 - val_loss: 0.4172\n",
      "Epoch 8/50\n",
      "11610/11610 [==============================] - 1s 79us/sample - loss: 0.3951 - val_loss: 0.4074\n",
      "Epoch 9/50\n",
      "11610/11610 [==============================] - 1s 83us/sample - loss: 0.3910 - val_loss: 0.4001\n",
      "Epoch 10/50\n",
      "11610/11610 [==============================] - 2s 152us/sample - loss: 0.3861 - val_loss: 0.3945\n",
      "Epoch 11/50\n",
      "11610/11610 [==============================] - 2s 161us/sample - loss: 0.3816 - val_loss: 0.3899\n",
      "Epoch 12/50\n",
      "11610/11610 [==============================] - 2s 131us/sample - loss: 0.3772 - val_loss: 0.3847\n",
      "Epoch 13/50\n",
      "11610/11610 [==============================] - 1s 122us/sample - loss: 0.3727 - val_loss: 0.3776\n",
      "Epoch 14/50\n",
      "11610/11610 [==============================] - 2s 138us/sample - loss: 0.3700 - val_loss: 0.3750\n",
      "Epoch 15/50\n",
      "11610/11610 [==============================] - 1s 99us/sample - loss: 0.3677 - val_loss: 0.3703\n",
      "Epoch 16/50\n",
      "11610/11610 [==============================] - 1s 73us/sample - loss: 0.3651 - val_loss: 0.3700\n"
     ]
    }
   ],
   "source": [
    "history = model3.fit(x_train_scaled, y_train, epochs=50,\n",
    "           validation_data=(x_valid_scaled, y_valid),\n",
    "           callbacks=callbacks)"
   ]
  },
  {
   "cell_type": "code",
   "execution_count": 18,
   "metadata": {},
   "outputs": [
    {
     "data": {
      "image/png": "[encoded data removed]",
      "text/plain": [
       "<Figure size 576x360 with 1 Axes>"
      ]
     },
     "metadata": {
      "needs_background": "light"
     },
     "output_type": "display_data"
    }
   ],
   "source": [
    "plot_learning_curves(history)"
   ]
  },
  {
   "cell_type": "code",
   "execution_count": 19,
   "metadata": {
    "scrolled": false
   },
   "outputs": [
    {
     "name": "stdout",
     "output_type": "stream",
     "text": [
      "5160/1 - 0s - loss: 0.4715\n"
     ]
    },
    {
     "data": {
      "text/plain": [
       "0.40189968527749526"
      ]
     },
     "execution_count": 19,
     "metadata": {},
     "output_type": "execute_result"
    }
   ],
   "source": [
    "model3.evaluate(x_test_scaled, y_test, verbose=2)"
   ]
  },
  {
   "cell_type": "code",
   "execution_count": null,
   "metadata": {},
   "outputs": [],
   "source": []
  }
 ],
 "metadata": {
  "kernelspec": {
   "display_name": "Python 3",
   "language": "python",
   "name": "python3"
  },
  "language_info": {
   "codemirror_mode": {
    "name": "ipython",
    "version": 3
   },
   "file_extension": ".py",
   "mimetype": "text/x-python",
   "name": "python",
   "nbconvert_exporter": "python",
   "pygments_lexer": "ipython3",
   "version": "3.6.6"
  }
 },
 "nbformat": 4,
 "nbformat_minor": 2
}
