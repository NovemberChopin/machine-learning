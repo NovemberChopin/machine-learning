{
 "cells": [
  {
   "cell_type": "markdown",
   "metadata": {},
   "source": [
    "# 定义深度神经网络\n",
    "**批归一化, Dropout**"
   ]
  },
  {
   "cell_type": "code",
   "execution_count": 3,
   "metadata": {},
   "outputs": [],
   "source": [
    "import os\n",
    "import sys\n",
    "\n",
    "import matplotlib.pyplot as plt\n",
    "import pandas as pd\n",
    "import numpy as np\n",
    "import tensorflow as tf\n",
    "from tensorflow import keras\n",
    "from tensorflow.keras import datasets, Sequential, optimizers, layers"
   ]
  },
  {
   "cell_type": "markdown",
   "metadata": {},
   "source": [
    "### 1. 准备数据"
   ]
  },
  {
   "cell_type": "code",
   "execution_count": 4,
   "metadata": {
    "scrolled": true
   },
   "outputs": [
    {
     "name": "stdout",
     "output_type": "stream",
     "text": [
      "(5000, 28, 28) (5000,)\n",
      "(55000, 28, 28) (55000,)\n",
      "(10000, 28, 28) (10000,)\n"
     ]
    }
   ],
   "source": [
    "(x_train_all, y_train_all), (x_test, y_test) = datasets.fashion_mnist.load_data()\n",
    "x_valid, x_train = x_train_all[:5000], x_train_all[5000:]\n",
    "y_valid, y_train = y_train_all[:5000], y_train_all[5000:]\n",
    "\n",
    "print(x_valid.shape, y_valid.shape)\n",
    "print(x_train.shape, y_train.shape)\n",
    "print(x_test.shape, y_test.shape)"
   ]
  },
  {
   "cell_type": "markdown",
   "metadata": {},
   "source": [
    "### 2. 构建模型"
   ]
  },
  {
   "cell_type": "code",
   "execution_count": 5,
   "metadata": {},
   "outputs": [],
   "source": [
    "# 定义一个 10 层的神经网络\n",
    "model = keras.models.Sequential()\n",
    "model.add(layers.Flatten(input_shape=[28, 28]))\n",
    "# 激活函数使用 selu 效果会更好\n",
    "for _ in range(10):\n",
    "    model.add(layers.Dense(50, activation=\"relu\"))\n",
    "    model.add(keras.layers.BatchNormalization())\n",
    "model.add(layers.Dense(10, activation=\"softmax\"))\n",
    "\n",
    "# relu: y = max(0, x)\n",
    "# softmax: 将向量变成概率分布. x = [x1, x2, x3], \n",
    "#          y = [e^x1/sum, e^x2/sum, e^x3/sum], sum = e^x1 + e^x2 + e^x3\n",
    "optimizer = optimizers.SGD(learning_rate=0.001)\n",
    "# reason for sparse: y->index. y->one_hot->[] \n",
    "# 通过 sparse 可以使 y 变为向量\n",
    "model.compile(loss=\"sparse_categorical_crossentropy\", optimizer=optimizer,\n",
    "             metrics=[\"accuracy\"])"
   ]
  },
  {
   "cell_type": "code",
   "execution_count": 7,
   "metadata": {
    "scrolled": false
   },
   "outputs": [
    {
     "name": "stdout",
     "output_type": "stream",
     "text": [
      "Train on 55000 samples, validate on 5000 samples\n",
      "Epoch 1/5\n",
      "55000/55000 [==============================] - 16s 288us/sample - loss: 1.4574 - accuracy: 0.5156 - val_loss: 0.8386 - val_accuracy: 0.7388\n",
      "Epoch 2/5\n",
      "55000/55000 [==============================] - 12s 217us/sample - loss: 0.8946 - accuracy: 0.6980 - val_loss: 0.6576 - val_accuracy: 0.7788\n",
      "Epoch 3/5\n",
      "55000/55000 [==============================] - 12s 211us/sample - loss: 0.7784 - accuracy: 0.7353 - val_loss: 0.6572 - val_accuracy: 0.8010\n",
      "Epoch 4/5\n",
      "55000/55000 [==============================] - 13s 233us/sample - loss: 0.7186 - accuracy: 0.7574 - val_loss: 0.5713 - val_accuracy: 0.8156\n",
      "Epoch 5/5\n",
      "55000/55000 [==============================] - 12s 212us/sample - loss: 0.6737 - accuracy: 0.7721 - val_loss: 0.5379 - val_accuracy: 0.8284\n"
     ]
    }
   ],
   "source": [
    "history = model.fit(x_train, y_train, epochs=5, validation_data=(x_valid, y_valid))"
   ]
  },
  {
   "cell_type": "code",
   "execution_count": 9,
   "metadata": {
    "scrolled": true
   },
   "outputs": [
    {
     "data": {
      "image/png": "[encoded data removed]",
      "text/plain": [
       "<Figure size 576x360 with 1 Axes>"
      ]
     },
     "metadata": {
      "needs_background": "light"
     },
     "output_type": "display_data"
    }
   ],
   "source": [
    "def plot_learning_curves(history):\n",
    "    pd.DataFrame(history.history).plot(figsize=(8, 5))\n",
    "    plt.grid(True)\n",
    "    plt.gca().set_ylim(0, 3)\n",
    "plot_learning_curves(history)\n",
    "\n",
    "# 1. 参数众多， 训练不充分\n",
    "# 2. 梯度消失\n",
    "# 3. 使用归一化可以缓解梯度消失（selu）"
   ]
  },
  {
   "cell_type": "code",
   "execution_count": 11,
   "metadata": {},
   "outputs": [
    {
     "data": {
      "text/plain": [
       "[0.5464226540327072, 0.814]"
      ]
     },
     "execution_count": 11,
     "metadata": {},
     "output_type": "execute_result"
    }
   ],
   "source": [
    "model.evaluate(x_test, y_test, verbose=0)"
   ]
  },
  {
   "cell_type": "markdown",
   "metadata": {},
   "source": [
    "### 2. 添加 Dropout"
   ]
  },
  {
   "cell_type": "code",
   "execution_count": 12,
   "metadata": {},
   "outputs": [],
   "source": [
    "# 定义一个 10 层的神经网络\n",
    "model2 = keras.models.Sequential()\n",
    "model2.add(layers.Flatten(input_shape=[28, 28]))\n",
    "# 激活函数使用 selu 效果会更好\n",
    "for _ in range(10):\n",
    "    model2.add(layers.Dense(50, activation=\"selu\"))\n",
    "    model2.add(keras.layers.BatchNormalization())\n",
    "    \n",
    "model2.add(keras.layers.AlphaDropout(rate=0.5))\n",
    "# AlphaDropout: 1. 均值和方差不会变 2. 归一化性质不变\n",
    "# model2.add(keras.layers.Dropout(rate=0.5))\n",
    "\n",
    "model2.add(layers.Dense(10, activation=\"softmax\"))\n",
    "\n",
    "optimizer = optimizers.SGD(learning_rate=0.001)\n",
    "# reason for sparse: y->index. y->one_hot->[] \n",
    "# 通过 sparse 可以使 y 变为向量\n",
    "model2.compile(loss=\"sparse_categorical_crossentropy\", optimizer=optimizer,\n",
    "             metrics=[\"accuracy\"])"
   ]
  },
  {
   "cell_type": "code",
   "execution_count": 13,
   "metadata": {},
   "outputs": [
    {
     "name": "stdout",
     "output_type": "stream",
     "text": [
      "Train on 55000 samples, validate on 5000 samples\n",
      "Epoch 1/5\n",
      "55000/55000 [==============================] - 20s 358us/sample - loss: 1.7955 - accuracy: 0.4015 - val_loss: 0.8126 - val_accuracy: 0.7596\n",
      "Epoch 2/5\n",
      "55000/55000 [==============================] - 14s 259us/sample - loss: 1.2723 - accuracy: 0.5922 - val_loss: 0.7381 - val_accuracy: 0.7920\n",
      "Epoch 3/5\n",
      "55000/55000 [==============================] - 14s 257us/sample - loss: 1.0935 - accuracy: 0.6581 - val_loss: 0.6992 - val_accuracy: 0.8054\n",
      "Epoch 4/5\n",
      "55000/55000 [==============================] - 15s 265us/sample - loss: 0.9873 - accuracy: 0.6968 - val_loss: 0.6590 - val_accuracy: 0.8202\n",
      "Epoch 5/5\n",
      "55000/55000 [==============================] - 13s 233us/sample - loss: 0.9131 - accuracy: 0.7206 - val_loss: 0.6516 - val_accuracy: 0.8274\n"
     ]
    }
   ],
   "source": [
    "history = model2.fit(x_train, y_train, epochs=5, validation_data=(x_valid, y_valid))"
   ]
  },
  {
   "cell_type": "code",
   "execution_count": 14,
   "metadata": {},
   "outputs": [
    {
     "data": {
      "image/png": "[encoded data removed]",
      "text/plain": [
       "<Figure size 576x360 with 1 Axes>"
      ]
     },
     "metadata": {
      "needs_background": "light"
     },
     "output_type": "display_data"
    }
   ],
   "source": [
    "plot_learning_curves(history)"
   ]
  },
  {
   "cell_type": "code",
   "execution_count": 15,
   "metadata": {},
   "outputs": [
    {
     "data": {
      "text/plain": [
       "[0.7023136209130287, 0.8155]"
      ]
     },
     "execution_count": 15,
     "metadata": {},
     "output_type": "execute_result"
    }
   ],
   "source": [
    "model2.evaluate(x_test, y_test, verbose=0)"
   ]
  },
  {
   "cell_type": "code",
   "execution_count": null,
   "metadata": {},
   "outputs": [],
   "source": []
  }
 ],
 "metadata": {
  "kernelspec": {
   "display_name": "Python 3",
   "language": "python",
   "name": "python3"
  },
  "language_info": {
   "codemirror_mode": {
    "name": "ipython",
    "version": 3
   },
   "file_extension": ".py",
   "mimetype": "text/x-python",
   "name": "python",
   "nbconvert_exporter": "python",
   "pygments_lexer": "ipython3",
   "version": "3.6.6"
  }
 },
 "nbformat": 4,
 "nbformat_minor": 2
}
