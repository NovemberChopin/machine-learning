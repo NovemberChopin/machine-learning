{
 "cells": [
  {
   "cell_type": "markdown",
   "metadata": {},
   "source": [
    "### 1. 全连接层"
   ]
  },
  {
   "cell_type": "markdown",
   "metadata": {},
   "source": [
    "**张量方式实现**"
   ]
  },
  {
   "cell_type": "code",
   "execution_count": 1,
   "metadata": {},
   "outputs": [],
   "source": [
    "import tensorflow as tf"
   ]
  },
  {
   "cell_type": "code",
   "execution_count": 2,
   "metadata": {},
   "outputs": [],
   "source": [
    "x = tf.random.normal([2, 32])\n",
    "w1 = tf.Variable(tf.random.truncated_normal([32, 8]))\n",
    "b1 = tf.Variable(tf.zeros([8]))\n",
    "o1 = tf.matmul(x, w1) + b1 # 线性变换\n",
    "o1 = tf.nn.relu(o1) # 激活函数"
   ]
  },
  {
   "cell_type": "code",
   "execution_count": 3,
   "metadata": {},
   "outputs": [
    {
     "data": {
      "text/plain": [
       "<tf.Tensor: id=32, shape=(2, 8), dtype=float32, numpy=\n",
       "array([[ 0.        ,  0.        ,  1.8496013 ,  2.217009  ,  0.10900241,\n",
       "         0.        ,  0.        ,  4.453087  ],\n",
       "       [ 0.        ,  5.5442433 , 14.533345  ,  6.9963984 , 17.607647  ,\n",
       "         0.        ,  0.        , 13.298783  ]], dtype=float32)>"
      ]
     },
     "execution_count": 3,
     "metadata": {},
     "output_type": "execute_result"
    }
   ],
   "source": [
    "o1"
   ]
  },
  {
   "cell_type": "markdown",
   "metadata": {},
   "source": [
    "**层级方式实现**\n",
    "\n",
    "- `layers.Dense(units, activation)`\n",
    "    - `units`: 输出节点数\n",
    "    - `activation`:激活函数"
   ]
  },
  {
   "cell_type": "code",
   "execution_count": 13,
   "metadata": {},
   "outputs": [],
   "source": [
    "from tensorflow.keras import layers, Sequential"
   ]
  },
  {
   "cell_type": "code",
   "execution_count": 5,
   "metadata": {},
   "outputs": [],
   "source": [
    "x = tf.random.normal([3, 32])\n",
    "fc = layers.Dense(4, activation=tf.nn.relu)\n",
    "h1 = fc(x) # 完成一次全连接层的计算"
   ]
  },
  {
   "cell_type": "code",
   "execution_count": 6,
   "metadata": {},
   "outputs": [],
   "source": [
    "# fc.kernel # 获取权值矩阵 w\n",
    "# fc.bias # 获取偏置向量 b\n",
    "# fc.trainable_variables # 返回待优化参数列表\n",
    "# fc.variables # 返回所有参数列表 "
   ]
  },
  {
   "cell_type": "markdown",
   "metadata": {},
   "source": [
    "### 2. 神经网络"
   ]
  },
  {
   "cell_type": "markdown",
   "metadata": {},
   "source": [
    "**张量方式实现**"
   ]
  },
  {
   "cell_type": "code",
   "execution_count": 7,
   "metadata": {},
   "outputs": [],
   "source": [
    "x = tf.random.normal([100, 28*28])\n",
    "# 隐藏层 1 张量\n",
    "w1 = tf.Variable(tf.random.truncated_normal([784, 256], stddev=0.1))\n",
    "b1 = tf.Variable(tf.zeros([256]))\n",
    "# 隐藏层 2 张量\n",
    "w2 = tf.Variable(tf.random.truncated_normal([256, 128], stddev=0.1))\n",
    "b2 = tf.Variable(tf.zeros([128]))\n",
    "# 隐藏层 3 张量\n",
    "w3 = tf.Variable(tf.random.truncated_normal([128, 64], stddev=0.1))\n",
    "b3 = tf.Variable(tf.zeros([64]))\n",
    "# 输出层张量\n",
    "w4 = tf.Variable(tf.random.truncated_normal([64, 10], stddev=0.1))\n",
    "b4 = tf.Variable(tf.zeros([10]))\n",
    "\n",
    "with tf.GradientTape() as tape: # 梯度记录器\n",
    "    # 隐藏层 1 向前计算\n",
    "    h1 = x@w1 + tf.broadcast_to(b1, [x.shape[0], 256])\n",
    "    h1 = tf.nn.relu(h1)\n",
    "    # 隐藏层 2 向前计算\n",
    "    h2 = h1@w2 + b2\n",
    "    h2 = tf.nn.relu(h2)\n",
    "    # 隐藏层 3 向前计算\n",
    "    h3 = h2@w3 + b3\n",
    "    h3 = tf.nn.relu(h3)\n",
    "    # 输出层向前计算\n",
    "    h4 = h3@w4 + b4"
   ]
  },
  {
   "cell_type": "markdown",
   "metadata": {},
   "source": [
    "**层级方式实现**"
   ]
  },
  {
   "cell_type": "code",
   "execution_count": 8,
   "metadata": {},
   "outputs": [],
   "source": [
    "fc1 = layers.Dense(256, activation=tf.nn.relu)\n",
    "fc2 = layers.Dense(128, activation=tf.nn.relu)\n",
    "fc3 = layers.Dense(64, activation=tf.nn.relu)\n",
    "fc4 = layers.Dense(10, activation=None) # 输出层\n",
    "\n",
    "x = tf.random.normal([4, 28*28])\n",
    "h1 = fc1(x) #  通过隐藏层 1 得到输出 \n",
    "h2 = fc2(h1) #  通过隐藏层 2 得到输出 \n",
    "h3 = fc3(h2) #  通过隐藏层 3 得到输出 \n",
    "h4 = fc4(h3) #  通过输出层 得到输出 "
   ]
  },
  {
   "cell_type": "markdown",
   "metadata": {},
   "source": [
    "- 也可以通过 `Sequential` 容器封装成一个网络大类对 象\n",
    "- 调用大类的前向计算函数即可完成所有层的前向计算"
   ]
  },
  {
   "cell_type": "code",
   "execution_count": 14,
   "metadata": {},
   "outputs": [],
   "source": [
    "model = Sequential([\n",
    "    layers.Dense(256, activation=tf.nn.relu) , # 创建隐藏层 1     \n",
    "    layers.Dense(128, activation=tf.nn.relu) , # 创建隐藏层 2     \n",
    "    layers.Dense(64, activation=tf.nn.relu) , # 创建隐藏层 3     \n",
    "    layers.Dense(10, activation=None) , # 创建输出层 \n",
    "])\n",
    "out = model(x) #  前向计算得到输出 "
   ]
  },
  {
   "cell_type": "markdown",
   "metadata": {},
   "source": [
    "### 3. 激活函数\n",
    "\n",
    "**`Sigmoid`**\n",
    "$$Sigmoid(x) = \\frac{1}{1+e^{-1}}$$"
   ]
  },
  {
   "cell_type": "code",
   "execution_count": 15,
   "metadata": {},
   "outputs": [],
   "source": [
    "import matplotlib.pyplot as plt"
   ]
  },
  {
   "cell_type": "code",
   "execution_count": 20,
   "metadata": {},
   "outputs": [
    {
     "data": {
      "text/plain": [
       "[<matplotlib.lines.Line2D at 0x26f6d5179b0>]"
      ]
     },
     "execution_count": 20,
     "metadata": {},
     "output_type": "execute_result"
    },
    {
     "data": {
      "image/png": "[encoded data removed]",
      "text/plain": [
       "<Figure size 432x288 with 1 Axes>"
      ]
     },
     "metadata": {
      "needs_background": "light"
     },
     "output_type": "display_data"
    }
   ],
   "source": [
    "x = tf.linspace(-6., 6., 100)\n",
    "y = tf.nn.sigmoid(x)\n",
    "plt.plot(x, y)"
   ]
  },
  {
   "cell_type": "markdown",
   "metadata": {},
   "source": [
    "**`ReLU`**\n",
    "$$ReLU = max(0, x)$$"
   ]
  },
  {
   "cell_type": "code",
   "execution_count": 19,
   "metadata": {},
   "outputs": [
    {
     "data": {
      "text/plain": [
       "[<matplotlib.lines.Line2D at 0x26f6cedc518>]"
      ]
     },
     "execution_count": 19,
     "metadata": {},
     "output_type": "execute_result"
    },
    {
     "data": {
      "image/png": "[encoded data removed]",
      "text/plain": [
       "<Figure size 432x288 with 1 Axes>"
      ]
     },
     "metadata": {
      "needs_background": "light"
     },
     "output_type": "display_data"
    }
   ],
   "source": [
    "x = tf.linspace(-2., 6., 50)\n",
    "y = tf.nn.relu(x)\n",
    "plt.plot(x, y)"
   ]
  },
  {
   "cell_type": "markdown",
   "metadata": {},
   "source": [
    "**`LeakyReLU`**\n",
    "![](https://i.postimg.cc/MKD4TKqg/screenshot-20.png)\n",
    "\n",
    "- 其中`p`为用户设置的某较小值超参数\n",
    "- 当`p = 0`时，`LeayReLU`函数退化为`ReLU`函数\n",
    "- 当`p != 0` 时能够获得较小导数`p`，从而避免梯度弥散现象"
   ]
  },
  {
   "cell_type": "code",
   "execution_count": 21,
   "metadata": {},
   "outputs": [
    {
     "data": {
      "text/plain": [
       "[<matplotlib.lines.Line2D at 0x26f6b841f60>]"
      ]
     },
     "execution_count": 21,
     "metadata": {},
     "output_type": "execute_result"
    },
    {
     "data": {
      "image/png": "[encoded data removed]",
      "text/plain": [
       "<Figure size 432x288 with 1 Axes>"
      ]
     },
     "metadata": {
      "needs_background": "light"
     },
     "output_type": "display_data"
    }
   ],
   "source": [
    "x = tf.linspace(-3., 6., 50)\n",
    "y = tf.nn.leaky_relu(x, alpha=0.1)\n",
    "plt.plot(x, y)"
   ]
  },
  {
   "cell_type": "markdown",
   "metadata": {},
   "source": [
    "**`Tanh`**\n",
    "$$tanh(x) = \\frac{e^x-e^{-x}}{e^x+e^{-x}} = 2\\cdot sigmoid(2x)-1$$"
   ]
  },
  {
   "cell_type": "code",
   "execution_count": 22,
   "metadata": {},
   "outputs": [
    {
     "data": {
      "text/plain": [
       "[<matplotlib.lines.Line2D at 0x26f6b8725f8>]"
      ]
     },
     "execution_count": 22,
     "metadata": {},
     "output_type": "execute_result"
    },
    {
     "data": {
      "image/png": "[encoded data removed]",
      "text/plain": [
       "<Figure size 432x288 with 1 Axes>"
      ]
     },
     "metadata": {
      "needs_background": "light"
     },
     "output_type": "display_data"
    }
   ],
   "source": [
    "x = tf.linspace(-6., 6., 50)\n",
    "y = tf.nn.tanh(x)\n",
    "plt.plot(x, y)"
   ]
  },
  {
   "cell_type": "markdown",
   "metadata": {},
   "source": [
    "**`Softmax`**\n",
    "- `tf.nn.softmax`\n",
    "$$Softmax(x_i) = \\frac{e^{z_i}}{\\sum_{j=1}^{d_{out}}e^{z_j}}$$\n",
    "\n",
    "- `Softmax` 函数不仅可以将输出值映射到`[0,1]`区间，还满足所有的输出值之和为 `1`的特性。 "
   ]
  },
  {
   "cell_type": "code",
   "execution_count": 26,
   "metadata": {},
   "outputs": [
    {
     "data": {
      "text/plain": [
       "<tf.Tensor: id=816, shape=(3,), dtype=float32, numpy=array([0.6590012 , 0.24243298, 0.09856589], dtype=float32)>"
      ]
     },
     "execution_count": 26,
     "metadata": {},
     "output_type": "execute_result"
    }
   ],
   "source": [
    "z = tf.constant([2., 1., 0.1])\n",
    "tf.nn.softmax(z)"
   ]
  },
  {
   "cell_type": "markdown",
   "metadata": {},
   "source": [
    "- `tf.keras.losses.categorical_crossentropy(y_true, y_pred, from_logits=False)，`\n",
    "![](https://i.postimg.cc/VvBDh4Kd/screenshot-21.png)"
   ]
  },
  {
   "cell_type": "code",
   "execution_count": 27,
   "metadata": {},
   "outputs": [
    {
     "data": {
      "text/plain": [
       "<tf.Tensor: id=862, shape=(), dtype=float32, numpy=2.5169702>"
      ]
     },
     "execution_count": 27,
     "metadata": {},
     "output_type": "execute_result"
    }
   ],
   "source": [
    "z = tf.random.normal([2,10]) # 构造输出层的输出 \n",
    "y_onehot = tf.constant([1,3]) # 构造真实值 \n",
    "y_onehot = tf.one_hot(y_onehot, depth=10) # one-hot 编码 \n",
    "# 输出层未使用 Softmax 函数，故 from_logits 设置为 True \n",
    "# 这样 categorical_crossentropy 函数在计算损失函数前，会先内部调用 Softmax 函数 \n",
    "loss = keras.losses.categorical_crossentropy(y_onehot,z,from_logits=True) \n",
    "loss = tf.reduce_mean(loss) # 计算平均交叉熵损失 \n",
    "loss "
   ]
  },
  {
   "cell_type": "code",
   "execution_count": 28,
   "metadata": {},
   "outputs": [
    {
     "data": {
      "text/plain": [
       "<tf.Tensor: id=827, shape=(2, 10), dtype=float32, numpy=\n",
       "array([[0., 1., 0., 0., 0., 0., 0., 0., 0., 0.],\n",
       "       [0., 0., 0., 1., 0., 0., 0., 0., 0., 0.]], dtype=float32)>"
      ]
     },
     "execution_count": 28,
     "metadata": {},
     "output_type": "execute_result"
    }
   ],
   "source": [
    "y_onehot"
   ]
  },
  {
   "cell_type": "markdown",
   "metadata": {},
   "source": [
    "### 4. 误差计算\n",
    "\n",
    "**均方误差（MSE）**\n",
    "- `keras.losses.MSE`\n",
    "$$MSE(y, o) = \\frac{1}{d_{out}}\\sum_{i=1}^{d_{out}}(y_i-o_i)^2$$"
   ]
  },
  {
   "cell_type": "code",
   "execution_count": 29,
   "metadata": {},
   "outputs": [
    {
     "data": {
      "text/plain": [
       "<tf.Tensor: id=876, shape=(2,), dtype=float32, numpy=array([1.1292433, 1.803258 ], dtype=float32)>"
      ]
     },
     "execution_count": 29,
     "metadata": {},
     "output_type": "execute_result"
    }
   ],
   "source": [
    "o = tf.random.normal([2, 10])\n",
    "y_onehot = tf.constant([1, 3])\n",
    "y_onehot = tf.one_hot(y_onehot, depth=10)\n",
    "loss = keras.losses.MSE(y_onehot, o)\n",
    "loss"
   ]
  },
  {
   "cell_type": "code",
   "execution_count": 31,
   "metadata": {},
   "outputs": [
    {
     "data": {
      "text/plain": [
       "<tf.Tensor: id=880, shape=(), dtype=float32, numpy=1.4662507>"
      ]
     },
     "execution_count": 31,
     "metadata": {},
     "output_type": "execute_result"
    }
   ],
   "source": [
    "# MSE 函数返回的是每个样本的均方差，需要在样本维度上再次平均来获 得平均样本的均方差，\n",
    "loss = tf.reduce_mean(loss)\n",
    "loss"
   ]
  },
  {
   "cell_type": "code",
   "execution_count": 32,
   "metadata": {},
   "outputs": [
    {
     "data": {
      "text/plain": [
       "<tf.Tensor: id=900, shape=(), dtype=float32, numpy=1.4662507>"
      ]
     },
     "execution_count": 32,
     "metadata": {},
     "output_type": "execute_result"
    }
   ],
   "source": [
    "# 也可以通过层方式实现，对应的类为 keras.losses.MeanSquaredError()\n",
    "# 和其他层的类一 样，调用__call__函数即可完成前向计算\n",
    "criteon = keras.losses.MeanSquaredError() # 创建 MSE 类\n",
    "loss = criteon(y_onehot,o) # 计算 batch 均方差 \n",
    "loss "
   ]
  },
  {
   "cell_type": "markdown",
   "metadata": {},
   "source": [
    "**交叉熵误差**\n",
    "- 某个分布`P(i)`的熵定义为：\n",
    "- ` tf.math.log `\n",
    "$$H(P) = -\\sum_iP(i)\\log_xP(i)$$\n",
    "\n",
    "**交叉熵(Cross Entropy)**\n",
    "- 交叉熵可以很好地衡量 2 个分布之间的**“距离”**\n",
    "![](https://i.postimg.cc/TwXbsbhs/screenshot-22.png)\n",
    "![](https://i.postimg.cc/J0pBtdKw/screenshot-23.png)"
   ]
  }
 ],
 "metadata": {
  "kernelspec": {
   "display_name": "Python 3",
   "language": "python",
   "name": "python3"
  },
  "language_info": {
   "codemirror_mode": {
    "name": "ipython",
    "version": 3
   },
   "file_extension": ".py",
   "mimetype": "text/x-python",
   "name": "python",
   "nbconvert_exporter": "python",
   "pygments_lexer": "ipython3",
   "version": "3.6.6"
  }
 },
 "nbformat": 4,
 "nbformat_minor": 2
}
