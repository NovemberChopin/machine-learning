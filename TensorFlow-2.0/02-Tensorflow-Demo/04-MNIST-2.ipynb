{
 "cells": [
  {
   "cell_type": "markdown",
   "metadata": {},
   "source": [
    "# MNIST 手写数字识别\n",
    "**自动计算准确度（metrics）**"
   ]
  },
  {
   "cell_type": "code",
   "execution_count": 1,
   "metadata": {},
   "outputs": [],
   "source": [
    "import pandas as pd\n",
    "import numpy as np\n",
    "import matplotlib.pyplot as plt\n",
    "\n",
    "import  tensorflow as tf\n",
    "from    tensorflow import keras\n",
    "from    tensorflow.keras import layers, optimizers, datasets, Sequential, metrics"
   ]
  },
  {
   "cell_type": "markdown",
   "metadata": {},
   "source": [
    "**加载数据**"
   ]
  },
  {
   "cell_type": "code",
   "execution_count": 2,
   "metadata": {},
   "outputs": [
    {
     "name": "stdout",
     "output_type": "stream",
     "text": [
      "datasets: (60000, 28, 28) (60000,) 0 255\n"
     ]
    }
   ],
   "source": [
    "(x_train, y_train),(x_test, y_test) = datasets.mnist.load_data()\n",
    "print('datasets:', x_train.shape, y_train.shape, x_train.min(), x_train.max())\n",
    "x_valid = x_train[:10000]\n",
    "y_valid = y_train[:10000]\n",
    "x_train = x_train[10000:]\n",
    "y_train = y_train[10000:]"
   ]
  },
  {
   "cell_type": "code",
   "execution_count": 3,
   "metadata": {},
   "outputs": [
    {
     "name": "stdout",
     "output_type": "stream",
     "text": [
      "(50000, 784) (10000, 784) (10000, 784)\n",
      "(50000,) (10000,) (10000,)\n"
     ]
    }
   ],
   "source": [
    "# reshpe and normalize\n",
    "x_train = x_train.reshape(-1, 28*28).astype('float32') / 255\n",
    "x_valid = x_valid.reshape(-1, 28*28).astype('float32') / 255\n",
    "x_test = x_test.reshape(-1, 28*28).astype('float32') / 255\n",
    "print(x_train.shape, x_valid.shape, x_test.shape)\n",
    "print(y_train.shape, y_valid.shape, y_test.shape)"
   ]
  },
  {
   "cell_type": "code",
   "execution_count": 4,
   "metadata": {},
   "outputs": [],
   "source": [
    "# 使用 from_tensor_slices 方法\n",
    "db_train = tf.data.Dataset.from_tensor_slices((x_train, y_train)).batch(64)\n",
    "db_valid = tf.data.Dataset.from_tensor_slices((x_valid, y_valid)).batch(64)\n",
    "db_test = tf.data.Dataset.from_tensor_slices((x_test, y_test)).batch(64)"
   ]
  },
  {
   "cell_type": "markdown",
   "metadata": {},
   "source": [
    "**定义模型**"
   ]
  },
  {
   "cell_type": "code",
   "execution_count": 5,
   "metadata": {},
   "outputs": [
    {
     "name": "stdout",
     "output_type": "stream",
     "text": [
      "Model: \"sequential\"\n",
      "_________________________________________________________________\n",
      "Layer (type)                 Output Shape              Param #   \n",
      "=================================================================\n",
      "dense (Dense)                multiple                  100480    \n",
      "_________________________________________________________________\n",
      "dense_1 (Dense)              multiple                  8256      \n",
      "_________________________________________________________________\n",
      "dense_2 (Dense)              multiple                  650       \n",
      "=================================================================\n",
      "Total params: 109,386\n",
      "Trainable params: 109,386\n",
      "Non-trainable params: 0\n",
      "_________________________________________________________________\n"
     ]
    }
   ],
   "source": [
    "model = Sequential([\n",
    "    layers.Dense(128, activation='relu'), \n",
    "    layers.Dense(64, activation='relu'),\n",
    "    layers.Dense(10, activation='softmax')\n",
    "])\n",
    "model.build(input_shape=(None, 28*28))\n",
    "model.summary()\n",
    "model.compile(loss=keras.losses.CategoricalCrossentropy(),\n",
    "             optimizer=keras.optimizers.SGD(),\n",
    "             metrics=['accuracy'])\n",
    "# optimizer = optimizers.SGD(lr=0.01)\n",
    "# acc_meter = metrics.Accuracy()"
   ]
  },
  {
   "cell_type": "markdown",
   "metadata": {},
   "source": [
    "**自动训练模型**"
   ]
  },
  {
   "cell_type": "code",
   "execution_count": 6,
   "metadata": {},
   "outputs": [
    {
     "name": "stdout",
     "output_type": "stream",
     "text": [
      "(50000, 10) (10000, 10)\n",
      "(50000,) (10000,)\n"
     ]
    }
   ],
   "source": [
    "y_train_onehot = tf.one_hot(y_train, depth=10)\n",
    "y_valid_onehot = tf.one_hot(y_valid, depth=10)\n",
    "print(y_train_onehot.shape, y_valid_onehot.shape)\n",
    "print(y_train.shape, y_valid.shape)"
   ]
  },
  {
   "cell_type": "code",
   "execution_count": 7,
   "metadata": {},
   "outputs": [],
   "source": [
    "# 此时 loss=keras.losses.CategoricalCrossentropy()\n",
    "# 每个 目标值 y 需要经过 onehot 编码，变为一个向量\n",
    "x_valid = tf.convert_to_tensor(x_valid)\n",
    "x_train = tf.convert_to_tensor(x_train)"
   ]
  },
  {
   "cell_type": "code",
   "execution_count": 8,
   "metadata": {
    "scrolled": true
   },
   "outputs": [
    {
     "name": "stdout",
     "output_type": "stream",
     "text": [
      "Train on 40000 samples, validate on 10000 samples\n",
      "Epoch 1/5\n",
      "40000/40000 [==============================] - 4s 104us/sample - loss: 0.8082 - accuracy: 0.7937 - val_loss: 0.3540 - val_accuracy: 0.9033\n",
      "Epoch 2/5\n",
      "40000/40000 [==============================] - 3s 80us/sample - loss: 0.3469 - accuracy: 0.9008 - val_loss: 0.2854 - val_accuracy: 0.9188\n",
      "Epoch 3/5\n",
      "40000/40000 [==============================] - 3s 81us/sample - loss: 0.2919 - accuracy: 0.9163 - val_loss: 0.2488 - val_accuracy: 0.9285\n",
      "Epoch 4/5\n",
      "40000/40000 [==============================] - 3s 81us/sample - loss: 0.2564 - accuracy: 0.9258 - val_loss: 0.2247 - val_accuracy: 0.9383\n",
      "Epoch 5/5\n",
      "40000/40000 [==============================] - 3s 85us/sample - loss: 0.2292 - accuracy: 0.9339 - val_loss: 0.2058 - val_accuracy: 0.9427\n"
     ]
    }
   ],
   "source": [
    "\n",
    "history = model.fit(x_train, y_train_onehot, validation_split=0.2, epochs=5)\n",
    "\n",
    "# 当 loss=keras.losses.CategoricalCrossentropy() 时，目标值 y 不需要进行 onehot 编码\n",
    "# history = model.fit(x_train, y_train, validation_data=(x_valid, y_valid), epochs=5)"
   ]
  },
  {
   "cell_type": "code",
   "execution_count": 9,
   "metadata": {},
   "outputs": [
    {
     "data": {
      "image/png": "[encoded data removed]",
      "text/plain": [
       "<Figure size 576x360 with 1 Axes>"
      ]
     },
     "metadata": {
      "needs_background": "light"
     },
     "output_type": "display_data"
    }
   ],
   "source": [
    "def plot_learning_curves(history):\n",
    "    pd.DataFrame(history.history).plot(figsize=(8, 5))\n",
    "    plt.grid(True)\n",
    "    plt.gca().set_ylim(0, 1)\n",
    "\n",
    "plot_learning_curves(history)"
   ]
  },
  {
   "cell_type": "code",
   "execution_count": 10,
   "metadata": {
    "scrolled": true
   },
   "outputs": [
    {
     "name": "stdout",
     "output_type": "stream",
     "text": [
      "Epoch 1/5\n",
      "782/782 [==============================] - 5s 6ms/step - loss: nan - accuracy: 0.9924 - val_loss: nan - val_accuracy: 0.0000e+00\n",
      "Epoch 2/5\n",
      "782/782 [==============================] - 3s 4ms/step - loss: nan - accuracy: 1.0000 - val_loss: nan - val_accuracy: 1.0000\n",
      "Epoch 3/5\n",
      "782/782 [==============================] - 3s 3ms/step - loss: nan - accuracy: 1.0000 - val_loss: nan - val_accuracy: 1.0000\n",
      "Epoch 4/5\n",
      "782/782 [==============================] - 3s 3ms/step - loss: nan - accuracy: 1.0000 - val_loss: nan - val_accuracy: 1.0000\n",
      "Epoch 5/5\n",
      "782/782 [==============================] - 3s 3ms/step - loss: nan - accuracy: 1.0000 - val_loss: nan - val_accuracy: 1.0000\n"
     ]
    },
    {
     "data": {
      "text/plain": [
       "<tensorflow.python.keras.callbacks.History at 0x7fd7c513e860>"
      ]
     },
     "execution_count": 10,
     "metadata": {},
     "output_type": "execute_result"
    }
   ],
   "source": [
    "# 使用经过 from_tensor_slices 处理的数据训练\n",
    "model.fit(db_train, validation_data=db_valid, epochs=5)"
   ]
  },
  {
   "cell_type": "code",
   "execution_count": 11,
   "metadata": {},
   "outputs": [
    {
     "data": {
      "image/png": "[encoded data removed]",
      "text/plain": [
       "<Figure size 576x360 with 1 Axes>"
      ]
     },
     "metadata": {
      "needs_background": "light"
     },
     "output_type": "display_data"
    }
   ],
   "source": [
    "plot_learning_curves(history)"
   ]
  },
  {
   "cell_type": "markdown",
   "metadata": {},
   "source": [
    "**自定义训练模型**"
   ]
  },
  {
   "cell_type": "code",
   "execution_count": null,
   "metadata": {},
   "outputs": [],
   "source": [
    "# 使用 convert_to_tensor 方法\n",
    "for step, (x,y) in enumerate(db):\n",
    "\n",
    "    with tf.GradientTape() as tape:\n",
    "        # 打平操作，[b, 28, 28] => [b, 784]\n",
    "        # x = tf.reshape(x, (-1, 28*28))\n",
    "        # Step1. 得到模型输出output [b, 784] => [b, 10]\n",
    "        out = model(x)\n",
    "        # [b] => [b, 10]\n",
    "        y_onehot = tf.one_hot(y, depth=10)\n",
    "        # 计算差的平方和，[b, 10]\n",
    "        loss = tf.square(out-y_onehot)\n",
    "        # 计算每个样本的平均误差，[b]\n",
    "        loss = tf.reduce_sum(loss) / x.shape[0]\n",
    "\n",
    "\n",
    "    acc_meter.update_state(tf.argmax(out, axis=1), y)\n",
    "\n",
    "    grads = tape.gradient(loss, model.trainable_variables)\n",
    "    optimizer.apply_gradients(zip(grads, model.trainable_variables))\n",
    "\n",
    "\n",
    "    if step % 2000==0:\n",
    "\n",
    "        print(step, 'loss:', float(loss), 'acc:', acc_meter.result().numpy())\n",
    "        acc_meter.reset_states()"
   ]
  }
 ],
 "metadata": {
  "kernelspec": {
   "display_name": "Python 3",
   "language": "python",
   "name": "python3"
  },
  "language_info": {
   "codemirror_mode": {
    "name": "ipython",
    "version": 3
   },
   "file_extension": ".py",
   "mimetype": "text/x-python",
   "name": "python",
   "nbconvert_exporter": "python",
   "pygments_lexer": "ipython3",
   "version": "3.6.9"
  }
 },
 "nbformat": 4,
 "nbformat_minor": 2
}
