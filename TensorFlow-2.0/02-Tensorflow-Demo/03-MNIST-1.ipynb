{
 "cells": [
  {
   "cell_type": "markdown",
   "metadata": {},
   "source": [
    "# 实战 MNIST 手写数字识别\n",
    "\n",
    "**手动计算准确度**"
   ]
  },
  {
   "cell_type": "code",
   "execution_count": 1,
   "metadata": {},
   "outputs": [],
   "source": [
    "import  tensorflow as tf\n",
    "from    tensorflow import keras\n",
    "from    tensorflow.keras import layers, optimizers, datasets, metrics"
   ]
  },
  {
   "cell_type": "markdown",
   "metadata": {},
   "source": [
    "### 1. 全链路层\n",
    "**准备数据**"
   ]
  },
  {
   "cell_type": "code",
   "execution_count": 2,
   "metadata": {},
   "outputs": [
    {
     "name": "stdout",
     "output_type": "stream",
     "text": [
      "(60000, 28, 28) (60000,)\n"
     ]
    }
   ],
   "source": [
    "(x, y), (x_val, y_val) = datasets.mnist.load_data()\n",
    "# x y x_val y_val is numpy data type\n",
    "x = tf.convert_to_tensor(x, dtype=tf.float32) / 255.\n",
    "y = tf.convert_to_tensor(y, dtype=tf.int32)\n",
    "print(x.shape, y.shape)"
   ]
  },
  {
   "cell_type": "code",
   "execution_count": 3,
   "metadata": {},
   "outputs": [],
   "source": [
    "train_dataset = tf.data.Dataset.from_tensor_slices((x, y))\n",
    "train_dataset = train_dataset.batch(200)"
   ]
  },
  {
   "cell_type": "markdown",
   "metadata": {},
   "source": [
    "**建立模型(未编译)**\n",
    "- 不能使用 evaluate predict 方法"
   ]
  },
  {
   "cell_type": "code",
   "execution_count": 4,
   "metadata": {},
   "outputs": [
    {
     "name": "stdout",
     "output_type": "stream",
     "text": [
      "Model: \"sequential\"\n",
      "_________________________________________________________________\n",
      "Layer (type)                 Output Shape              Param #   \n",
      "=================================================================\n",
      "dense (Dense)                multiple                  200960    \n",
      "_________________________________________________________________\n",
      "dense_1 (Dense)              multiple                  2570      \n",
      "=================================================================\n",
      "Total params: 203,530\n",
      "Trainable params: 203,530\n",
      "Non-trainable params: 0\n",
      "_________________________________________________________________\n"
     ]
    }
   ],
   "source": [
    "model = keras.Sequential([\n",
    "    layers.Dense(256, activation='relu'),\n",
    "    layers.Dense(10)\n",
    "])\n",
    "# 优化器， 设置学习速率\n",
    "model.build(input_shape=(None, 28*28))\n",
    "model.summary()\n",
    "optimizer = optimizers.Adam(learning_rate=0.001)\n",
    "acc_meter = metrics.Accuracy()\n",
    "lossFun = keras.losses.CategoricalCrossentropy(from_logits=True)"
   ]
  },
  {
   "cell_type": "markdown",
   "metadata": {},
   "source": [
    "**训练模型**"
   ]
  },
  {
   "cell_type": "code",
   "execution_count": 5,
   "metadata": {},
   "outputs": [],
   "source": [
    "def train_epoch(epoch):\n",
    "    for step, (x, y) in enumerate(train_dataset):\n",
    "        with tf.GradientTape() as tape:\n",
    "            # [b, 28, 28] => [b, 784]\n",
    "            x = tf.reshape(x, (-1, 28*28))\n",
    "            # Step1. compute output\n",
    "            # [b, 784] => [b, 10]\n",
    "            out = model(x)\n",
    "            # Step2. compute loss\n",
    "            y_onehot = tf.one_hot(y, depth=10)\n",
    "#             loss = tf.reduce_sum(tf.square(out - y_onehot)) / x.shape[0]\n",
    "            loss = lossFun(y_onehot, out)\n",
    "        \n",
    "        acc_meter.update_state(tf.argmax(out, axis=1), y)\n",
    "        # Step3. optimize and update w1, w2, w3, b1, b2, b3\n",
    "        grads = tape.gradient(loss, model.trainable_variables)\n",
    "        # w' = w - lr * grad\n",
    "        optimizer.apply_gradients(zip(grads, model.trainable_variables))\n",
    "        \n",
    "        if step % 200 == 0:\n",
    "            print('epoch: %02d, step: %03d,  loss: %03f, acc: %03f' %(epoch, \n",
    "                            step, loss.numpy(), acc_meter.result().numpy()))\n",
    "            acc_meter.reset_states()"
   ]
  },
  {
   "cell_type": "code",
   "execution_count": 6,
   "metadata": {},
   "outputs": [
    {
     "name": "stdout",
     "output_type": "stream",
     "text": [
      "epoch: 00, step: 000,  loss: 2.355545, acc: 0.050000\n",
      "epoch: 00, step: 200,  loss: 0.219597, acc: 0.886400\n",
      "epoch: 01, step: 000,  loss: 0.167487, acc: 0.936400\n",
      "epoch: 01, step: 200,  loss: 0.116713, acc: 0.950150\n",
      "epoch: 02, step: 000,  loss: 0.117420, acc: 0.959600\n",
      "epoch: 02, step: 200,  loss: 0.077298, acc: 0.965650\n",
      "epoch: 03, step: 000,  loss: 0.097923, acc: 0.969600\n",
      "epoch: 03, step: 200,  loss: 0.055416, acc: 0.974650\n",
      "epoch: 04, step: 000,  loss: 0.082226, acc: 0.977250\n",
      "epoch: 04, step: 200,  loss: 0.043085, acc: 0.980750\n",
      "epoch: 05, step: 000,  loss: 0.069736, acc: 0.981950\n",
      "epoch: 05, step: 200,  loss: 0.035254, acc: 0.984675\n",
      "epoch: 06, step: 000,  loss: 0.060254, acc: 0.984650\n",
      "epoch: 06, step: 200,  loss: 0.028912, acc: 0.988000\n",
      "epoch: 07, step: 000,  loss: 0.052839, acc: 0.988200\n",
      "epoch: 07, step: 200,  loss: 0.023417, acc: 0.990225\n",
      "epoch: 08, step: 000,  loss: 0.046715, acc: 0.990100\n",
      "epoch: 08, step: 200,  loss: 0.019762, acc: 0.992425\n",
      "epoch: 09, step: 000,  loss: 0.038453, acc: 0.992450\n",
      "epoch: 09, step: 200,  loss: 0.016503, acc: 0.994125\n"
     ]
    }
   ],
   "source": [
    "for epoch in range(10):\n",
    "    train_epoch(epoch)"
   ]
  },
  {
   "cell_type": "markdown",
   "metadata": {},
   "source": [
    "### use compile and fit function"
   ]
  },
  {
   "cell_type": "code",
   "execution_count": 9,
   "metadata": {},
   "outputs": [],
   "source": [
    "import numpy as np"
   ]
  },
  {
   "cell_type": "markdown",
   "metadata": {},
   "source": [
    "**测试**"
   ]
  },
  {
   "cell_type": "code",
   "execution_count": 10,
   "metadata": {},
   "outputs": [],
   "source": [
    "def predict(X):\n",
    "    X = tf.reshape(X, (-1, 28*28))\n",
    "    y_predict = model(X)\n",
    "    return tf.argmax(y_predict, axis=1)\n",
    "\n",
    "def accuracy(X_test, y_test):\n",
    "    y_pred = predict(X_test)\n",
    "    return np.sum(y_pred == y_test) / len(y_test)"
   ]
  },
  {
   "cell_type": "code",
   "execution_count": 11,
   "metadata": {},
   "outputs": [
    {
     "data": {
      "text/plain": [
       "0.9766"
      ]
     },
     "execution_count": 11,
     "metadata": {},
     "output_type": "execute_result"
    }
   ],
   "source": [
    "accuracy(x_val, y_val)"
   ]
  },
  {
   "cell_type": "code",
   "execution_count": null,
   "metadata": {},
   "outputs": [],
   "source": []
  }
 ],
 "metadata": {
  "kernelspec": {
   "display_name": "Python 3",
   "language": "python",
   "name": "python3"
  },
  "language_info": {
   "codemirror_mode": {
    "name": "ipython",
    "version": 3
   },
   "file_extension": ".py",
   "mimetype": "text/x-python",
   "name": "python",
   "nbconvert_exporter": "python",
   "pygments_lexer": "ipython3",
   "version": "3.6.9"
  }
 },
 "nbformat": 4,
 "nbformat_minor": 2
}
