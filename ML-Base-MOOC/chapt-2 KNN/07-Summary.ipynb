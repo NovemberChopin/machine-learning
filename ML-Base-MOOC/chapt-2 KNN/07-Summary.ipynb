{
 "cells": [
  {
   "cell_type": "markdown",
   "metadata": {},
   "source": [
    "# Summary"
   ]
  },
  {
   "cell_type": "markdown",
   "metadata": {},
   "source": [
    "## 1. k近邻的优点"
   ]
  },
  {
   "cell_type": "markdown",
   "metadata": {},
   "source": [
    "- 解决分类问题\n",
    "- 天然可以解决多分类问题\n",
    "- 思想简单，"
   ]
  },
  {
   "cell_type": "markdown",
   "metadata": {},
   "source": [
    "## 2. k近邻的缺点"
   ]
  },
  {
   "cell_type": "markdown",
   "metadata": {},
   "source": [
    "- 最大的缺点：**效率低下**\n",
    "- 如果训练集有 m 个样本，n 个特征，则预测每一个新数据，需要 O(m*n)\n",
    "- 优化：使用树的结构：KD-Tree， Ball-Tree"
   ]
  },
  {
   "cell_type": "markdown",
   "metadata": {},
   "source": [
    "- 高度数据相关"
   ]
  },
  {
   "cell_type": "markdown",
   "metadata": {},
   "source": [
    "- 预测结果不具有可解释性"
   ]
  },
  {
   "cell_type": "markdown",
   "metadata": {},
   "source": [
    "- **维数灾难**\n",
    "\n",
    "[![image.png](https://i.postimg.cc/mD3061pF/image.png)](https://postimg.cc/DJZjS0T2)\n",
    "- 解决方法：降维（PCA）"
   ]
  },
  {
   "cell_type": "markdown",
   "metadata": {},
   "source": [
    "[![ML-process.png](https://i.postimg.cc/br34qchy/ML-process.png)](https://postimg.cc/jnnMh12m)"
   ]
  }
 ],
 "metadata": {
  "kernelspec": {
   "display_name": "Python 3",
   "language": "python",
   "name": "python3"
  },
  "language_info": {
   "codemirror_mode": {
    "name": "ipython",
    "version": 3
   },
   "file_extension": ".py",
   "mimetype": "text/x-python",
   "name": "python",
   "nbconvert_exporter": "python",
   "pygments_lexer": "ipython3",
   "version": "3.7.3"
  }
 },
 "nbformat": 4,
 "nbformat_minor": 2
}
