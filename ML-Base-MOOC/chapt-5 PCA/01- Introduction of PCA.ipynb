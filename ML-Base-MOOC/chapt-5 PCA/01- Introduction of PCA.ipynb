{
 "cells": [
  {
   "cell_type": "markdown",
   "metadata": {},
   "source": [
    "# Introduction of PCA"
   ]
  },
  {
   "cell_type": "markdown",
   "metadata": {},
   "source": [
    "### 1. 主成分分析法（PCA）\n",
    "[![8n0NvT.png](https://s1.ax1x.com/2020/03/13/8n0NvT.png)](https://imgchr.com/i/8n0NvT)\n",
    "[![8n0t2V.png](https://s1.ax1x.com/2020/03/13/8n0t2V.png)](https://imgchr.com/i/8n0t2V)\n",
    "[![8n0JCq.png](https://s1.ax1x.com/2020/03/13/8n0JCq.png)](https://imgchr.com/i/8n0JCq)\n",
    "\n",
    "### 2. 注意(PCA 与 线性回归的区别)\n",
    "[![8n085n.png](https://s1.ax1x.com/2020/03/13/8n085n.png)](https://imgchr.com/i/8n085n)\n",
    "- **线性回归**\n",
    "[![8n03Us.png](https://s1.ax1x.com/2020/03/13/8n03Us.png)](https://imgchr.com/i/8n03Us)\n",
    "\n",
    "### 3. 梯度上升法（GA）\n",
    "[![8n0aKU.png](https://s1.ax1x.com/2020/03/13/8n0aKU.png)](https://imgchr.com/i/8n0aKU)\n",
    "[![8n0drF.png](https://s1.ax1x.com/2020/03/13/8n0drF.png)](https://imgchr.com/i/8n0drF)\n",
    "[![8n0wb4.png](https://s1.ax1x.com/2020/03/13/8n0wb4.png)](https://imgchr.com/i/8n0wb4)\n",
    "[![8n0BVJ.png](https://s1.ax1x.com/2020/03/13/8n0BVJ.png)](https://imgchr.com/i/8n0BVJ)"
   ]
  }
 ],
 "metadata": {
  "kernelspec": {
   "display_name": "Python 3",
   "language": "python",
   "name": "python3"
  },
  "language_info": {
   "codemirror_mode": {
    "name": "ipython",
    "version": 3
   },
   "file_extension": ".py",
   "mimetype": "text/x-python",
   "name": "python",
   "nbconvert_exporter": "python",
   "pygments_lexer": "ipython3",
   "version": "3.6.9"
  }
 },
 "nbformat": 4,
 "nbformat_minor": 2
}
