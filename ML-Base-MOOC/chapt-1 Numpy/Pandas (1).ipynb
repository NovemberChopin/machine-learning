{
 "cells": [
  {
   "cell_type": "markdown",
   "metadata": {},
   "source": [
    "## Panda 数据分析常用函数（上）"
   ]
  },
  {
   "cell_type": "markdown",
   "metadata": {},
   "source": [
    "### 1. 导入模块"
   ]
  },
  {
   "cell_type": "code",
   "execution_count": 1,
   "metadata": {},
   "outputs": [],
   "source": [
    "import pandas as pd\n",
    "import numpy as np"
   ]
  },
  {
   "cell_type": "markdown",
   "metadata": {},
   "source": [
    "### 2. 创建数据集并读取\n",
    "**创建数据集**"
   ]
  },
  {
   "cell_type": "code",
   "execution_count": 2,
   "metadata": {},
   "outputs": [
    {
     "data": {
      "text/html": [
       "<div>\n",
       "<style scoped>\n",
       "    .dataframe tbody tr th:only-of-type {\n",
       "        vertical-align: middle;\n",
       "    }\n",
       "\n",
       "    .dataframe tbody tr th {\n",
       "        vertical-align: top;\n",
       "    }\n",
       "\n",
       "    .dataframe thead th {\n",
       "        text-align: right;\n",
       "    }\n",
       "</style>\n",
       "<table border=\"1\" class=\"dataframe\">\n",
       "  <thead>\n",
       "    <tr style=\"text-align: right;\">\n",
       "      <th></th>\n",
       "      <th>id</th>\n",
       "      <th>date</th>\n",
       "      <th>money</th>\n",
       "      <th>product</th>\n",
       "      <th>department</th>\n",
       "      <th>origin</th>\n",
       "    </tr>\n",
       "  </thead>\n",
       "  <tbody>\n",
       "    <tr>\n",
       "      <th>0</th>\n",
       "      <td>101</td>\n",
       "      <td>2020-03-10</td>\n",
       "      <td>5</td>\n",
       "      <td>苏打水</td>\n",
       "      <td>饮料</td>\n",
       "      <td>China</td>\n",
       "    </tr>\n",
       "    <tr>\n",
       "      <th>1</th>\n",
       "      <td>102</td>\n",
       "      <td>2020-03-11</td>\n",
       "      <td>4</td>\n",
       "      <td>可乐</td>\n",
       "      <td>饮料</td>\n",
       "      <td>China</td>\n",
       "    </tr>\n",
       "    <tr>\n",
       "      <th>2</th>\n",
       "      <td>103</td>\n",
       "      <td>2020-03-12</td>\n",
       "      <td>65</td>\n",
       "      <td>牛肉干</td>\n",
       "      <td>零食</td>\n",
       "      <td>America</td>\n",
       "    </tr>\n",
       "    <tr>\n",
       "      <th>3</th>\n",
       "      <td>104</td>\n",
       "      <td>2020-03-13</td>\n",
       "      <td>-10</td>\n",
       "      <td>老干妈</td>\n",
       "      <td>调味品</td>\n",
       "      <td>China</td>\n",
       "    </tr>\n",
       "    <tr>\n",
       "      <th>4</th>\n",
       "      <td>105</td>\n",
       "      <td>2020-03-14</td>\n",
       "      <td>15</td>\n",
       "      <td>菠萝</td>\n",
       "      <td>水果</td>\n",
       "      <td>Thailand</td>\n",
       "    </tr>\n",
       "    <tr>\n",
       "      <th>5</th>\n",
       "      <td>106</td>\n",
       "      <td>2020-03-15</td>\n",
       "      <td>20</td>\n",
       "      <td>冰激凌</td>\n",
       "      <td>NaN</td>\n",
       "      <td>China</td>\n",
       "    </tr>\n",
       "    <tr>\n",
       "      <th>6</th>\n",
       "      <td>107</td>\n",
       "      <td>2020-03-16</td>\n",
       "      <td>35</td>\n",
       "      <td>洗面奶</td>\n",
       "      <td>日用品</td>\n",
       "      <td>america</td>\n",
       "    </tr>\n",
       "    <tr>\n",
       "      <th>7</th>\n",
       "      <td>108</td>\n",
       "      <td>2020-03-17</td>\n",
       "      <td>16</td>\n",
       "      <td>洋葱</td>\n",
       "      <td>蔬菜</td>\n",
       "      <td>China</td>\n",
       "    </tr>\n",
       "    <tr>\n",
       "      <th>8</th>\n",
       "      <td>109</td>\n",
       "      <td>2020-03-18</td>\n",
       "      <td>6</td>\n",
       "      <td>牙膏</td>\n",
       "      <td>日用品</td>\n",
       "      <td>China</td>\n",
       "    </tr>\n",
       "    <tr>\n",
       "      <th>9</th>\n",
       "      <td>110</td>\n",
       "      <td>2020-03-19</td>\n",
       "      <td>20</td>\n",
       "      <td>薯片</td>\n",
       "      <td>零食</td>\n",
       "      <td>Japan</td>\n",
       "    </tr>\n",
       "  </tbody>\n",
       "</table>\n",
       "</div>"
      ],
      "text/plain": [
       "    id       date  money product department    origin\n",
       "0  101 2020-03-10      5     苏打水         饮料     China\n",
       "1  102 2020-03-11      4      可乐         饮料     China\n",
       "2  103 2020-03-12     65     牛肉干         零食   America\n",
       "3  104 2020-03-13    -10     老干妈        调味品     China\n",
       "4  105 2020-03-14     15      菠萝         水果  Thailand\n",
       "5  106 2020-03-15     20     冰激凌        NaN     China\n",
       "6  107 2020-03-16     35     洗面奶        日用品   america\n",
       "7  108 2020-03-17     16      洋葱         蔬菜     China\n",
       "8  109 2020-03-18      6      牙膏        日用品     China\n",
       "9  110 2020-03-19     20      薯片         零食     Japan"
      ]
     },
     "execution_count": 2,
     "metadata": {},
     "output_type": "execute_result"
    }
   ],
   "source": [
    "data = pd.DataFrame({\n",
    "    \"id\":np.arange(101,111),                                # np.arange会自动输出范围内的数据，这里会输出101~110的id号。\n",
    "    \"date\":pd.date_range(start=\"20200310\",periods=10),      # 输出日期数据，设置周期为10，注意这里的周期数应该与数据条数相等。\n",
    "    \"money\":[5,4,65,-10,15,20,35,16,6,20],                  # 设置一个-10的坑，下面会填（好惨，自己给自己挖坑，幸亏不准备跳~）\n",
    "    \"product\":['苏打水','可乐','牛肉干','老干妈','菠萝','冰激凌','洗面奶','洋葱','牙膏','薯片'],\n",
    "    \"department\":['饮料','饮料','零食','调味品','水果',np.nan,'日用品','蔬菜','日用品','零食'],                # 再设置一个空值的坑\n",
    "    \"origin\":['China',' China','America','China','Thailand','China','america','China','China','Japan']     # 再再设置一个america的坑\n",
    "})\n",
    "data"
   ]
  },
  {
   "cell_type": "markdown",
   "metadata": {},
   "source": [
    "**数据写入和读取**"
   ]
  },
  {
   "cell_type": "code",
   "execution_count": 3,
   "metadata": {},
   "outputs": [],
   "source": [
    "data.to_csv(\"shopping.csv\", index=False)\n",
    "# index = False表示不加索引，否则会多一行索引\n",
    "data = pd.read_csv(\"shopping.csv\")"
   ]
  },
  {
   "cell_type": "markdown",
   "metadata": {},
   "source": [
    "### 3. 数据查看"
   ]
  },
  {
   "cell_type": "markdown",
   "metadata": {},
   "source": [
    "**数据集基础信息查询**"
   ]
  },
  {
   "cell_type": "code",
   "execution_count": 4,
   "metadata": {},
   "outputs": [
    {
     "data": {
      "text/plain": [
       "(10, 6)"
      ]
     },
     "execution_count": 4,
     "metadata": {},
     "output_type": "execute_result"
    }
   ],
   "source": [
    "# 数据的形状\n",
    "data.shape"
   ]
  },
  {
   "cell_type": "code",
   "execution_count": 5,
   "metadata": {},
   "outputs": [
    {
     "data": {
      "text/plain": [
       "id             int64\n",
       "date          object\n",
       "money          int64\n",
       "product       object\n",
       "department    object\n",
       "origin        object\n",
       "dtype: object"
      ]
     },
     "execution_count": 5,
     "metadata": {},
     "output_type": "execute_result"
    }
   ],
   "source": [
    "# 所有列的数据类型\n",
    "data.dtypes\n",
    "\n",
    "# 某一列的数据类型\n",
    "# data['id'].dtype      "
   ]
  },
  {
   "cell_type": "code",
   "execution_count": 6,
   "metadata": {},
   "outputs": [
    {
     "data": {
      "text/plain": [
       "2"
      ]
     },
     "execution_count": 6,
     "metadata": {},
     "output_type": "execute_result"
    }
   ],
   "source": [
    "# 数据的维度\n",
    "data.ndim"
   ]
  },
  {
   "cell_type": "code",
   "execution_count": 7,
   "metadata": {},
   "outputs": [
    {
     "data": {
      "text/plain": [
       "RangeIndex(start=0, stop=10, step=1)"
      ]
     },
     "execution_count": 7,
     "metadata": {},
     "output_type": "execute_result"
    }
   ],
   "source": [
    "# 行索引\n",
    "data.index"
   ]
  },
  {
   "cell_type": "code",
   "execution_count": 8,
   "metadata": {},
   "outputs": [
    {
     "data": {
      "text/plain": [
       "Index(['id', 'date', 'money', 'product', 'department', 'origin'], dtype='object')"
      ]
     },
     "execution_count": 8,
     "metadata": {},
     "output_type": "execute_result"
    }
   ],
   "source": [
    "# 列索引\n",
    "data.columns"
   ]
  },
  {
   "cell_type": "code",
   "execution_count": 9,
   "metadata": {},
   "outputs": [
    {
     "data": {
      "text/plain": [
       "array([[101, '2020-03-10', 5, '苏打水', '饮料', 'China'],\n",
       "       [102, '2020-03-11', 4, '可乐', '饮料', ' China'],\n",
       "       [103, '2020-03-12', 65, '牛肉干', '零食', 'America'],\n",
       "       [104, '2020-03-13', -10, '老干妈', '调味品', 'China'],\n",
       "       [105, '2020-03-14', 15, '菠萝', '水果', 'Thailand'],\n",
       "       [106, '2020-03-15', 20, '冰激凌', nan, 'China'],\n",
       "       [107, '2020-03-16', 35, '洗面奶', '日用品', 'america'],\n",
       "       [108, '2020-03-17', 16, '洋葱', '蔬菜', 'China'],\n",
       "       [109, '2020-03-18', 6, '牙膏', '日用品', 'China'],\n",
       "       [110, '2020-03-19', 20, '薯片', '零食', 'Japan']], dtype=object)"
      ]
     },
     "execution_count": 9,
     "metadata": {},
     "output_type": "execute_result"
    }
   ],
   "source": [
    "# 查看对象值\n",
    "data.values"
   ]
  },
  {
   "cell_type": "markdown",
   "metadata": {},
   "source": [
    "**数据集集体情况查询**"
   ]
  },
  {
   "cell_type": "code",
   "execution_count": 10,
   "metadata": {},
   "outputs": [
    {
     "data": {
      "text/html": [
       "<div>\n",
       "<style scoped>\n",
       "    .dataframe tbody tr th:only-of-type {\n",
       "        vertical-align: middle;\n",
       "    }\n",
       "\n",
       "    .dataframe tbody tr th {\n",
       "        vertical-align: top;\n",
       "    }\n",
       "\n",
       "    .dataframe thead th {\n",
       "        text-align: right;\n",
       "    }\n",
       "</style>\n",
       "<table border=\"1\" class=\"dataframe\">\n",
       "  <thead>\n",
       "    <tr style=\"text-align: right;\">\n",
       "      <th></th>\n",
       "      <th>id</th>\n",
       "      <th>date</th>\n",
       "      <th>money</th>\n",
       "      <th>product</th>\n",
       "      <th>department</th>\n",
       "      <th>origin</th>\n",
       "    </tr>\n",
       "  </thead>\n",
       "  <tbody>\n",
       "    <tr>\n",
       "      <th>0</th>\n",
       "      <td>101</td>\n",
       "      <td>2020-03-10</td>\n",
       "      <td>5</td>\n",
       "      <td>苏打水</td>\n",
       "      <td>饮料</td>\n",
       "      <td>China</td>\n",
       "    </tr>\n",
       "    <tr>\n",
       "      <th>1</th>\n",
       "      <td>102</td>\n",
       "      <td>2020-03-11</td>\n",
       "      <td>4</td>\n",
       "      <td>可乐</td>\n",
       "      <td>饮料</td>\n",
       "      <td>China</td>\n",
       "    </tr>\n",
       "    <tr>\n",
       "      <th>2</th>\n",
       "      <td>103</td>\n",
       "      <td>2020-03-12</td>\n",
       "      <td>65</td>\n",
       "      <td>牛肉干</td>\n",
       "      <td>零食</td>\n",
       "      <td>America</td>\n",
       "    </tr>\n",
       "    <tr>\n",
       "      <th>3</th>\n",
       "      <td>104</td>\n",
       "      <td>2020-03-13</td>\n",
       "      <td>-10</td>\n",
       "      <td>老干妈</td>\n",
       "      <td>调味品</td>\n",
       "      <td>China</td>\n",
       "    </tr>\n",
       "    <tr>\n",
       "      <th>4</th>\n",
       "      <td>105</td>\n",
       "      <td>2020-03-14</td>\n",
       "      <td>15</td>\n",
       "      <td>菠萝</td>\n",
       "      <td>水果</td>\n",
       "      <td>Thailand</td>\n",
       "    </tr>\n",
       "  </tbody>\n",
       "</table>\n",
       "</div>"
      ],
      "text/plain": [
       "    id        date  money product department    origin\n",
       "0  101  2020-03-10      5     苏打水         饮料     China\n",
       "1  102  2020-03-11      4      可乐         饮料     China\n",
       "2  103  2020-03-12     65     牛肉干         零食   America\n",
       "3  104  2020-03-13    -10     老干妈        调味品     China\n",
       "4  105  2020-03-14     15      菠萝         水果  Thailand"
      ]
     },
     "execution_count": 10,
     "metadata": {},
     "output_type": "execute_result"
    }
   ],
   "source": [
    "data.head() # 显示头部几行（默认5行）"
   ]
  },
  {
   "cell_type": "code",
   "execution_count": 11,
   "metadata": {},
   "outputs": [
    {
     "data": {
      "text/html": [
       "<div>\n",
       "<style scoped>\n",
       "    .dataframe tbody tr th:only-of-type {\n",
       "        vertical-align: middle;\n",
       "    }\n",
       "\n",
       "    .dataframe tbody tr th {\n",
       "        vertical-align: top;\n",
       "    }\n",
       "\n",
       "    .dataframe thead th {\n",
       "        text-align: right;\n",
       "    }\n",
       "</style>\n",
       "<table border=\"1\" class=\"dataframe\">\n",
       "  <thead>\n",
       "    <tr style=\"text-align: right;\">\n",
       "      <th></th>\n",
       "      <th>id</th>\n",
       "      <th>date</th>\n",
       "      <th>money</th>\n",
       "      <th>product</th>\n",
       "      <th>department</th>\n",
       "      <th>origin</th>\n",
       "    </tr>\n",
       "  </thead>\n",
       "  <tbody>\n",
       "    <tr>\n",
       "      <th>5</th>\n",
       "      <td>106</td>\n",
       "      <td>2020-03-15</td>\n",
       "      <td>20</td>\n",
       "      <td>冰激凌</td>\n",
       "      <td>NaN</td>\n",
       "      <td>China</td>\n",
       "    </tr>\n",
       "    <tr>\n",
       "      <th>6</th>\n",
       "      <td>107</td>\n",
       "      <td>2020-03-16</td>\n",
       "      <td>35</td>\n",
       "      <td>洗面奶</td>\n",
       "      <td>日用品</td>\n",
       "      <td>america</td>\n",
       "    </tr>\n",
       "    <tr>\n",
       "      <th>7</th>\n",
       "      <td>108</td>\n",
       "      <td>2020-03-17</td>\n",
       "      <td>16</td>\n",
       "      <td>洋葱</td>\n",
       "      <td>蔬菜</td>\n",
       "      <td>China</td>\n",
       "    </tr>\n",
       "    <tr>\n",
       "      <th>8</th>\n",
       "      <td>109</td>\n",
       "      <td>2020-03-18</td>\n",
       "      <td>6</td>\n",
       "      <td>牙膏</td>\n",
       "      <td>日用品</td>\n",
       "      <td>China</td>\n",
       "    </tr>\n",
       "    <tr>\n",
       "      <th>9</th>\n",
       "      <td>110</td>\n",
       "      <td>2020-03-19</td>\n",
       "      <td>20</td>\n",
       "      <td>薯片</td>\n",
       "      <td>零食</td>\n",
       "      <td>Japan</td>\n",
       "    </tr>\n",
       "  </tbody>\n",
       "</table>\n",
       "</div>"
      ],
      "text/plain": [
       "    id        date  money product department   origin\n",
       "5  106  2020-03-15     20     冰激凌        NaN    China\n",
       "6  107  2020-03-16     35     洗面奶        日用品  america\n",
       "7  108  2020-03-17     16      洋葱         蔬菜    China\n",
       "8  109  2020-03-18      6      牙膏        日用品    China\n",
       "9  110  2020-03-19     20      薯片         零食    Japan"
      ]
     },
     "execution_count": 11,
     "metadata": {},
     "output_type": "execute_result"
    }
   ],
   "source": [
    "data.tail() # 显示尾部几行（默认5行）"
   ]
  },
  {
   "cell_type": "code",
   "execution_count": 12,
   "metadata": {},
   "outputs": [
    {
     "name": "stdout",
     "output_type": "stream",
     "text": [
      "<class 'pandas.core.frame.DataFrame'>\n",
      "RangeIndex: 10 entries, 0 to 9\n",
      "Data columns (total 6 columns):\n",
      "id            10 non-null int64\n",
      "date          10 non-null object\n",
      "money         10 non-null int64\n",
      "product       10 non-null object\n",
      "department    9 non-null object\n",
      "origin        10 non-null object\n",
      "dtypes: int64(2), object(4)\n",
      "memory usage: 608.0+ bytes\n"
     ]
    }
   ],
   "source": [
    "data.info() # 数据集相关信息概览：索引情况、列数据类型、非空值、内存使用情况"
   ]
  },
  {
   "cell_type": "code",
   "execution_count": 13,
   "metadata": {},
   "outputs": [
    {
     "data": {
      "text/html": [
       "<div>\n",
       "<style scoped>\n",
       "    .dataframe tbody tr th:only-of-type {\n",
       "        vertical-align: middle;\n",
       "    }\n",
       "\n",
       "    .dataframe tbody tr th {\n",
       "        vertical-align: top;\n",
       "    }\n",
       "\n",
       "    .dataframe thead th {\n",
       "        text-align: right;\n",
       "    }\n",
       "</style>\n",
       "<table border=\"1\" class=\"dataframe\">\n",
       "  <thead>\n",
       "    <tr style=\"text-align: right;\">\n",
       "      <th></th>\n",
       "      <th>id</th>\n",
       "      <th>money</th>\n",
       "    </tr>\n",
       "  </thead>\n",
       "  <tbody>\n",
       "    <tr>\n",
       "      <th>count</th>\n",
       "      <td>10.00000</td>\n",
       "      <td>10.000000</td>\n",
       "    </tr>\n",
       "    <tr>\n",
       "      <th>mean</th>\n",
       "      <td>105.50000</td>\n",
       "      <td>17.600000</td>\n",
       "    </tr>\n",
       "    <tr>\n",
       "      <th>std</th>\n",
       "      <td>3.02765</td>\n",
       "      <td>20.576146</td>\n",
       "    </tr>\n",
       "    <tr>\n",
       "      <th>min</th>\n",
       "      <td>101.00000</td>\n",
       "      <td>-10.000000</td>\n",
       "    </tr>\n",
       "    <tr>\n",
       "      <th>25%</th>\n",
       "      <td>103.25000</td>\n",
       "      <td>5.250000</td>\n",
       "    </tr>\n",
       "    <tr>\n",
       "      <th>50%</th>\n",
       "      <td>105.50000</td>\n",
       "      <td>15.500000</td>\n",
       "    </tr>\n",
       "    <tr>\n",
       "      <th>75%</th>\n",
       "      <td>107.75000</td>\n",
       "      <td>20.000000</td>\n",
       "    </tr>\n",
       "    <tr>\n",
       "      <th>max</th>\n",
       "      <td>110.00000</td>\n",
       "      <td>65.000000</td>\n",
       "    </tr>\n",
       "  </tbody>\n",
       "</table>\n",
       "</div>"
      ],
      "text/plain": [
       "              id      money\n",
       "count   10.00000  10.000000\n",
       "mean   105.50000  17.600000\n",
       "std      3.02765  20.576146\n",
       "min    101.00000 -10.000000\n",
       "25%    103.25000   5.250000\n",
       "50%    105.50000  15.500000\n",
       "75%    107.75000  20.000000\n",
       "max    110.00000  65.000000"
      ]
     },
     "execution_count": 13,
     "metadata": {},
     "output_type": "execute_result"
    }
   ],
   "source": [
    "data.describe()    # 快速综合统计结果"
   ]
  },
  {
   "cell_type": "markdown",
   "metadata": {},
   "source": [
    "### 4. 数据清洗"
   ]
  },
  {
   "cell_type": "markdown",
   "metadata": {},
   "source": [
    "**查看异常值**"
   ]
  },
  {
   "cell_type": "code",
   "execution_count": 14,
   "metadata": {},
   "outputs": [
    {
     "name": "stdout",
     "output_type": "stream",
     "text": [
      "id: [101 102 103 104 105 106 107 108 109 110]\n",
      "date: ['2020-03-10' '2020-03-11' '2020-03-12' '2020-03-13' '2020-03-14'\n",
      " '2020-03-15' '2020-03-16' '2020-03-17' '2020-03-18' '2020-03-19']\n",
      "money: [  5   4  65 -10  15  20  35  16   6]\n",
      "product: ['苏打水' '可乐' '牛肉干' '老干妈' '菠萝' '冰激凌' '洗面奶' '洋葱' '牙膏' '薯片']\n",
      "department: ['饮料' '零食' '调味品' '水果' nan '日用品' '蔬菜']\n",
      "origin: ['China' ' China' 'America' 'Thailand' 'america' 'Japan']\n"
     ]
    }
   ],
   "source": [
    "# 当然，现在这个数据集很小，可以直观地发现异常值\n",
    "for i in data:\n",
    "    print(i+\": \"+str(data[i].unique()))   "
   ]
  },
  {
   "cell_type": "markdown",
   "metadata": {},
   "source": [
    "**空值检测**"
   ]
  },
  {
   "cell_type": "code",
   "execution_count": 15,
   "metadata": {},
   "outputs": [
    {
     "data": {
      "text/html": [
       "<div>\n",
       "<style scoped>\n",
       "    .dataframe tbody tr th:only-of-type {\n",
       "        vertical-align: middle;\n",
       "    }\n",
       "\n",
       "    .dataframe tbody tr th {\n",
       "        vertical-align: top;\n",
       "    }\n",
       "\n",
       "    .dataframe thead th {\n",
       "        text-align: right;\n",
       "    }\n",
       "</style>\n",
       "<table border=\"1\" class=\"dataframe\">\n",
       "  <thead>\n",
       "    <tr style=\"text-align: right;\">\n",
       "      <th></th>\n",
       "      <th>id</th>\n",
       "      <th>date</th>\n",
       "      <th>money</th>\n",
       "      <th>product</th>\n",
       "      <th>department</th>\n",
       "      <th>origin</th>\n",
       "    </tr>\n",
       "  </thead>\n",
       "  <tbody>\n",
       "    <tr>\n",
       "      <th>0</th>\n",
       "      <td>False</td>\n",
       "      <td>False</td>\n",
       "      <td>False</td>\n",
       "      <td>False</td>\n",
       "      <td>False</td>\n",
       "      <td>False</td>\n",
       "    </tr>\n",
       "    <tr>\n",
       "      <th>1</th>\n",
       "      <td>False</td>\n",
       "      <td>False</td>\n",
       "      <td>False</td>\n",
       "      <td>False</td>\n",
       "      <td>False</td>\n",
       "      <td>False</td>\n",
       "    </tr>\n",
       "    <tr>\n",
       "      <th>2</th>\n",
       "      <td>False</td>\n",
       "      <td>False</td>\n",
       "      <td>False</td>\n",
       "      <td>False</td>\n",
       "      <td>False</td>\n",
       "      <td>False</td>\n",
       "    </tr>\n",
       "    <tr>\n",
       "      <th>3</th>\n",
       "      <td>False</td>\n",
       "      <td>False</td>\n",
       "      <td>False</td>\n",
       "      <td>False</td>\n",
       "      <td>False</td>\n",
       "      <td>False</td>\n",
       "    </tr>\n",
       "    <tr>\n",
       "      <th>4</th>\n",
       "      <td>False</td>\n",
       "      <td>False</td>\n",
       "      <td>False</td>\n",
       "      <td>False</td>\n",
       "      <td>False</td>\n",
       "      <td>False</td>\n",
       "    </tr>\n",
       "    <tr>\n",
       "      <th>5</th>\n",
       "      <td>False</td>\n",
       "      <td>False</td>\n",
       "      <td>False</td>\n",
       "      <td>False</td>\n",
       "      <td>True</td>\n",
       "      <td>False</td>\n",
       "    </tr>\n",
       "    <tr>\n",
       "      <th>6</th>\n",
       "      <td>False</td>\n",
       "      <td>False</td>\n",
       "      <td>False</td>\n",
       "      <td>False</td>\n",
       "      <td>False</td>\n",
       "      <td>False</td>\n",
       "    </tr>\n",
       "    <tr>\n",
       "      <th>7</th>\n",
       "      <td>False</td>\n",
       "      <td>False</td>\n",
       "      <td>False</td>\n",
       "      <td>False</td>\n",
       "      <td>False</td>\n",
       "      <td>False</td>\n",
       "    </tr>\n",
       "    <tr>\n",
       "      <th>8</th>\n",
       "      <td>False</td>\n",
       "      <td>False</td>\n",
       "      <td>False</td>\n",
       "      <td>False</td>\n",
       "      <td>False</td>\n",
       "      <td>False</td>\n",
       "    </tr>\n",
       "    <tr>\n",
       "      <th>9</th>\n",
       "      <td>False</td>\n",
       "      <td>False</td>\n",
       "      <td>False</td>\n",
       "      <td>False</td>\n",
       "      <td>False</td>\n",
       "      <td>False</td>\n",
       "    </tr>\n",
       "  </tbody>\n",
       "</table>\n",
       "</div>"
      ],
      "text/plain": [
       "      id   date  money  product  department  origin\n",
       "0  False  False  False    False       False   False\n",
       "1  False  False  False    False       False   False\n",
       "2  False  False  False    False       False   False\n",
       "3  False  False  False    False       False   False\n",
       "4  False  False  False    False       False   False\n",
       "5  False  False  False    False        True   False\n",
       "6  False  False  False    False       False   False\n",
       "7  False  False  False    False       False   False\n",
       "8  False  False  False    False       False   False\n",
       "9  False  False  False    False       False   False"
      ]
     },
     "execution_count": 15,
     "metadata": {},
     "output_type": "execute_result"
    }
   ],
   "source": [
    "data.isnull()\n",
    "# data['department'].isnull()  # 查看某一列的空值"
   ]
  },
  {
   "cell_type": "code",
   "execution_count": 16,
   "metadata": {},
   "outputs": [
    {
     "data": {
      "text/plain": [
       "department    1\n",
       "origin        0\n",
       "product       0\n",
       "money         0\n",
       "date          0\n",
       "id            0\n",
       "dtype: int64"
      ]
     },
     "execution_count": 16,
     "metadata": {},
     "output_type": "execute_result"
    }
   ],
   "source": [
    "# 将空值判断进行汇总，更加直观，ascending默认为True，升序。\n",
    "data.isnull().sum().sort_values(ascending=False)"
   ]
  },
  {
   "cell_type": "code",
   "execution_count": 17,
   "metadata": {},
   "outputs": [
    {
     "data": {
      "text/html": [
       "<div>\n",
       "<style scoped>\n",
       "    .dataframe tbody tr th:only-of-type {\n",
       "        vertical-align: middle;\n",
       "    }\n",
       "\n",
       "    .dataframe tbody tr th {\n",
       "        vertical-align: top;\n",
       "    }\n",
       "\n",
       "    .dataframe thead th {\n",
       "        text-align: right;\n",
       "    }\n",
       "</style>\n",
       "<table border=\"1\" class=\"dataframe\">\n",
       "  <thead>\n",
       "    <tr style=\"text-align: right;\">\n",
       "      <th></th>\n",
       "      <th>num_legs</th>\n",
       "      <th>num_wings</th>\n",
       "    </tr>\n",
       "  </thead>\n",
       "  <tbody>\n",
       "    <tr>\n",
       "      <th>falcon</th>\n",
       "      <td>True</td>\n",
       "      <td>True</td>\n",
       "    </tr>\n",
       "    <tr>\n",
       "      <th>dog</th>\n",
       "      <td>False</td>\n",
       "      <td>False</td>\n",
       "    </tr>\n",
       "  </tbody>\n",
       "</table>\n",
       "</div>"
      ],
      "text/plain": [
       "        num_legs  num_wings\n",
       "falcon      True       True\n",
       "dog        False      False"
      ]
     },
     "execution_count": 17,
     "metadata": {},
     "output_type": "execute_result"
    }
   ],
   "source": [
    "# Detect missing values.\n",
    "# data.isna() \n",
    "\n",
    "# Whether each element in the DataFrame is contained in values.\n",
    "# data.isin()\n",
    "df = pd.DataFrame({'num_legs': [2, 4], 'num_wings': [2, 0]},\n",
    "                  index=['falcon', 'dog'])\n",
    "df.isin([2])"
   ]
  },
  {
   "cell_type": "markdown",
   "metadata": {},
   "source": [
    "**空值处理**"
   ]
  },
  {
   "cell_type": "code",
   "execution_count": 18,
   "metadata": {},
   "outputs": [
    {
     "data": {
      "text/plain": [
       "0     饮料\n",
       "1     饮料\n",
       "2     零食\n",
       "3    调味品\n",
       "4     水果\n",
       "5    日用品\n",
       "6    日用品\n",
       "7     蔬菜\n",
       "8    日用品\n",
       "9     零食\n",
       "Name: department, dtype: object"
      ]
     },
     "execution_count": 18,
     "metadata": {},
     "output_type": "execute_result"
    }
   ],
   "source": [
    "# pandas.DataFrame.fillna（value = None，method = None，inplace = False）\n",
    "\n",
    "# value：用于填充的值，可以是具体值、字典和数组，不能是列表；\n",
    "# method：填充方法，有 ffill(填充上一个值) 和 bfill（填充下一个值） 等；\n",
    "# inplace默认无False，如果为True，则将修改此对象上的所有其他视图。\n",
    "\n",
    "data['department'].fillna(method=\"bfill\")\n",
    "# 替换为具体值，并且在原对象值上进行修改\n",
    "# data['department'].fillna(value=\"冷冻食品\",inplace=True)    "
   ]
  },
  {
   "cell_type": "markdown",
   "metadata": {},
   "source": [
    "**空格处理**"
   ]
  },
  {
   "cell_type": "code",
   "execution_count": 19,
   "metadata": {},
   "outputs": [
    {
     "data": {
      "text/plain": [
       "array(['China', 'America', 'Thailand', 'america', 'Japan'], dtype=object)"
      ]
     },
     "execution_count": 19,
     "metadata": {},
     "output_type": "execute_result"
    }
   ],
   "source": [
    "for i in data:\n",
    "    if pd.api.types.is_object_dtype(data[i]):\n",
    "        data[i] = data[i].str.strip()\n",
    "data['origin'].unique()"
   ]
  },
  {
   "cell_type": "markdown",
   "metadata": {},
   "source": [
    "**大小写转换**"
   ]
  },
  {
   "cell_type": "code",
   "execution_count": 20,
   "metadata": {},
   "outputs": [],
   "source": [
    "# data['origin'].str.title()         # 将首字母大写\n",
    "# data['origin'].str.capitalize()    # 将首字母大写\n",
    "# data['origin'].str.upper()         # 全部大写\n",
    "# data['origin'].str.lower()         # 全部小写"
   ]
  },
  {
   "cell_type": "markdown",
   "metadata": {},
   "source": [
    "**数据替换**"
   ]
  },
  {
   "cell_type": "code",
   "execution_count": 21,
   "metadata": {},
   "outputs": [
    {
     "data": {
      "text/plain": [
       "0       China\n",
       "1       China\n",
       "2     America\n",
       "3       China\n",
       "4    Thailand\n",
       "5       China\n",
       "6     America\n",
       "7       China\n",
       "8       China\n",
       "9       Japan\n",
       "Name: origin, dtype: object"
      ]
     },
     "execution_count": 21,
     "metadata": {},
     "output_type": "execute_result"
    }
   ],
   "source": [
    "# 将 America 替换为 America\n",
    "data['origin'].replace(\"america\", \"America\", inplace=True)\n",
    "data['origin']"
   ]
  },
  {
   "cell_type": "code",
   "execution_count": 22,
   "metadata": {},
   "outputs": [
    {
     "data": {
      "text/plain": [
       "0     5.000000\n",
       "1     4.000000\n",
       "2    65.000000\n",
       "3    20.666667\n",
       "4    15.000000\n",
       "5    20.000000\n",
       "6    35.000000\n",
       "7    16.000000\n",
       "8     6.000000\n",
       "9    20.000000\n",
       "Name: money, dtype: float64"
      ]
     },
     "execution_count": 22,
     "metadata": {},
     "output_type": "execute_result"
    }
   ],
   "source": [
    "data['money'].replace(-10,np.nan,inplace=True)                    # 将负值替换为空值\n",
    "data['money'].replace(np.nan,data['money'].mean(),inplace=True)   # 将空值替换为均值\n",
    "data['money']"
   ]
  },
  {
   "cell_type": "markdown",
   "metadata": {},
   "source": [
    "**数据删除(方法一)**"
   ]
  },
  {
   "cell_type": "code",
   "execution_count": 23,
   "metadata": {},
   "outputs": [
    {
     "data": {
      "text/html": [
       "<div>\n",
       "<style scoped>\n",
       "    .dataframe tbody tr th:only-of-type {\n",
       "        vertical-align: middle;\n",
       "    }\n",
       "\n",
       "    .dataframe tbody tr th {\n",
       "        vertical-align: top;\n",
       "    }\n",
       "\n",
       "    .dataframe thead th {\n",
       "        text-align: right;\n",
       "    }\n",
       "</style>\n",
       "<table border=\"1\" class=\"dataframe\">\n",
       "  <thead>\n",
       "    <tr style=\"text-align: right;\">\n",
       "      <th></th>\n",
       "      <th>id</th>\n",
       "      <th>date</th>\n",
       "      <th>money</th>\n",
       "      <th>product</th>\n",
       "      <th>department</th>\n",
       "      <th>origin</th>\n",
       "    </tr>\n",
       "  </thead>\n",
       "  <tbody>\n",
       "    <tr>\n",
       "      <th>0</th>\n",
       "      <td>101</td>\n",
       "      <td>2020-03-10</td>\n",
       "      <td>5.000000</td>\n",
       "      <td>苏打水</td>\n",
       "      <td>饮料</td>\n",
       "      <td>China</td>\n",
       "    </tr>\n",
       "    <tr>\n",
       "      <th>1</th>\n",
       "      <td>102</td>\n",
       "      <td>2020-03-11</td>\n",
       "      <td>4.000000</td>\n",
       "      <td>可乐</td>\n",
       "      <td>饮料</td>\n",
       "      <td>China</td>\n",
       "    </tr>\n",
       "    <tr>\n",
       "      <th>3</th>\n",
       "      <td>104</td>\n",
       "      <td>2020-03-13</td>\n",
       "      <td>20.666667</td>\n",
       "      <td>老干妈</td>\n",
       "      <td>调味品</td>\n",
       "      <td>China</td>\n",
       "    </tr>\n",
       "    <tr>\n",
       "      <th>4</th>\n",
       "      <td>105</td>\n",
       "      <td>2020-03-14</td>\n",
       "      <td>15.000000</td>\n",
       "      <td>菠萝</td>\n",
       "      <td>水果</td>\n",
       "      <td>Thailand</td>\n",
       "    </tr>\n",
       "    <tr>\n",
       "      <th>5</th>\n",
       "      <td>106</td>\n",
       "      <td>2020-03-15</td>\n",
       "      <td>20.000000</td>\n",
       "      <td>冰激凌</td>\n",
       "      <td>NaN</td>\n",
       "      <td>China</td>\n",
       "    </tr>\n",
       "    <tr>\n",
       "      <th>7</th>\n",
       "      <td>108</td>\n",
       "      <td>2020-03-17</td>\n",
       "      <td>16.000000</td>\n",
       "      <td>洋葱</td>\n",
       "      <td>蔬菜</td>\n",
       "      <td>China</td>\n",
       "    </tr>\n",
       "    <tr>\n",
       "      <th>8</th>\n",
       "      <td>109</td>\n",
       "      <td>2020-03-18</td>\n",
       "      <td>6.000000</td>\n",
       "      <td>牙膏</td>\n",
       "      <td>日用品</td>\n",
       "      <td>China</td>\n",
       "    </tr>\n",
       "    <tr>\n",
       "      <th>9</th>\n",
       "      <td>110</td>\n",
       "      <td>2020-03-19</td>\n",
       "      <td>20.000000</td>\n",
       "      <td>薯片</td>\n",
       "      <td>零食</td>\n",
       "      <td>Japan</td>\n",
       "    </tr>\n",
       "  </tbody>\n",
       "</table>\n",
       "</div>"
      ],
      "text/plain": [
       "    id        date      money product department    origin\n",
       "0  101  2020-03-10   5.000000     苏打水         饮料     China\n",
       "1  102  2020-03-11   4.000000      可乐         饮料     China\n",
       "3  104  2020-03-13  20.666667     老干妈        调味品     China\n",
       "4  105  2020-03-14  15.000000      菠萝         水果  Thailand\n",
       "5  106  2020-03-15  20.000000     冰激凌        NaN     China\n",
       "7  108  2020-03-17  16.000000      洋葱         蔬菜     China\n",
       "8  109  2020-03-18   6.000000      牙膏        日用品     China\n",
       "9  110  2020-03-19  20.000000      薯片         零食     Japan"
      ]
     },
     "execution_count": 23,
     "metadata": {},
     "output_type": "execute_result"
    }
   ],
   "source": [
    "#去掉 origin 为 American 的行\n",
    "data1 = data[data.origin != 'America']\n",
    "data1"
   ]
  },
  {
   "cell_type": "code",
   "execution_count": 24,
   "metadata": {},
   "outputs": [
    {
     "name": "stderr",
     "output_type": "stream",
     "text": [
      "/home/js/pyEnvs/tf_cpu/lib/python3.6/site-packages/pandas/core/ops/__init__.py:1115: FutureWarning: elementwise comparison failed; returning scalar instead, but in the future will perform elementwise comparison\n",
      "  result = method(y)\n"
     ]
    },
    {
     "data": {
      "text/html": [
       "<div>\n",
       "<style scoped>\n",
       "    .dataframe tbody tr th:only-of-type {\n",
       "        vertical-align: middle;\n",
       "    }\n",
       "\n",
       "    .dataframe tbody tr th {\n",
       "        vertical-align: top;\n",
       "    }\n",
       "\n",
       "    .dataframe thead th {\n",
       "        text-align: right;\n",
       "    }\n",
       "</style>\n",
       "<table border=\"1\" class=\"dataframe\">\n",
       "  <thead>\n",
       "    <tr style=\"text-align: right;\">\n",
       "      <th></th>\n",
       "      <th>id</th>\n",
       "      <th>date</th>\n",
       "      <th>money</th>\n",
       "      <th>product</th>\n",
       "      <th>department</th>\n",
       "      <th>origin</th>\n",
       "    </tr>\n",
       "  </thead>\n",
       "  <tbody>\n",
       "    <tr>\n",
       "      <th>0</th>\n",
       "      <td>101</td>\n",
       "      <td>2020-03-10</td>\n",
       "      <td>5.000000</td>\n",
       "      <td>苏打水</td>\n",
       "      <td>饮料</td>\n",
       "      <td>China</td>\n",
       "    </tr>\n",
       "    <tr>\n",
       "      <th>1</th>\n",
       "      <td>102</td>\n",
       "      <td>2020-03-11</td>\n",
       "      <td>4.000000</td>\n",
       "      <td>可乐</td>\n",
       "      <td>饮料</td>\n",
       "      <td>China</td>\n",
       "    </tr>\n",
       "    <tr>\n",
       "      <th>2</th>\n",
       "      <td>103</td>\n",
       "      <td>2020-03-12</td>\n",
       "      <td>65.000000</td>\n",
       "      <td>牛肉干</td>\n",
       "      <td>零食</td>\n",
       "      <td>America</td>\n",
       "    </tr>\n",
       "    <tr>\n",
       "      <th>3</th>\n",
       "      <td>104</td>\n",
       "      <td>2020-03-13</td>\n",
       "      <td>20.666667</td>\n",
       "      <td>老干妈</td>\n",
       "      <td>调味品</td>\n",
       "      <td>China</td>\n",
       "    </tr>\n",
       "    <tr>\n",
       "      <th>4</th>\n",
       "      <td>105</td>\n",
       "      <td>2020-03-14</td>\n",
       "      <td>15.000000</td>\n",
       "      <td>菠萝</td>\n",
       "      <td>水果</td>\n",
       "      <td>Thailand</td>\n",
       "    </tr>\n",
       "    <tr>\n",
       "      <th>5</th>\n",
       "      <td>106</td>\n",
       "      <td>2020-03-15</td>\n",
       "      <td>20.000000</td>\n",
       "      <td>冰激凌</td>\n",
       "      <td>NaN</td>\n",
       "      <td>China</td>\n",
       "    </tr>\n",
       "    <tr>\n",
       "      <th>6</th>\n",
       "      <td>107</td>\n",
       "      <td>2020-03-16</td>\n",
       "      <td>35.000000</td>\n",
       "      <td>洗面奶</td>\n",
       "      <td>日用品</td>\n",
       "      <td>America</td>\n",
       "    </tr>\n",
       "    <tr>\n",
       "      <th>7</th>\n",
       "      <td>108</td>\n",
       "      <td>2020-03-17</td>\n",
       "      <td>16.000000</td>\n",
       "      <td>洋葱</td>\n",
       "      <td>蔬菜</td>\n",
       "      <td>China</td>\n",
       "    </tr>\n",
       "    <tr>\n",
       "      <th>8</th>\n",
       "      <td>109</td>\n",
       "      <td>2020-03-18</td>\n",
       "      <td>6.000000</td>\n",
       "      <td>牙膏</td>\n",
       "      <td>日用品</td>\n",
       "      <td>China</td>\n",
       "    </tr>\n",
       "  </tbody>\n",
       "</table>\n",
       "</div>"
      ],
      "text/plain": [
       "    id        date      money product department    origin\n",
       "0  101  2020-03-10   5.000000     苏打水         饮料     China\n",
       "1  102  2020-03-11   4.000000      可乐         饮料     China\n",
       "2  103  2020-03-12  65.000000     牛肉干         零食   America\n",
       "3  104  2020-03-13  20.666667     老干妈        调味品     China\n",
       "4  105  2020-03-14  15.000000      菠萝         水果  Thailand\n",
       "5  106  2020-03-15  20.000000     冰激凌        NaN     China\n",
       "6  107  2020-03-16  35.000000     洗面奶        日用品   America\n",
       "7  108  2020-03-17  16.000000      洋葱         蔬菜     China\n",
       "8  109  2020-03-18   6.000000      牙膏        日用品     China"
      ]
     },
     "execution_count": 24,
     "metadata": {},
     "output_type": "execute_result"
    }
   ],
   "source": [
    "#去掉所有包含Japan的行    不等于Japan的行为真，则返回\n",
    "data2=data[(data != 'Japan').all(1)]    \n",
    "data2"
   ]
  },
  {
   "cell_type": "markdown",
   "metadata": {},
   "source": [
    "**数据删除(方法2)**"
   ]
  },
  {
   "cell_type": "code",
   "execution_count": 25,
   "metadata": {},
   "outputs": [
    {
     "data": {
      "text/plain": [
       "0       China\n",
       "2     America\n",
       "4    Thailand\n",
       "9       Japan\n",
       "Name: origin, dtype: object"
      ]
     },
     "execution_count": 25,
     "metadata": {},
     "output_type": "execute_result"
    }
   ],
   "source": [
    "# # 默认删除后面出现的重复值，即保留第一次出现的重复值\n",
    "data['origin'].drop_duplicates()\n",
    "\n",
    "# 删除前面出现的重复值，即保留最后一次出现的重复值\n",
    "# data['origin'].drop_duplicates(keep='last')"
   ]
  },
  {
   "cell_type": "code",
   "execution_count": 26,
   "metadata": {},
   "outputs": [
    {
     "data": {
      "text/html": [
       "<div>\n",
       "<style scoped>\n",
       "    .dataframe tbody tr th:only-of-type {\n",
       "        vertical-align: middle;\n",
       "    }\n",
       "\n",
       "    .dataframe tbody tr th {\n",
       "        vertical-align: top;\n",
       "    }\n",
       "\n",
       "    .dataframe thead th {\n",
       "        text-align: right;\n",
       "    }\n",
       "</style>\n",
       "<table border=\"1\" class=\"dataframe\">\n",
       "  <thead>\n",
       "    <tr style=\"text-align: right;\">\n",
       "      <th></th>\n",
       "      <th>id</th>\n",
       "      <th>date</th>\n",
       "      <th>money</th>\n",
       "      <th>product</th>\n",
       "      <th>department</th>\n",
       "      <th>origin</th>\n",
       "    </tr>\n",
       "  </thead>\n",
       "  <tbody>\n",
       "    <tr>\n",
       "      <th>0</th>\n",
       "      <td>101</td>\n",
       "      <td>2020-03-10</td>\n",
       "      <td>5.000000</td>\n",
       "      <td>苏打水</td>\n",
       "      <td>饮料</td>\n",
       "      <td>China</td>\n",
       "    </tr>\n",
       "    <tr>\n",
       "      <th>1</th>\n",
       "      <td>102</td>\n",
       "      <td>2020-03-11</td>\n",
       "      <td>4.000000</td>\n",
       "      <td>可乐</td>\n",
       "      <td>饮料</td>\n",
       "      <td>China</td>\n",
       "    </tr>\n",
       "    <tr>\n",
       "      <th>2</th>\n",
       "      <td>103</td>\n",
       "      <td>2020-03-12</td>\n",
       "      <td>65.000000</td>\n",
       "      <td>牛肉干</td>\n",
       "      <td>零食</td>\n",
       "      <td>America</td>\n",
       "    </tr>\n",
       "    <tr>\n",
       "      <th>3</th>\n",
       "      <td>104</td>\n",
       "      <td>2020-03-13</td>\n",
       "      <td>20.666667</td>\n",
       "      <td>老干妈</td>\n",
       "      <td>调味品</td>\n",
       "      <td>China</td>\n",
       "    </tr>\n",
       "    <tr>\n",
       "      <th>4</th>\n",
       "      <td>105</td>\n",
       "      <td>2020-03-14</td>\n",
       "      <td>15.000000</td>\n",
       "      <td>菠萝</td>\n",
       "      <td>水果</td>\n",
       "      <td>Thailand</td>\n",
       "    </tr>\n",
       "    <tr>\n",
       "      <th>5</th>\n",
       "      <td>106</td>\n",
       "      <td>2020-03-15</td>\n",
       "      <td>20.000000</td>\n",
       "      <td>冰激凌</td>\n",
       "      <td>NaN</td>\n",
       "      <td>China</td>\n",
       "    </tr>\n",
       "    <tr>\n",
       "      <th>6</th>\n",
       "      <td>107</td>\n",
       "      <td>2020-03-16</td>\n",
       "      <td>35.000000</td>\n",
       "      <td>洗面奶</td>\n",
       "      <td>日用品</td>\n",
       "      <td>America</td>\n",
       "    </tr>\n",
       "    <tr>\n",
       "      <th>7</th>\n",
       "      <td>108</td>\n",
       "      <td>2020-03-17</td>\n",
       "      <td>16.000000</td>\n",
       "      <td>洋葱</td>\n",
       "      <td>蔬菜</td>\n",
       "      <td>China</td>\n",
       "    </tr>\n",
       "    <tr>\n",
       "      <th>8</th>\n",
       "      <td>109</td>\n",
       "      <td>2020-03-18</td>\n",
       "      <td>6.000000</td>\n",
       "      <td>牙膏</td>\n",
       "      <td>日用品</td>\n",
       "      <td>China</td>\n",
       "    </tr>\n",
       "    <tr>\n",
       "      <th>9</th>\n",
       "      <td>110</td>\n",
       "      <td>2020-03-19</td>\n",
       "      <td>20.000000</td>\n",
       "      <td>薯片</td>\n",
       "      <td>零食</td>\n",
       "      <td>Japan</td>\n",
       "    </tr>\n",
       "  </tbody>\n",
       "</table>\n",
       "</div>"
      ],
      "text/plain": [
       "    id        date      money product department    origin\n",
       "0  101  2020-03-10   5.000000     苏打水         饮料     China\n",
       "1  102  2020-03-11   4.000000      可乐         饮料     China\n",
       "2  103  2020-03-12  65.000000     牛肉干         零食   America\n",
       "3  104  2020-03-13  20.666667     老干妈        调味品     China\n",
       "4  105  2020-03-14  15.000000      菠萝         水果  Thailand\n",
       "5  106  2020-03-15  20.000000     冰激凌        NaN     China\n",
       "6  107  2020-03-16  35.000000     洗面奶        日用品   America\n",
       "7  108  2020-03-17  16.000000      洋葱         蔬菜     China\n",
       "8  109  2020-03-18   6.000000      牙膏        日用品     China\n",
       "9  110  2020-03-19  20.000000      薯片         零食     Japan"
      ]
     },
     "execution_count": 26,
     "metadata": {},
     "output_type": "execute_result"
    }
   ],
   "source": [
    "data"
   ]
  },
  {
   "cell_type": "markdown",
   "metadata": {},
   "source": [
    "**数据格式转换**"
   ]
  },
  {
   "cell_type": "code",
   "execution_count": 27,
   "metadata": {},
   "outputs": [],
   "source": [
    "data3 = data['id'].astype('str')    # 将id列的类型转换为字符串类型。"
   ]
  },
  {
   "cell_type": "markdown",
   "metadata": {},
   "source": [
    "**更改列名称**"
   ]
  },
  {
   "cell_type": "code",
   "execution_count": 28,
   "metadata": {},
   "outputs": [],
   "source": [
    "data4 = data.rename(columns={'id':'ID', 'origin':'产地'})     # 将id列改为ID，将origin改为产地。"
   ]
  },
  {
   "cell_type": "code",
   "execution_count": 29,
   "metadata": {},
   "outputs": [
    {
     "data": {
      "text/html": [
       "<div>\n",
       "<style scoped>\n",
       "    .dataframe tbody tr th:only-of-type {\n",
       "        vertical-align: middle;\n",
       "    }\n",
       "\n",
       "    .dataframe tbody tr th {\n",
       "        vertical-align: top;\n",
       "    }\n",
       "\n",
       "    .dataframe thead th {\n",
       "        text-align: right;\n",
       "    }\n",
       "</style>\n",
       "<table border=\"1\" class=\"dataframe\">\n",
       "  <thead>\n",
       "    <tr style=\"text-align: right;\">\n",
       "      <th></th>\n",
       "      <th>ID</th>\n",
       "      <th>date</th>\n",
       "      <th>money</th>\n",
       "      <th>product</th>\n",
       "      <th>department</th>\n",
       "      <th>产地</th>\n",
       "    </tr>\n",
       "  </thead>\n",
       "  <tbody>\n",
       "    <tr>\n",
       "      <th>0</th>\n",
       "      <td>101</td>\n",
       "      <td>2020-03-10</td>\n",
       "      <td>5.000000</td>\n",
       "      <td>苏打水</td>\n",
       "      <td>饮料</td>\n",
       "      <td>China</td>\n",
       "    </tr>\n",
       "    <tr>\n",
       "      <th>1</th>\n",
       "      <td>102</td>\n",
       "      <td>2020-03-11</td>\n",
       "      <td>4.000000</td>\n",
       "      <td>可乐</td>\n",
       "      <td>饮料</td>\n",
       "      <td>China</td>\n",
       "    </tr>\n",
       "    <tr>\n",
       "      <th>2</th>\n",
       "      <td>103</td>\n",
       "      <td>2020-03-12</td>\n",
       "      <td>65.000000</td>\n",
       "      <td>牛肉干</td>\n",
       "      <td>零食</td>\n",
       "      <td>America</td>\n",
       "    </tr>\n",
       "    <tr>\n",
       "      <th>3</th>\n",
       "      <td>104</td>\n",
       "      <td>2020-03-13</td>\n",
       "      <td>20.666667</td>\n",
       "      <td>老干妈</td>\n",
       "      <td>调味品</td>\n",
       "      <td>China</td>\n",
       "    </tr>\n",
       "    <tr>\n",
       "      <th>4</th>\n",
       "      <td>105</td>\n",
       "      <td>2020-03-14</td>\n",
       "      <td>15.000000</td>\n",
       "      <td>菠萝</td>\n",
       "      <td>水果</td>\n",
       "      <td>Thailand</td>\n",
       "    </tr>\n",
       "    <tr>\n",
       "      <th>5</th>\n",
       "      <td>106</td>\n",
       "      <td>2020-03-15</td>\n",
       "      <td>20.000000</td>\n",
       "      <td>冰激凌</td>\n",
       "      <td>NaN</td>\n",
       "      <td>China</td>\n",
       "    </tr>\n",
       "    <tr>\n",
       "      <th>6</th>\n",
       "      <td>107</td>\n",
       "      <td>2020-03-16</td>\n",
       "      <td>35.000000</td>\n",
       "      <td>洗面奶</td>\n",
       "      <td>日用品</td>\n",
       "      <td>America</td>\n",
       "    </tr>\n",
       "    <tr>\n",
       "      <th>7</th>\n",
       "      <td>108</td>\n",
       "      <td>2020-03-17</td>\n",
       "      <td>16.000000</td>\n",
       "      <td>洋葱</td>\n",
       "      <td>蔬菜</td>\n",
       "      <td>China</td>\n",
       "    </tr>\n",
       "    <tr>\n",
       "      <th>8</th>\n",
       "      <td>109</td>\n",
       "      <td>2020-03-18</td>\n",
       "      <td>6.000000</td>\n",
       "      <td>牙膏</td>\n",
       "      <td>日用品</td>\n",
       "      <td>China</td>\n",
       "    </tr>\n",
       "    <tr>\n",
       "      <th>9</th>\n",
       "      <td>110</td>\n",
       "      <td>2020-03-19</td>\n",
       "      <td>20.000000</td>\n",
       "      <td>薯片</td>\n",
       "      <td>零食</td>\n",
       "      <td>Japan</td>\n",
       "    </tr>\n",
       "  </tbody>\n",
       "</table>\n",
       "</div>"
      ],
      "text/plain": [
       "    ID        date      money product department        产地\n",
       "0  101  2020-03-10   5.000000     苏打水         饮料     China\n",
       "1  102  2020-03-11   4.000000      可乐         饮料     China\n",
       "2  103  2020-03-12  65.000000     牛肉干         零食   America\n",
       "3  104  2020-03-13  20.666667     老干妈        调味品     China\n",
       "4  105  2020-03-14  15.000000      菠萝         水果  Thailand\n",
       "5  106  2020-03-15  20.000000     冰激凌        NaN     China\n",
       "6  107  2020-03-16  35.000000     洗面奶        日用品   America\n",
       "7  108  2020-03-17  16.000000      洋葱         蔬菜     China\n",
       "8  109  2020-03-18   6.000000      牙膏        日用品     China\n",
       "9  110  2020-03-19  20.000000      薯片         零食     Japan"
      ]
     },
     "execution_count": 29,
     "metadata": {},
     "output_type": "execute_result"
    }
   ],
   "source": [
    "data4"
   ]
  },
  {
   "cell_type": "code",
   "execution_count": null,
   "metadata": {},
   "outputs": [],
   "source": []
  }
 ],
 "metadata": {
  "kernelspec": {
   "display_name": "Python 3",
   "language": "python",
   "name": "python3"
  },
  "language_info": {
   "codemirror_mode": {
    "name": "ipython",
    "version": 3
   },
   "file_extension": ".py",
   "mimetype": "text/x-python",
   "name": "python",
   "nbconvert_exporter": "python",
   "pygments_lexer": "ipython3",
   "version": "3.6.9"
  }
 },
 "nbformat": 4,
 "nbformat_minor": 2
}
