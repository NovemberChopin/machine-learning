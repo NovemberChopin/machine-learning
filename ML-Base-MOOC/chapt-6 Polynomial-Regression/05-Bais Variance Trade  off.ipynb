{
 "cells": [
  {
   "cell_type": "markdown",
   "metadata": {},
   "source": [
    "# 偏差方差权衡"
   ]
  },
  {
   "cell_type": "markdown",
   "metadata": {},
   "source": [
    "[![8wiqBQ.md.png](https://s1.ax1x.com/2020/03/18/8wiqBQ.md.png)](https://imgchr.com/i/8wiqBQ)"
   ]
  },
  {
   "cell_type": "markdown",
   "metadata": {},
   "source": [
    "- 模型误差 = 偏差（Bias） + 方差（Variance）+ 不可避免的误差"
   ]
  },
  {
   "cell_type": "markdown",
   "metadata": {},
   "source": [
    "- 导致偏差的主要原因：\n",
    "      - 对问题本身的假设不正确，如：非线性数据使用线性回归\n",
    "      - 欠拟合（underfitting）\n",
    "- 导致方差的主要原因：\n",
    "      - 模型太复杂\n",
    "      - 过拟合（overfitting）\n",
    "\n",
    "- 有一些数据天生是高方差算法，如kNN\n",
    "    - 非参数学习通常都是高方差的算法，因为不对数据进行任何假设（高度依赖数据）\n",
    "- 有一些算法天生是高偏差算法，如线性回归\n",
    "- **参数学习通常都是高偏差算法**。因为对数据具有极强的假设\n",
    "\n",
    "- 通常：\n",
    "      - 降低方差，会提高方差\n",
    "      - 降低方差，会提高偏差\n",
    "\n",
    "- 机器学习主要挑战：方差。解决高方差的手段：\n",
    "      - 降低模型复杂度\n",
    "      - 减少数据维度，降噪\n",
    "      - 增加样本数\n",
    "      - 使用验证集\n",
    "      - 模型正则化"
   ]
  }
 ],
 "metadata": {
  "kernelspec": {
   "display_name": "Python 3",
   "language": "python",
   "name": "python3"
  },
  "language_info": {
   "codemirror_mode": {
    "name": "ipython",
    "version": 3
   },
   "file_extension": ".py",
   "mimetype": "text/x-python",
   "name": "python",
   "nbconvert_exporter": "python",
   "pygments_lexer": "ipython3",
   "version": "3.6.9"
  }
 },
 "nbformat": 4,
 "nbformat_minor": 2
}
