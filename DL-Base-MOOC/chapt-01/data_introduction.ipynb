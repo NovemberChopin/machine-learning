{
 "cells": [
  {
   "cell_type": "code",
   "execution_count": 10,
   "metadata": {},
   "outputs": [],
   "source": [
    "import cPickle\n",
    "import numpy as np\n",
    "import os"
   ]
  },
  {
   "cell_type": "code",
   "execution_count": 11,
   "metadata": {},
   "outputs": [
    {
     "name": "stdout",
     "output_type": "stream",
     "text": [
      "['readme.html', 'data_batch_3', 'data_batch_4', 'batches.meta', 'data_batch_2', 'data_batch_1', 'test_batch', 'data_batch_5']\n"
     ]
    }
   ],
   "source": [
    "CIFAR_DIR = \"./cifar-10-batches-py\"\n",
    "print os.listdir(CIFAR_DIR)"
   ]
  },
  {
   "cell_type": "code",
   "execution_count": 12,
   "metadata": {},
   "outputs": [
    {
     "name": "stdout",
     "output_type": "stream",
     "text": [
      "<type 'dict'>\n",
      "['data', 'labels', 'batch_label', 'filenames']\n",
      "<type 'numpy.ndarray'>\n",
      "<type 'list'>\n",
      "<type 'str'>\n",
      "<type 'list'>\n",
      "(10000, 3072)\n",
      "[[ 59  43  50 ... 140  84  72]\n",
      " [154 126 105 ... 139 142 144]]\n",
      "[6, 9]\n",
      "training batch 1 of 5\n",
      "['leptodactylus_pentadactylus_s_000004.png', 'camion_s_000148.png']\n"
     ]
    }
   ],
   "source": [
    "with open(os.path.join(CIFAR_DIR, \"data_batch_1\"), 'rb') as f:\n",
    "    data = cPickle.load(f)\n",
    "    print type(data)\n",
    "    print data.keys()\n",
    "    print type(data['data'])\n",
    "    print type(data['labels'])\n",
    "    print type(data['batch_label'])\n",
    "    print type(data['filenames'])\n",
    "    print data['data'].shape\n",
    "    print data['data'][:2]\n",
    "    print data['labels'][:2]\n",
    "    print data['batch_label']\n",
    "    print data['filenames'][:2]\n",
    "\n",
    "# 32 * 32 = 1024 * 3 = 3072\n",
    "# RR-GG-BB"
   ]
  },
  {
   "cell_type": "code",
   "execution_count": 16,
   "metadata": {},
   "outputs": [
    {
     "data": {
      "text/plain": [
       "<matplotlib.image.AxesImage at 0x7f9c7994ab50>"
      ]
     },
     "execution_count": 16,
     "metadata": {},
     "output_type": "execute_result"
    },
    {
     "data": {
      "image/png": "[encoded data removed]",
      "text/plain": [
       "<Figure size 432x288 with 1 Axes>"
      ]
     },
     "metadata": {
      "needs_background": "light"
     },
     "output_type": "display_data"
    }
   ],
   "source": [
    "image_arr = data['data'][100]\n",
    "image_arr = image_arr.reshape((3, 32, 32)) # 32 32 3\n",
    "image_arr = image_arr.transpose((1, 2, 0))\n",
    "\n",
    "import matplotlib.pyplot as plt\n",
    "from matplotlib.pyplot import imshow\n",
    "\n",
    "imshow(image_arr)"
   ]
  },
  {
   "cell_type": "code",
   "execution_count": null,
   "metadata": {},
   "outputs": [],
   "source": []
  }
 ],
 "metadata": {
  "kernelspec": {
   "display_name": "Python 2",
   "language": "python",
   "name": "python2"
  },
  "language_info": {
   "codemirror_mode": {
    "name": "ipython",
    "version": 2
   },
   "file_extension": ".py",
   "mimetype": "text/x-python",
   "name": "python",
   "nbconvert_exporter": "python",
   "pygments_lexer": "ipython2",
   "version": "2.7.15+"
  }
 },
 "nbformat": 4,
 "nbformat_minor": 2
}
